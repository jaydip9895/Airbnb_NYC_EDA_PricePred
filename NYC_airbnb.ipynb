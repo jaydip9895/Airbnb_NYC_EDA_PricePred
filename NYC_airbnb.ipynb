{
 "cells": [
  {
   "cell_type": "code",
   "execution_count": 1,
   "metadata": {},
   "outputs": [],
   "source": [
    "import pandas as pd\n",
    "import numpy as np\n",
    "import matplotlib.pyplot as plt\n",
    "import seaborn as sns\n",
    "%matplotlib inline"
   ]
  },
  {
   "cell_type": "code",
   "execution_count": 2,
   "metadata": {},
   "outputs": [],
   "source": [
    "nyc = pd.read_csv('NYC.csv')"
   ]
  },
  {
   "cell_type": "code",
   "execution_count": 3,
   "metadata": {},
   "outputs": [
    {
     "data": {
      "text/html": [
       "<div>\n",
       "<style scoped>\n",
       "    .dataframe tbody tr th:only-of-type {\n",
       "        vertical-align: middle;\n",
       "    }\n",
       "\n",
       "    .dataframe tbody tr th {\n",
       "        vertical-align: top;\n",
       "    }\n",
       "\n",
       "    .dataframe thead th {\n",
       "        text-align: right;\n",
       "    }\n",
       "</style>\n",
       "<table border=\"1\" class=\"dataframe\">\n",
       "  <thead>\n",
       "    <tr style=\"text-align: right;\">\n",
       "      <th></th>\n",
       "      <th>id</th>\n",
       "      <th>host_id</th>\n",
       "      <th>latitude</th>\n",
       "      <th>longitude</th>\n",
       "      <th>price</th>\n",
       "      <th>minimum_nights</th>\n",
       "      <th>number_of_reviews</th>\n",
       "      <th>reviews_per_month</th>\n",
       "      <th>calculated_host_listings_count</th>\n",
       "      <th>availability_365</th>\n",
       "    </tr>\n",
       "  </thead>\n",
       "  <tbody>\n",
       "    <tr>\n",
       "      <td>count</td>\n",
       "      <td>4.889500e+04</td>\n",
       "      <td>4.889500e+04</td>\n",
       "      <td>48895.000000</td>\n",
       "      <td>48895.000000</td>\n",
       "      <td>48895.000000</td>\n",
       "      <td>48895.000000</td>\n",
       "      <td>48895.000000</td>\n",
       "      <td>38843.000000</td>\n",
       "      <td>48895.000000</td>\n",
       "      <td>48895.000000</td>\n",
       "    </tr>\n",
       "    <tr>\n",
       "      <td>mean</td>\n",
       "      <td>1.901714e+07</td>\n",
       "      <td>6.762001e+07</td>\n",
       "      <td>40.728949</td>\n",
       "      <td>-73.952170</td>\n",
       "      <td>152.720687</td>\n",
       "      <td>7.029962</td>\n",
       "      <td>23.274466</td>\n",
       "      <td>1.373221</td>\n",
       "      <td>7.143982</td>\n",
       "      <td>112.781327</td>\n",
       "    </tr>\n",
       "    <tr>\n",
       "      <td>std</td>\n",
       "      <td>1.098311e+07</td>\n",
       "      <td>7.861097e+07</td>\n",
       "      <td>0.054530</td>\n",
       "      <td>0.046157</td>\n",
       "      <td>240.154170</td>\n",
       "      <td>20.510550</td>\n",
       "      <td>44.550582</td>\n",
       "      <td>1.680442</td>\n",
       "      <td>32.952519</td>\n",
       "      <td>131.622289</td>\n",
       "    </tr>\n",
       "    <tr>\n",
       "      <td>min</td>\n",
       "      <td>2.539000e+03</td>\n",
       "      <td>2.438000e+03</td>\n",
       "      <td>40.499790</td>\n",
       "      <td>-74.244420</td>\n",
       "      <td>0.000000</td>\n",
       "      <td>1.000000</td>\n",
       "      <td>0.000000</td>\n",
       "      <td>0.010000</td>\n",
       "      <td>1.000000</td>\n",
       "      <td>0.000000</td>\n",
       "    </tr>\n",
       "    <tr>\n",
       "      <td>25%</td>\n",
       "      <td>9.471945e+06</td>\n",
       "      <td>7.822033e+06</td>\n",
       "      <td>40.690100</td>\n",
       "      <td>-73.983070</td>\n",
       "      <td>69.000000</td>\n",
       "      <td>1.000000</td>\n",
       "      <td>1.000000</td>\n",
       "      <td>0.190000</td>\n",
       "      <td>1.000000</td>\n",
       "      <td>0.000000</td>\n",
       "    </tr>\n",
       "    <tr>\n",
       "      <td>50%</td>\n",
       "      <td>1.967728e+07</td>\n",
       "      <td>3.079382e+07</td>\n",
       "      <td>40.723070</td>\n",
       "      <td>-73.955680</td>\n",
       "      <td>106.000000</td>\n",
       "      <td>3.000000</td>\n",
       "      <td>5.000000</td>\n",
       "      <td>0.720000</td>\n",
       "      <td>1.000000</td>\n",
       "      <td>45.000000</td>\n",
       "    </tr>\n",
       "    <tr>\n",
       "      <td>75%</td>\n",
       "      <td>2.915218e+07</td>\n",
       "      <td>1.074344e+08</td>\n",
       "      <td>40.763115</td>\n",
       "      <td>-73.936275</td>\n",
       "      <td>175.000000</td>\n",
       "      <td>5.000000</td>\n",
       "      <td>24.000000</td>\n",
       "      <td>2.020000</td>\n",
       "      <td>2.000000</td>\n",
       "      <td>227.000000</td>\n",
       "    </tr>\n",
       "    <tr>\n",
       "      <td>max</td>\n",
       "      <td>3.648724e+07</td>\n",
       "      <td>2.743213e+08</td>\n",
       "      <td>40.913060</td>\n",
       "      <td>-73.712990</td>\n",
       "      <td>10000.000000</td>\n",
       "      <td>1250.000000</td>\n",
       "      <td>629.000000</td>\n",
       "      <td>58.500000</td>\n",
       "      <td>327.000000</td>\n",
       "      <td>365.000000</td>\n",
       "    </tr>\n",
       "  </tbody>\n",
       "</table>\n",
       "</div>"
      ],
      "text/plain": [
       "                 id       host_id      latitude     longitude         price  \\\n",
       "count  4.889500e+04  4.889500e+04  48895.000000  48895.000000  48895.000000   \n",
       "mean   1.901714e+07  6.762001e+07     40.728949    -73.952170    152.720687   \n",
       "std    1.098311e+07  7.861097e+07      0.054530      0.046157    240.154170   \n",
       "min    2.539000e+03  2.438000e+03     40.499790    -74.244420      0.000000   \n",
       "25%    9.471945e+06  7.822033e+06     40.690100    -73.983070     69.000000   \n",
       "50%    1.967728e+07  3.079382e+07     40.723070    -73.955680    106.000000   \n",
       "75%    2.915218e+07  1.074344e+08     40.763115    -73.936275    175.000000   \n",
       "max    3.648724e+07  2.743213e+08     40.913060    -73.712990  10000.000000   \n",
       "\n",
       "       minimum_nights  number_of_reviews  reviews_per_month  \\\n",
       "count    48895.000000       48895.000000       38843.000000   \n",
       "mean         7.029962          23.274466           1.373221   \n",
       "std         20.510550          44.550582           1.680442   \n",
       "min          1.000000           0.000000           0.010000   \n",
       "25%          1.000000           1.000000           0.190000   \n",
       "50%          3.000000           5.000000           0.720000   \n",
       "75%          5.000000          24.000000           2.020000   \n",
       "max       1250.000000         629.000000          58.500000   \n",
       "\n",
       "       calculated_host_listings_count  availability_365  \n",
       "count                    48895.000000      48895.000000  \n",
       "mean                         7.143982        112.781327  \n",
       "std                         32.952519        131.622289  \n",
       "min                          1.000000          0.000000  \n",
       "25%                          1.000000          0.000000  \n",
       "50%                          1.000000         45.000000  \n",
       "75%                          2.000000        227.000000  \n",
       "max                        327.000000        365.000000  "
      ]
     },
     "execution_count": 3,
     "metadata": {},
     "output_type": "execute_result"
    }
   ],
   "source": [
    "nyc.describe()"
   ]
  },
  {
   "cell_type": "code",
   "execution_count": 4,
   "metadata": {},
   "outputs": [
    {
     "name": "stdout",
     "output_type": "stream",
     "text": [
      "<class 'pandas.core.frame.DataFrame'>\n",
      "RangeIndex: 48895 entries, 0 to 48894\n",
      "Data columns (total 16 columns):\n",
      "id                                48895 non-null int64\n",
      "name                              48879 non-null object\n",
      "host_id                           48895 non-null int64\n",
      "host_name                         48874 non-null object\n",
      "neighbourhood_group               48895 non-null object\n",
      "neighbourhood                     48895 non-null object\n",
      "latitude                          48895 non-null float64\n",
      "longitude                         48895 non-null float64\n",
      "room_type                         48895 non-null object\n",
      "price                             48895 non-null int64\n",
      "minimum_nights                    48895 non-null int64\n",
      "number_of_reviews                 48895 non-null int64\n",
      "last_review                       38843 non-null object\n",
      "reviews_per_month                 38843 non-null float64\n",
      "calculated_host_listings_count    48895 non-null int64\n",
      "availability_365                  48895 non-null int64\n",
      "dtypes: float64(3), int64(7), object(6)\n",
      "memory usage: 6.0+ MB\n"
     ]
    }
   ],
   "source": [
    "nyc.info()"
   ]
  },
  {
   "cell_type": "code",
   "execution_count": 5,
   "metadata": {},
   "outputs": [],
   "source": [
    "nyc = nyc.drop(['id','host_id','name','host_name','last_review','neighbourhood_group','neighbourhood'],axis=1)"
   ]
  },
  {
   "cell_type": "code",
   "execution_count": 6,
   "metadata": {},
   "outputs": [
    {
     "data": {
      "text/html": [
       "<div>\n",
       "<style scoped>\n",
       "    .dataframe tbody tr th:only-of-type {\n",
       "        vertical-align: middle;\n",
       "    }\n",
       "\n",
       "    .dataframe tbody tr th {\n",
       "        vertical-align: top;\n",
       "    }\n",
       "\n",
       "    .dataframe thead th {\n",
       "        text-align: right;\n",
       "    }\n",
       "</style>\n",
       "<table border=\"1\" class=\"dataframe\">\n",
       "  <thead>\n",
       "    <tr style=\"text-align: right;\">\n",
       "      <th></th>\n",
       "      <th>latitude</th>\n",
       "      <th>longitude</th>\n",
       "      <th>room_type</th>\n",
       "      <th>price</th>\n",
       "      <th>minimum_nights</th>\n",
       "      <th>number_of_reviews</th>\n",
       "      <th>reviews_per_month</th>\n",
       "      <th>calculated_host_listings_count</th>\n",
       "      <th>availability_365</th>\n",
       "    </tr>\n",
       "  </thead>\n",
       "  <tbody>\n",
       "    <tr>\n",
       "      <td>0</td>\n",
       "      <td>40.64749</td>\n",
       "      <td>-73.97237</td>\n",
       "      <td>Private room</td>\n",
       "      <td>149</td>\n",
       "      <td>1</td>\n",
       "      <td>9</td>\n",
       "      <td>0.21</td>\n",
       "      <td>6</td>\n",
       "      <td>365</td>\n",
       "    </tr>\n",
       "    <tr>\n",
       "      <td>1</td>\n",
       "      <td>40.75362</td>\n",
       "      <td>-73.98377</td>\n",
       "      <td>Entire home/apt</td>\n",
       "      <td>225</td>\n",
       "      <td>1</td>\n",
       "      <td>45</td>\n",
       "      <td>0.38</td>\n",
       "      <td>2</td>\n",
       "      <td>355</td>\n",
       "    </tr>\n",
       "    <tr>\n",
       "      <td>2</td>\n",
       "      <td>40.80902</td>\n",
       "      <td>-73.94190</td>\n",
       "      <td>Private room</td>\n",
       "      <td>150</td>\n",
       "      <td>3</td>\n",
       "      <td>0</td>\n",
       "      <td>NaN</td>\n",
       "      <td>1</td>\n",
       "      <td>365</td>\n",
       "    </tr>\n",
       "    <tr>\n",
       "      <td>3</td>\n",
       "      <td>40.68514</td>\n",
       "      <td>-73.95976</td>\n",
       "      <td>Entire home/apt</td>\n",
       "      <td>89</td>\n",
       "      <td>1</td>\n",
       "      <td>270</td>\n",
       "      <td>4.64</td>\n",
       "      <td>1</td>\n",
       "      <td>194</td>\n",
       "    </tr>\n",
       "    <tr>\n",
       "      <td>4</td>\n",
       "      <td>40.79851</td>\n",
       "      <td>-73.94399</td>\n",
       "      <td>Entire home/apt</td>\n",
       "      <td>80</td>\n",
       "      <td>10</td>\n",
       "      <td>9</td>\n",
       "      <td>0.10</td>\n",
       "      <td>1</td>\n",
       "      <td>0</td>\n",
       "    </tr>\n",
       "  </tbody>\n",
       "</table>\n",
       "</div>"
      ],
      "text/plain": [
       "   latitude  longitude        room_type  price  minimum_nights  \\\n",
       "0  40.64749  -73.97237     Private room    149               1   \n",
       "1  40.75362  -73.98377  Entire home/apt    225               1   \n",
       "2  40.80902  -73.94190     Private room    150               3   \n",
       "3  40.68514  -73.95976  Entire home/apt     89               1   \n",
       "4  40.79851  -73.94399  Entire home/apt     80              10   \n",
       "\n",
       "   number_of_reviews  reviews_per_month  calculated_host_listings_count  \\\n",
       "0                  9               0.21                               6   \n",
       "1                 45               0.38                               2   \n",
       "2                  0                NaN                               1   \n",
       "3                270               4.64                               1   \n",
       "4                  9               0.10                               1   \n",
       "\n",
       "   availability_365  \n",
       "0               365  \n",
       "1               355  \n",
       "2               365  \n",
       "3               194  \n",
       "4                 0  "
      ]
     },
     "execution_count": 6,
     "metadata": {},
     "output_type": "execute_result"
    }
   ],
   "source": [
    "nyc.head()"
   ]
  },
  {
   "cell_type": "code",
   "execution_count": 7,
   "metadata": {},
   "outputs": [
    {
     "name": "stdout",
     "output_type": "stream",
     "text": [
      "<class 'pandas.core.frame.DataFrame'>\n",
      "RangeIndex: 48895 entries, 0 to 48894\n",
      "Data columns (total 9 columns):\n",
      "latitude                          48895 non-null float64\n",
      "longitude                         48895 non-null float64\n",
      "room_type                         48895 non-null object\n",
      "price                             48895 non-null int64\n",
      "minimum_nights                    48895 non-null int64\n",
      "number_of_reviews                 48895 non-null int64\n",
      "reviews_per_month                 38843 non-null float64\n",
      "calculated_host_listings_count    48895 non-null int64\n",
      "availability_365                  48895 non-null int64\n",
      "dtypes: float64(3), int64(5), object(1)\n",
      "memory usage: 3.4+ MB\n"
     ]
    }
   ],
   "source": [
    "nyc.info()"
   ]
  },
  {
   "cell_type": "code",
   "execution_count": 8,
   "metadata": {},
   "outputs": [
    {
     "data": {
      "text/plain": [
       "0        0.21\n",
       "1        0.38\n",
       "2         NaN\n",
       "3        4.64\n",
       "4        0.10\n",
       "         ... \n",
       "48890     NaN\n",
       "48891     NaN\n",
       "48892     NaN\n",
       "48893     NaN\n",
       "48894     NaN\n",
       "Name: reviews_per_month, Length: 48895, dtype: float64"
      ]
     },
     "execution_count": 8,
     "metadata": {},
     "output_type": "execute_result"
    }
   ],
   "source": [
    "nyc['reviews_per_month']"
   ]
  },
  {
   "cell_type": "code",
   "execution_count": 9,
   "metadata": {},
   "outputs": [],
   "source": [
    "#fill null value\n",
    "df = nyc.fillna(0)"
   ]
  },
  {
   "cell_type": "code",
   "execution_count": 10,
   "metadata": {},
   "outputs": [
    {
     "data": {
      "text/html": [
       "<div>\n",
       "<style scoped>\n",
       "    .dataframe tbody tr th:only-of-type {\n",
       "        vertical-align: middle;\n",
       "    }\n",
       "\n",
       "    .dataframe tbody tr th {\n",
       "        vertical-align: top;\n",
       "    }\n",
       "\n",
       "    .dataframe thead th {\n",
       "        text-align: right;\n",
       "    }\n",
       "</style>\n",
       "<table border=\"1\" class=\"dataframe\">\n",
       "  <thead>\n",
       "    <tr style=\"text-align: right;\">\n",
       "      <th></th>\n",
       "      <th>latitude</th>\n",
       "      <th>longitude</th>\n",
       "      <th>room_type</th>\n",
       "      <th>price</th>\n",
       "      <th>minimum_nights</th>\n",
       "      <th>number_of_reviews</th>\n",
       "      <th>reviews_per_month</th>\n",
       "      <th>calculated_host_listings_count</th>\n",
       "      <th>availability_365</th>\n",
       "    </tr>\n",
       "  </thead>\n",
       "  <tbody>\n",
       "    <tr>\n",
       "      <td>0</td>\n",
       "      <td>40.64749</td>\n",
       "      <td>-73.97237</td>\n",
       "      <td>Private room</td>\n",
       "      <td>149</td>\n",
       "      <td>1</td>\n",
       "      <td>9</td>\n",
       "      <td>0.21</td>\n",
       "      <td>6</td>\n",
       "      <td>365</td>\n",
       "    </tr>\n",
       "    <tr>\n",
       "      <td>1</td>\n",
       "      <td>40.75362</td>\n",
       "      <td>-73.98377</td>\n",
       "      <td>Entire home/apt</td>\n",
       "      <td>225</td>\n",
       "      <td>1</td>\n",
       "      <td>45</td>\n",
       "      <td>0.38</td>\n",
       "      <td>2</td>\n",
       "      <td>355</td>\n",
       "    </tr>\n",
       "    <tr>\n",
       "      <td>2</td>\n",
       "      <td>40.80902</td>\n",
       "      <td>-73.94190</td>\n",
       "      <td>Private room</td>\n",
       "      <td>150</td>\n",
       "      <td>3</td>\n",
       "      <td>0</td>\n",
       "      <td>0.00</td>\n",
       "      <td>1</td>\n",
       "      <td>365</td>\n",
       "    </tr>\n",
       "    <tr>\n",
       "      <td>3</td>\n",
       "      <td>40.68514</td>\n",
       "      <td>-73.95976</td>\n",
       "      <td>Entire home/apt</td>\n",
       "      <td>89</td>\n",
       "      <td>1</td>\n",
       "      <td>270</td>\n",
       "      <td>4.64</td>\n",
       "      <td>1</td>\n",
       "      <td>194</td>\n",
       "    </tr>\n",
       "    <tr>\n",
       "      <td>4</td>\n",
       "      <td>40.79851</td>\n",
       "      <td>-73.94399</td>\n",
       "      <td>Entire home/apt</td>\n",
       "      <td>80</td>\n",
       "      <td>10</td>\n",
       "      <td>9</td>\n",
       "      <td>0.10</td>\n",
       "      <td>1</td>\n",
       "      <td>0</td>\n",
       "    </tr>\n",
       "  </tbody>\n",
       "</table>\n",
       "</div>"
      ],
      "text/plain": [
       "   latitude  longitude        room_type  price  minimum_nights  \\\n",
       "0  40.64749  -73.97237     Private room    149               1   \n",
       "1  40.75362  -73.98377  Entire home/apt    225               1   \n",
       "2  40.80902  -73.94190     Private room    150               3   \n",
       "3  40.68514  -73.95976  Entire home/apt     89               1   \n",
       "4  40.79851  -73.94399  Entire home/apt     80              10   \n",
       "\n",
       "   number_of_reviews  reviews_per_month  calculated_host_listings_count  \\\n",
       "0                  9               0.21                               6   \n",
       "1                 45               0.38                               2   \n",
       "2                  0               0.00                               1   \n",
       "3                270               4.64                               1   \n",
       "4                  9               0.10                               1   \n",
       "\n",
       "   availability_365  \n",
       "0               365  \n",
       "1               355  \n",
       "2               365  \n",
       "3               194  \n",
       "4                 0  "
      ]
     },
     "execution_count": 10,
     "metadata": {},
     "output_type": "execute_result"
    }
   ],
   "source": [
    "df.head()"
   ]
  },
  {
   "cell_type": "code",
   "execution_count": 11,
   "metadata": {},
   "outputs": [
    {
     "data": {
      "text/plain": [
       "array(['Private room', 'Entire home/apt', 'Shared room'], dtype=object)"
      ]
     },
     "execution_count": 11,
     "metadata": {},
     "output_type": "execute_result"
    }
   ],
   "source": [
    "df['room_type'].unique()"
   ]
  },
  {
   "cell_type": "code",
   "execution_count": 12,
   "metadata": {},
   "outputs": [],
   "source": [
    "roomtype = pd.DataFrame(columns = ['Private room', 'Entire home/apt', 'Shared room'],index=df.index)\n",
    "for i in range(len(df)):\n",
    "    if df['room_type'][i] == 'Private room':\n",
    "        roomtype['Private room'][i] = 1\n",
    "        roomtype['Entire home/apt'][i] = 0\n",
    "        roomtype['Shared room'][i] = 0\n",
    "    elif df['room_type'][i] == 'Entire home/apt':\n",
    "        roomtype['Private room'][i] = 0\n",
    "        roomtype['Entire home/apt'][i] = 1\n",
    "        roomtype['Shared room'][i] = 0\n",
    "    else:\n",
    "        roomtype['Private room'][i] = 0\n",
    "        roomtype['Entire home/apt'][i] = 0\n",
    "        roomtype['Shared room'][i] = 1"
   ]
  },
  {
   "cell_type": "code",
   "execution_count": 13,
   "metadata": {},
   "outputs": [
    {
     "data": {
      "text/html": [
       "<div>\n",
       "<style scoped>\n",
       "    .dataframe tbody tr th:only-of-type {\n",
       "        vertical-align: middle;\n",
       "    }\n",
       "\n",
       "    .dataframe tbody tr th {\n",
       "        vertical-align: top;\n",
       "    }\n",
       "\n",
       "    .dataframe thead th {\n",
       "        text-align: right;\n",
       "    }\n",
       "</style>\n",
       "<table border=\"1\" class=\"dataframe\">\n",
       "  <thead>\n",
       "    <tr style=\"text-align: right;\">\n",
       "      <th></th>\n",
       "      <th>Private room</th>\n",
       "      <th>Entire home/apt</th>\n",
       "      <th>Shared room</th>\n",
       "    </tr>\n",
       "  </thead>\n",
       "  <tbody>\n",
       "    <tr>\n",
       "      <td>0</td>\n",
       "      <td>1</td>\n",
       "      <td>0</td>\n",
       "      <td>0</td>\n",
       "    </tr>\n",
       "    <tr>\n",
       "      <td>1</td>\n",
       "      <td>0</td>\n",
       "      <td>1</td>\n",
       "      <td>0</td>\n",
       "    </tr>\n",
       "    <tr>\n",
       "      <td>2</td>\n",
       "      <td>1</td>\n",
       "      <td>0</td>\n",
       "      <td>0</td>\n",
       "    </tr>\n",
       "    <tr>\n",
       "      <td>3</td>\n",
       "      <td>0</td>\n",
       "      <td>1</td>\n",
       "      <td>0</td>\n",
       "    </tr>\n",
       "    <tr>\n",
       "      <td>4</td>\n",
       "      <td>0</td>\n",
       "      <td>1</td>\n",
       "      <td>0</td>\n",
       "    </tr>\n",
       "  </tbody>\n",
       "</table>\n",
       "</div>"
      ],
      "text/plain": [
       "  Private room Entire home/apt Shared room\n",
       "0            1               0           0\n",
       "1            0               1           0\n",
       "2            1               0           0\n",
       "3            0               1           0\n",
       "4            0               1           0"
      ]
     },
     "execution_count": 13,
     "metadata": {},
     "output_type": "execute_result"
    }
   ],
   "source": [
    "roomtype.head()"
   ]
  },
  {
   "cell_type": "code",
   "execution_count": 14,
   "metadata": {},
   "outputs": [],
   "source": [
    "df_1 = pd.concat([df, roomtype], axis=1)\n",
    "nyc_df = df_1.drop(['room_type'], axis=1)"
   ]
  },
  {
   "cell_type": "code",
   "execution_count": 15,
   "metadata": {},
   "outputs": [
    {
     "data": {
      "text/html": [
       "<div>\n",
       "<style scoped>\n",
       "    .dataframe tbody tr th:only-of-type {\n",
       "        vertical-align: middle;\n",
       "    }\n",
       "\n",
       "    .dataframe tbody tr th {\n",
       "        vertical-align: top;\n",
       "    }\n",
       "\n",
       "    .dataframe thead th {\n",
       "        text-align: right;\n",
       "    }\n",
       "</style>\n",
       "<table border=\"1\" class=\"dataframe\">\n",
       "  <thead>\n",
       "    <tr style=\"text-align: right;\">\n",
       "      <th></th>\n",
       "      <th>latitude</th>\n",
       "      <th>longitude</th>\n",
       "      <th>price</th>\n",
       "      <th>minimum_nights</th>\n",
       "      <th>number_of_reviews</th>\n",
       "      <th>reviews_per_month</th>\n",
       "      <th>calculated_host_listings_count</th>\n",
       "      <th>availability_365</th>\n",
       "      <th>Private room</th>\n",
       "      <th>Entire home/apt</th>\n",
       "      <th>Shared room</th>\n",
       "    </tr>\n",
       "  </thead>\n",
       "  <tbody>\n",
       "    <tr>\n",
       "      <td>0</td>\n",
       "      <td>40.64749</td>\n",
       "      <td>-73.97237</td>\n",
       "      <td>149</td>\n",
       "      <td>1</td>\n",
       "      <td>9</td>\n",
       "      <td>0.21</td>\n",
       "      <td>6</td>\n",
       "      <td>365</td>\n",
       "      <td>1</td>\n",
       "      <td>0</td>\n",
       "      <td>0</td>\n",
       "    </tr>\n",
       "    <tr>\n",
       "      <td>1</td>\n",
       "      <td>40.75362</td>\n",
       "      <td>-73.98377</td>\n",
       "      <td>225</td>\n",
       "      <td>1</td>\n",
       "      <td>45</td>\n",
       "      <td>0.38</td>\n",
       "      <td>2</td>\n",
       "      <td>355</td>\n",
       "      <td>0</td>\n",
       "      <td>1</td>\n",
       "      <td>0</td>\n",
       "    </tr>\n",
       "    <tr>\n",
       "      <td>2</td>\n",
       "      <td>40.80902</td>\n",
       "      <td>-73.94190</td>\n",
       "      <td>150</td>\n",
       "      <td>3</td>\n",
       "      <td>0</td>\n",
       "      <td>0.00</td>\n",
       "      <td>1</td>\n",
       "      <td>365</td>\n",
       "      <td>1</td>\n",
       "      <td>0</td>\n",
       "      <td>0</td>\n",
       "    </tr>\n",
       "    <tr>\n",
       "      <td>3</td>\n",
       "      <td>40.68514</td>\n",
       "      <td>-73.95976</td>\n",
       "      <td>89</td>\n",
       "      <td>1</td>\n",
       "      <td>270</td>\n",
       "      <td>4.64</td>\n",
       "      <td>1</td>\n",
       "      <td>194</td>\n",
       "      <td>0</td>\n",
       "      <td>1</td>\n",
       "      <td>0</td>\n",
       "    </tr>\n",
       "    <tr>\n",
       "      <td>4</td>\n",
       "      <td>40.79851</td>\n",
       "      <td>-73.94399</td>\n",
       "      <td>80</td>\n",
       "      <td>10</td>\n",
       "      <td>9</td>\n",
       "      <td>0.10</td>\n",
       "      <td>1</td>\n",
       "      <td>0</td>\n",
       "      <td>0</td>\n",
       "      <td>1</td>\n",
       "      <td>0</td>\n",
       "    </tr>\n",
       "  </tbody>\n",
       "</table>\n",
       "</div>"
      ],
      "text/plain": [
       "   latitude  longitude  price  minimum_nights  number_of_reviews  \\\n",
       "0  40.64749  -73.97237    149               1                  9   \n",
       "1  40.75362  -73.98377    225               1                 45   \n",
       "2  40.80902  -73.94190    150               3                  0   \n",
       "3  40.68514  -73.95976     89               1                270   \n",
       "4  40.79851  -73.94399     80              10                  9   \n",
       "\n",
       "   reviews_per_month  calculated_host_listings_count  availability_365  \\\n",
       "0               0.21                               6               365   \n",
       "1               0.38                               2               355   \n",
       "2               0.00                               1               365   \n",
       "3               4.64                               1               194   \n",
       "4               0.10                               1                 0   \n",
       "\n",
       "  Private room Entire home/apt Shared room  \n",
       "0            1               0           0  \n",
       "1            0               1           0  \n",
       "2            1               0           0  \n",
       "3            0               1           0  \n",
       "4            0               1           0  "
      ]
     },
     "execution_count": 15,
     "metadata": {},
     "output_type": "execute_result"
    }
   ],
   "source": [
    "nyc_df.head()"
   ]
  },
  {
   "cell_type": "code",
   "execution_count": 16,
   "metadata": {},
   "outputs": [],
   "source": [
    "#normalise the dataset\n",
    "from sklearn import preprocessing\n",
    "a = nyc_df.drop(['price'],axis=1)\n",
    "x = a.values                                      #returns a numpy array\n",
    "min_max_scaler = preprocessing.MinMaxScaler()\n",
    "x_scaled = min_max_scaler.fit_transform(x)\n",
    "col=['latitude','longitude','minimum_nights','number_of_reviews','reviews_per_month','calculated_host_listings_count','availability_365','Private room','Entire home/apt','Shared room']\n",
    "df = pd.DataFrame(x_scaled, columns=col)"
   ]
  },
  {
   "cell_type": "code",
   "execution_count": 17,
   "metadata": {},
   "outputs": [
    {
     "data": {
      "text/html": [
       "<div>\n",
       "<style scoped>\n",
       "    .dataframe tbody tr th:only-of-type {\n",
       "        vertical-align: middle;\n",
       "    }\n",
       "\n",
       "    .dataframe tbody tr th {\n",
       "        vertical-align: top;\n",
       "    }\n",
       "\n",
       "    .dataframe thead th {\n",
       "        text-align: right;\n",
       "    }\n",
       "</style>\n",
       "<table border=\"1\" class=\"dataframe\">\n",
       "  <thead>\n",
       "    <tr style=\"text-align: right;\">\n",
       "      <th></th>\n",
       "      <th>latitude</th>\n",
       "      <th>longitude</th>\n",
       "      <th>minimum_nights</th>\n",
       "      <th>number_of_reviews</th>\n",
       "      <th>reviews_per_month</th>\n",
       "      <th>calculated_host_listings_count</th>\n",
       "      <th>availability_365</th>\n",
       "      <th>Private room</th>\n",
       "      <th>Entire home/apt</th>\n",
       "      <th>Shared room</th>\n",
       "    </tr>\n",
       "  </thead>\n",
       "  <tbody>\n",
       "    <tr>\n",
       "      <td>0</td>\n",
       "      <td>0.357393</td>\n",
       "      <td>0.511921</td>\n",
       "      <td>0.000000</td>\n",
       "      <td>0.014308</td>\n",
       "      <td>0.003590</td>\n",
       "      <td>0.015337</td>\n",
       "      <td>1.000000</td>\n",
       "      <td>1.0</td>\n",
       "      <td>0.0</td>\n",
       "      <td>0.0</td>\n",
       "    </tr>\n",
       "    <tr>\n",
       "      <td>1</td>\n",
       "      <td>0.614199</td>\n",
       "      <td>0.490469</td>\n",
       "      <td>0.000000</td>\n",
       "      <td>0.071542</td>\n",
       "      <td>0.006496</td>\n",
       "      <td>0.003067</td>\n",
       "      <td>0.972603</td>\n",
       "      <td>0.0</td>\n",
       "      <td>1.0</td>\n",
       "      <td>0.0</td>\n",
       "    </tr>\n",
       "    <tr>\n",
       "      <td>2</td>\n",
       "      <td>0.748252</td>\n",
       "      <td>0.569257</td>\n",
       "      <td>0.001601</td>\n",
       "      <td>0.000000</td>\n",
       "      <td>0.000000</td>\n",
       "      <td>0.000000</td>\n",
       "      <td>1.000000</td>\n",
       "      <td>1.0</td>\n",
       "      <td>0.0</td>\n",
       "      <td>0.0</td>\n",
       "    </tr>\n",
       "    <tr>\n",
       "      <td>3</td>\n",
       "      <td>0.448496</td>\n",
       "      <td>0.535649</td>\n",
       "      <td>0.000000</td>\n",
       "      <td>0.429253</td>\n",
       "      <td>0.079316</td>\n",
       "      <td>0.000000</td>\n",
       "      <td>0.531507</td>\n",
       "      <td>0.0</td>\n",
       "      <td>1.0</td>\n",
       "      <td>0.0</td>\n",
       "    </tr>\n",
       "    <tr>\n",
       "      <td>4</td>\n",
       "      <td>0.722820</td>\n",
       "      <td>0.565324</td>\n",
       "      <td>0.007206</td>\n",
       "      <td>0.014308</td>\n",
       "      <td>0.001709</td>\n",
       "      <td>0.000000</td>\n",
       "      <td>0.000000</td>\n",
       "      <td>0.0</td>\n",
       "      <td>1.0</td>\n",
       "      <td>0.0</td>\n",
       "    </tr>\n",
       "  </tbody>\n",
       "</table>\n",
       "</div>"
      ],
      "text/plain": [
       "   latitude  longitude  minimum_nights  number_of_reviews  reviews_per_month  \\\n",
       "0  0.357393   0.511921        0.000000           0.014308           0.003590   \n",
       "1  0.614199   0.490469        0.000000           0.071542           0.006496   \n",
       "2  0.748252   0.569257        0.001601           0.000000           0.000000   \n",
       "3  0.448496   0.535649        0.000000           0.429253           0.079316   \n",
       "4  0.722820   0.565324        0.007206           0.014308           0.001709   \n",
       "\n",
       "   calculated_host_listings_count  availability_365  Private room  \\\n",
       "0                        0.015337          1.000000           1.0   \n",
       "1                        0.003067          0.972603           0.0   \n",
       "2                        0.000000          1.000000           1.0   \n",
       "3                        0.000000          0.531507           0.0   \n",
       "4                        0.000000          0.000000           0.0   \n",
       "\n",
       "   Entire home/apt  Shared room  \n",
       "0              0.0          0.0  \n",
       "1              1.0          0.0  \n",
       "2              0.0          0.0  \n",
       "3              1.0          0.0  \n",
       "4              1.0          0.0  "
      ]
     },
     "execution_count": 17,
     "metadata": {},
     "output_type": "execute_result"
    }
   ],
   "source": [
    "df.head()"
   ]
  },
  {
   "cell_type": "code",
   "execution_count": 18,
   "metadata": {},
   "outputs": [],
   "source": [
    "X = df\n",
    "y = nyc_df['price']"
   ]
  },
  {
   "cell_type": "markdown",
   "metadata": {},
   "source": [
    "**Train test split**"
   ]
  },
  {
   "cell_type": "code",
   "execution_count": 19,
   "metadata": {},
   "outputs": [],
   "source": [
    "from sklearn.model_selection import train_test_split\n",
    "X_train, X_test, y_train, y_test = train_test_split(X,y, test_size = 0.3, random_state = 101)"
   ]
  },
  {
   "cell_type": "markdown",
   "metadata": {},
   "source": [
    "**Gaussian**"
   ]
  },
  {
   "cell_type": "code",
   "execution_count": 20,
   "metadata": {},
   "outputs": [],
   "source": [
    "from sklearn.naive_bayes import GaussianNB\n",
    "\n",
    "nb = GaussianNB()\n",
    "nb.fit(X_train,y_train)\n",
    "\n",
    "nb_pred = nb.predict(X_test)"
   ]
  },
  {
   "cell_type": "code",
   "execution_count": 21,
   "metadata": {},
   "outputs": [
    {
     "data": {
      "text/plain": [
       "Text(0, 0.5, 'Predicted Y')"
      ]
     },
     "execution_count": 21,
     "metadata": {},
     "output_type": "execute_result"
    },
    {
     "data": {
      "image/png": "[encoded data removed]",
      "text/plain": [
       "<Figure size 432x288 with 1 Axes>"
      ]
     },
     "metadata": {
      "needs_background": "light"
     },
     "output_type": "display_data"
    }
   ],
   "source": [
    "plt.scatter(y_test,nb_pred)\n",
    "plt.xlabel('Y Test')\n",
    "plt.ylabel('Predicted Y')"
   ]
  },
  {
   "cell_type": "code",
   "execution_count": 22,
   "metadata": {},
   "outputs": [
    {
     "name": "stdout",
     "output_type": "stream",
     "text": [
      "MAE: 1101.3581021201173\n",
      "MSE: 6571338.215011248\n",
      "RMSE: 2563.462154004082\n"
     ]
    }
   ],
   "source": [
    "from sklearn import metrics\n",
    "\n",
    "print('MAE:', metrics.mean_absolute_error(y_test, nb_pred))\n",
    "print('MSE:', metrics.mean_squared_error(y_test, nb_pred))\n",
    "print('RMSE:', np.sqrt(metrics.mean_squared_error(y_test, nb_pred)))"
   ]
  },
  {
   "cell_type": "code",
   "execution_count": 23,
   "metadata": {},
   "outputs": [
    {
     "data": {
      "image/png": "[encoded data removed]",
      "text/plain": [
       "<Figure size 432x288 with 1 Axes>"
      ]
     },
     "metadata": {
      "needs_background": "light"
     },
     "output_type": "display_data"
    }
   ],
   "source": [
    "sns.distplot((y_test-nb_pred),bins=50);"
   ]
  },
  {
   "cell_type": "markdown",
   "metadata": {},
   "source": [
    "**Linear Regression**"
   ]
  },
  {
   "cell_type": "code",
   "execution_count": 24,
   "metadata": {},
   "outputs": [
    {
     "data": {
      "text/plain": [
       "LinearRegression(copy_X=True, fit_intercept=True, n_jobs=None, normalize=False)"
      ]
     },
     "execution_count": 24,
     "metadata": {},
     "output_type": "execute_result"
    }
   ],
   "source": [
    "from sklearn.linear_model import LinearRegression\n",
    "\n",
    "lin_reg = LinearRegression()\n",
    "lin_reg.fit(X_train,y_train)"
   ]
  },
  {
   "cell_type": "code",
   "execution_count": 25,
   "metadata": {},
   "outputs": [
    {
     "name": "stdout",
     "output_type": "stream",
     "text": [
      "Coefficients: \n",
      " [  75.92305468 -299.14229994  -78.95571746 -164.34840231 -148.44893093\n",
      "  -25.96036015   70.80405811  -26.30520346   84.49142414  -58.18622068]\n"
     ]
    }
   ],
   "source": [
    "print('Coefficients: \\n', lin_reg.coef_)"
   ]
  },
  {
   "cell_type": "code",
   "execution_count": 26,
   "metadata": {},
   "outputs": [],
   "source": [
    "L_pred = lin_reg.predict(X_test)"
   ]
  },
  {
   "cell_type": "code",
   "execution_count": 27,
   "metadata": {},
   "outputs": [
    {
     "data": {
      "text/plain": [
       "Text(0, 0.5, 'Predicted Y')"
      ]
     },
     "execution_count": 27,
     "metadata": {},
     "output_type": "execute_result"
    },
    {
     "data": {
      "image/png": "[encoded data removed]",
      "text/plain": [
       "<Figure size 432x288 with 1 Axes>"
      ]
     },
     "metadata": {
      "needs_background": "light"
     },
     "output_type": "display_data"
    }
   ],
   "source": [
    "plt.scatter(y_test,L_pred)\n",
    "plt.xlabel('Y Test')\n",
    "plt.ylabel('Predicted Y')"
   ]
  },
  {
   "cell_type": "code",
   "execution_count": 28,
   "metadata": {},
   "outputs": [
    {
     "name": "stdout",
     "output_type": "stream",
     "text": [
      "MAE: 75.95434765847689\n",
      "MSE: 55510.51901367337\n",
      "RMSE: 235.60670409322688\n"
     ]
    }
   ],
   "source": [
    "# calculate these metrics by hand!\n",
    "from sklearn import metrics\n",
    "\n",
    "print('MAE:', metrics.mean_absolute_error(y_test, L_pred))\n",
    "print('MSE:', metrics.mean_squared_error(y_test, L_pred))\n",
    "print('RMSE:', np.sqrt(metrics.mean_squared_error(y_test, L_pred)))"
   ]
  },
  {
   "cell_type": "code",
   "execution_count": 29,
   "metadata": {},
   "outputs": [
    {
     "data": {
      "image/png": "[encoded data removed]",
      "text/plain": [
       "<Figure size 432x288 with 1 Axes>"
      ]
     },
     "metadata": {
      "needs_background": "light"
     },
     "output_type": "display_data"
    }
   ],
   "source": [
    "sns.distplot((y_test-L_pred),bins=50);"
   ]
  },
  {
   "cell_type": "markdown",
   "metadata": {},
   "source": [
    "**Support Vector Machine**"
   ]
  },
  {
   "cell_type": "code",
   "execution_count": null,
   "metadata": {},
   "outputs": [],
   "source": []
  },
  {
   "cell_type": "markdown",
   "metadata": {},
   "source": [
    "**K Nearest Neighbors**"
   ]
  },
  {
   "cell_type": "code",
   "execution_count": 30,
   "metadata": {},
   "outputs": [],
   "source": [
    "from sklearn.neighbors import KNeighborsClassifier\n",
    "\n",
    "knn = KNeighborsClassifier(n_neighbors=1)\n",
    "knn.fit(X_train,y_train)\n",
    "knn_pred = knn.predict(X_test)"
   ]
  },
  {
   "cell_type": "code",
   "execution_count": 31,
   "metadata": {},
   "outputs": [
    {
     "data": {
      "text/plain": [
       "Text(0, 0.5, 'Predicted Y')"
      ]
     },
     "execution_count": 31,
     "metadata": {},
     "output_type": "execute_result"
    },
    {
     "data": {
      "image/png": "[encoded data removed]",
      "text/plain": [
       "<Figure size 432x288 with 1 Axes>"
      ]
     },
     "metadata": {
      "needs_background": "light"
     },
     "output_type": "display_data"
    }
   ],
   "source": [
    "plt.scatter(y_test,knn_pred)\n",
    "plt.xlabel('Y Test')\n",
    "plt.ylabel('Predicted Y')"
   ]
  },
  {
   "cell_type": "code",
   "execution_count": 32,
   "metadata": {},
   "outputs": [
    {
     "name": "stdout",
     "output_type": "stream",
     "text": [
      "MAE: 83.75662962710477\n",
      "MSE: 79843.68109618925\n",
      "RMSE: 282.56624196140143\n"
     ]
    }
   ],
   "source": [
    "print('MAE:', metrics.mean_absolute_error(y_test, knn_pred))\n",
    "print('MSE:', metrics.mean_squared_error(y_test, knn_pred))\n",
    "print('RMSE:', np.sqrt(metrics.mean_squared_error(y_test, knn_pred)))"
   ]
  },
  {
   "cell_type": "code",
   "execution_count": 33,
   "metadata": {},
   "outputs": [],
   "source": [
    "#choosing k value\n",
    "\n",
    "error_rate = []\n",
    "for i in range(1,40):\n",
    "    \n",
    "    knn = KNeighborsClassifier(n_neighbors=i)\n",
    "    knn.fit(X_train,y_train)\n",
    "    pred_i = knn.predict(X_test)\n",
    "    error_rate.append(np.mean(pred_i != y_test))"
   ]
  },
  {
   "cell_type": "code",
   "execution_count": 34,
   "metadata": {},
   "outputs": [
    {
     "data": {
      "text/plain": [
       "Text(0, 0.5, 'Error Rate')"
      ]
     },
     "execution_count": 34,
     "metadata": {},
     "output_type": "execute_result"
    },
    {
     "data": {
      "image/png": "[encoded data removed]",
      "text/plain": [
       "<Figure size 720x432 with 1 Axes>"
      ]
     },
     "metadata": {
      "needs_background": "light"
     },
     "output_type": "display_data"
    }
   ],
   "source": [
    "plt.figure(figsize=(10,6))\n",
    "plt.plot(range(1,40),error_rate,color='blue',marker='o')\n",
    "plt.title('Error Rate vs. K Value')\n",
    "plt.xlabel('K')\n",
    "plt.ylabel('Error Rate')"
   ]
  },
  {
   "cell_type": "code",
   "execution_count": 36,
   "metadata": {},
   "outputs": [],
   "source": [
    "#with k=32\n",
    "knn = KNeighborsClassifier(n_neighbors=32)\n",
    "\n",
    "knn.fit(X_train,y_train)\n",
    "pred_k = knn.predict(X_test)"
   ]
  },
  {
   "cell_type": "code",
   "execution_count": 37,
   "metadata": {},
   "outputs": [
    {
     "data": {
      "text/plain": [
       "Text(0, 0.5, 'Predicted Y')"
      ]
     },
     "execution_count": 37,
     "metadata": {},
     "output_type": "execute_result"
    },
    {
     "data": {
      "image/png": "[encoded data removed]",
      "text/plain": [
       "<Figure size 432x288 with 1 Axes>"
      ]
     },
     "metadata": {
      "needs_background": "light"
     },
     "output_type": "display_data"
    }
   ],
   "source": [
    "plt.scatter(y_test,pred_k)\n",
    "plt.xlabel('Y Test')\n",
    "plt.ylabel('Predicted Y')"
   ]
  },
  {
   "cell_type": "code",
   "execution_count": 38,
   "metadata": {},
   "outputs": [
    {
     "name": "stdout",
     "output_type": "stream",
     "text": [
      "MAE: 67.59254209557571\n",
      "MSE: 57875.4197968505\n",
      "RMSE: 240.57310696927556\n"
     ]
    }
   ],
   "source": [
    "print('MAE:', metrics.mean_absolute_error(y_test, pred_k))\n",
    "print('MSE:', metrics.mean_squared_error(y_test, pred_k))\n",
    "print('RMSE:', np.sqrt(metrics.mean_squared_error(y_test, pred_k)))"
   ]
  },
  {
   "cell_type": "markdown",
   "metadata": {},
   "source": [
    "**Decision Tree**"
   ]
  },
  {
   "cell_type": "code",
   "execution_count": 39,
   "metadata": {},
   "outputs": [],
   "source": [
    "from sklearn.tree import DecisionTreeClassifier\n",
    "\n",
    "dtree = DecisionTreeClassifier()\n",
    "dtree.fit(X_train,y_train)\n",
    "dtree_pred = dtree.predict(X_test)"
   ]
  },
  {
   "cell_type": "code",
   "execution_count": 40,
   "metadata": {},
   "outputs": [
    {
     "data": {
      "text/plain": [
       "Text(0, 0.5, 'Predicted Y')"
      ]
     },
     "execution_count": 40,
     "metadata": {},
     "output_type": "execute_result"
    },
    {
     "data": {
      "image/png": "[encoded data removed]",
      "text/plain": [
       "<Figure size 432x288 with 1 Axes>"
      ]
     },
     "metadata": {
      "needs_background": "light"
     },
     "output_type": "display_data"
    }
   ],
   "source": [
    "plt.scatter(y_test,dtree_pred)\n",
    "plt.xlabel('Y Test')\n",
    "plt.ylabel('Predicted Y')"
   ]
  },
  {
   "cell_type": "code",
   "execution_count": 41,
   "metadata": {},
   "outputs": [
    {
     "name": "stdout",
     "output_type": "stream",
     "text": [
      "MAE: 82.98527506987524\n",
      "MSE: 82036.95146226736\n",
      "RMSE: 286.42093405033677\n"
     ]
    }
   ],
   "source": [
    "print('MAE:', metrics.mean_absolute_error(y_test, dtree_pred))\n",
    "print('MSE:', metrics.mean_squared_error(y_test, dtree_pred))\n",
    "print('RMSE:', np.sqrt(metrics.mean_squared_error(y_test, dtree_pred)))"
   ]
  },
  {
   "cell_type": "markdown",
   "metadata": {},
   "source": [
    "**Keras Regression Code**"
   ]
  },
  {
   "cell_type": "code",
   "execution_count": 42,
   "metadata": {},
   "outputs": [],
   "source": [
    "from sklearn.preprocessing import MinMaxScaler\n",
    "\n",
    "scaler = MinMaxScaler()\n",
    "X_train= scaler.fit_transform(X_train)\n",
    "X_test = scaler.transform(X_test)"
   ]
  },
  {
   "cell_type": "code",
   "execution_count": 43,
   "metadata": {},
   "outputs": [],
   "source": [
    "from tensorflow.keras.models import Sequential\n",
    "from tensorflow.keras.layers import Dense, Activation\n",
    "from tensorflow.keras.optimizers import Adam"
   ]
  },
  {
   "cell_type": "code",
   "execution_count": 44,
   "metadata": {},
   "outputs": [],
   "source": [
    "model = Sequential()\n",
    "\n",
    "model.add(Dense(9,activation='relu'))\n",
    "model.add(Dense(9,activation='relu'))\n",
    "model.add(Dense(9,activation='relu'))\n",
    "model.add(Dense(1))\n",
    "\n",
    "model.compile(optimizer='adam',loss='mse')"
   ]
  },
  {
   "cell_type": "code",
   "execution_count": 45,
   "metadata": {},
   "outputs": [
    {
     "name": "stdout",
     "output_type": "stream",
     "text": [
      "Train on 34226 samples, validate on 14669 samples\n",
      "Epoch 1/400\n",
      "34226/34226 [==============================] - 3s 87us/sample - loss: 75884.6291 - val_loss: 71112.5038\n",
      "Epoch 2/400\n",
      "34226/34226 [==============================] - 1s 31us/sample - loss: 56065.6257 - val_loss: 58058.3343\n",
      "Epoch 3/400\n",
      "34226/34226 [==============================] - 1s 36us/sample - loss: 52692.1442 - val_loss: 56920.8905\n",
      "Epoch 4/400\n",
      "34226/34226 [==============================] - 2s 44us/sample - loss: 52141.5955 - val_loss: 56616.9713\n",
      "Epoch 5/400\n",
      "34226/34226 [==============================] - 1s 29us/sample - loss: 52006.9588 - val_loss: 56514.2075\n",
      "Epoch 6/400\n",
      "34226/34226 [==============================] - 1s 40us/sample - loss: 51938.1578 - val_loss: 56425.5382\n",
      "Epoch 7/400\n",
      "34226/34226 [==============================] - 1s 31us/sample - loss: 51861.9538 - val_loss: 56348.2060\n",
      "Epoch 8/400\n",
      "34226/34226 [==============================] - 1s 40us/sample - loss: 51800.1670 - val_loss: 56282.2302\n",
      "Epoch 9/400\n",
      "34226/34226 [==============================] - 1s 25us/sample - loss: 51736.5416 - val_loss: 56218.0195\n",
      "Epoch 10/400\n",
      "34226/34226 [==============================] - 1s 24us/sample - loss: 51679.8905 - val_loss: 56142.8959\n",
      "Epoch 11/400\n",
      "34226/34226 [==============================] - 1s 25us/sample - loss: 51623.7291 - val_loss: 56070.9016\n",
      "Epoch 12/400\n",
      "34226/34226 [==============================] - 1s 37us/sample - loss: 51556.2927 - val_loss: 56042.6555\n",
      "Epoch 13/400\n",
      "34226/34226 [==============================] - 2s 44us/sample - loss: 51513.4871 - val_loss: 55936.9439\n",
      "Epoch 14/400\n",
      "34226/34226 [==============================] - 1s 31us/sample - loss: 51461.7101 - val_loss: 55861.6691\n",
      "Epoch 15/400\n",
      "34226/34226 [==============================] - 1s 35us/sample - loss: 51415.2691 - val_loss: 55804.6934\n",
      "Epoch 16/400\n",
      "34226/34226 [==============================] - 1s 29us/sample - loss: 51374.8277 - val_loss: 55749.9401\n",
      "Epoch 17/400\n",
      "34226/34226 [==============================] - 1s 31us/sample - loss: 51313.7570 - val_loss: 55686.1314\n",
      "Epoch 18/400\n",
      "34226/34226 [==============================] - 1s 34us/sample - loss: 51276.7958 - val_loss: 55641.4481\n",
      "Epoch 19/400\n",
      "34226/34226 [==============================] - 1s 32us/sample - loss: 51238.4929 - val_loss: 55580.4055\n",
      "Epoch 20/400\n",
      "34226/34226 [==============================] - 1s 35us/sample - loss: 51200.8884 - val_loss: 55515.8210\n",
      "Epoch 21/400\n",
      "34226/34226 [==============================] - 1s 31us/sample - loss: 51156.3575 - val_loss: 55466.6179\n",
      "Epoch 22/400\n",
      "34226/34226 [==============================] - 1s 31us/sample - loss: 51120.8945 - val_loss: 55439.8286\n",
      "Epoch 23/400\n",
      "34226/34226 [==============================] - 1s 31us/sample - loss: 51092.4429 - val_loss: 55402.1794\n",
      "Epoch 24/400\n",
      "34226/34226 [==============================] - 1s 31us/sample - loss: 51063.7646 - val_loss: 55365.1546\n",
      "Epoch 25/400\n",
      "34226/34226 [==============================] - 1s 33us/sample - loss: 51035.0564 - val_loss: 55379.5084\n",
      "Epoch 26/400\n",
      "34226/34226 [==============================] - 1s 32us/sample - loss: 51026.5345 - val_loss: 55286.9654\n",
      "Epoch 27/400\n",
      "34226/34226 [==============================] - 1s 32us/sample - loss: 51002.5765 - val_loss: 55264.3780\n",
      "Epoch 28/400\n",
      "34226/34226 [==============================] - 1s 32us/sample - loss: 50985.6722 - val_loss: 55248.7681\n",
      "Epoch 29/400\n",
      "34226/34226 [==============================] - 1s 32us/sample - loss: 50966.2226 - val_loss: 55237.9658\n",
      "Epoch 30/400\n",
      "34226/34226 [==============================] - 1s 32us/sample - loss: 50945.3548 - val_loss: 55189.7057\n",
      "Epoch 31/400\n",
      "34226/34226 [==============================] - 1s 32us/sample - loss: 50939.3215 - val_loss: 55188.5936\n",
      "Epoch 32/400\n",
      "34226/34226 [==============================] - 1s 33us/sample - loss: 50920.7839 - val_loss: 55144.9978\n",
      "Epoch 33/400\n",
      "34226/34226 [==============================] - 1s 33us/sample - loss: 50936.9765 - val_loss: 55144.0450\n",
      "Epoch 34/400\n",
      "34226/34226 [==============================] - 1s 33us/sample - loss: 50895.9872 - val_loss: 55157.0803\n",
      "Epoch 35/400\n",
      "34226/34226 [==============================] - 1s 33us/sample - loss: 50891.5454 - val_loss: 55104.1267\n",
      "Epoch 36/400\n",
      "34226/34226 [==============================] - 1s 33us/sample - loss: 50875.3693 - val_loss: 55086.8981\n",
      "Epoch 37/400\n",
      "34226/34226 [==============================] - 1s 34us/sample - loss: 50864.3807 - val_loss: 55089.5380\n",
      "Epoch 38/400\n",
      "34226/34226 [==============================] - 1s 34us/sample - loss: 50859.2214 - val_loss: 55067.2896\n",
      "Epoch 39/400\n",
      "34226/34226 [==============================] - 1s 35us/sample - loss: 50845.9628 - val_loss: 55048.7033\n",
      "Epoch 40/400\n",
      "34226/34226 [==============================] - 1s 34us/sample - loss: 50858.0471 - val_loss: 55048.3473\n",
      "Epoch 41/400\n",
      "34226/34226 [==============================] - 1s 36us/sample - loss: 50836.6934 - val_loss: 55035.1363\n",
      "Epoch 42/400\n",
      "34226/34226 [==============================] - 1s 34us/sample - loss: 50824.4218 - val_loss: 55055.1985\n",
      "Epoch 43/400\n",
      "34226/34226 [==============================] - 1s 35us/sample - loss: 50823.3973 - val_loss: 55029.7787\n",
      "Epoch 44/400\n",
      "34226/34226 [==============================] - 1s 34us/sample - loss: 50826.0134 - val_loss: 55036.6181\n",
      "Epoch 45/400\n",
      "34226/34226 [==============================] - 1s 35us/sample - loss: 50816.0438 - val_loss: 55015.8550\n",
      "Epoch 46/400\n",
      "34226/34226 [==============================] - 1s 34us/sample - loss: 50816.7310 - val_loss: 55037.4305\n",
      "Epoch 47/400\n",
      "34226/34226 [==============================] - 1s 35us/sample - loss: 50818.8860 - val_loss: 55004.5263\n",
      "Epoch 48/400\n",
      "34226/34226 [==============================] - 1s 36us/sample - loss: 50808.5083 - val_loss: 54988.6934\n",
      "Epoch 49/400\n",
      "34226/34226 [==============================] - 1s 35us/sample - loss: 50786.2817 - val_loss: 55039.8677\n",
      "Epoch 50/400\n",
      "34226/34226 [==============================] - 1s 35us/sample - loss: 50804.1220 - val_loss: 55088.2060\n",
      "Epoch 51/400\n",
      "34226/34226 [==============================] - 1s 36us/sample - loss: 50796.6089 - val_loss: 54969.7426\n",
      "Epoch 52/400\n",
      "34226/34226 [==============================] - 1s 36us/sample - loss: 50797.4865 - val_loss: 54981.0880\n",
      "Epoch 53/400\n",
      "34226/34226 [==============================] - 1s 35us/sample - loss: 50777.0397 - val_loss: 54969.6392\n",
      "Epoch 54/400\n",
      "34226/34226 [==============================] - 1s 34us/sample - loss: 50783.5892 - val_loss: 54953.3577\n",
      "Epoch 55/400\n",
      "34226/34226 [==============================] - 1s 34us/sample - loss: 50770.8475 - val_loss: 54972.7534\n",
      "Epoch 56/400\n",
      "34226/34226 [==============================] - 1s 35us/sample - loss: 50764.3883 - val_loss: 54936.4702\n",
      "Epoch 57/400\n",
      "34226/34226 [==============================] - 1s 35us/sample - loss: 50761.7514 - val_loss: 54986.7644\n",
      "Epoch 58/400\n",
      "34226/34226 [==============================] - 1s 34us/sample - loss: 50785.2866 - val_loss: 54929.3575\n",
      "Epoch 59/400\n",
      "34226/34226 [==============================] - 1s 35us/sample - loss: 50764.2278 - val_loss: 54959.1996\n",
      "Epoch 60/400\n",
      "34226/34226 [==============================] - 1s 38us/sample - loss: 50764.2296 - val_loss: 54937.4562\n",
      "Epoch 61/400\n",
      "34226/34226 [==============================] - 1s 40us/sample - loss: 50749.0421 - val_loss: 54976.9295\n",
      "Epoch 62/400\n",
      "34226/34226 [==============================] - 2s 50us/sample - loss: 50748.7486 - val_loss: 54916.7715\n",
      "Epoch 63/400\n",
      "34226/34226 [==============================] - 2s 50us/sample - loss: 50760.5556 - val_loss: 54926.7079\n",
      "Epoch 64/400\n",
      "34226/34226 [==============================] - 1s 40us/sample - loss: 50748.1314 - val_loss: 54932.2189\n",
      "Epoch 65/400\n",
      "34226/34226 [==============================] - 1s 40us/sample - loss: 50727.7857 - val_loss: 54943.0020\n",
      "Epoch 66/400\n",
      "34226/34226 [==============================] - 1s 41us/sample - loss: 50737.9319 - val_loss: 54925.0291\n",
      "Epoch 67/400\n",
      "34226/34226 [==============================] - 1s 41us/sample - loss: 50713.7700 - val_loss: 54882.0096\n",
      "Epoch 68/400\n",
      "34226/34226 [==============================] - 1s 41us/sample - loss: 50728.2138 - val_loss: 54879.7499\n",
      "Epoch 69/400\n",
      "34226/34226 [==============================] - 1s 41us/sample - loss: 50695.6044 - val_loss: 54935.5896\n",
      "Epoch 70/400\n"
     ]
    },
    {
     "name": "stdout",
     "output_type": "stream",
     "text": [
      "34226/34226 [==============================] - 1s 38us/sample - loss: 50694.9707 - val_loss: 54859.3343\n",
      "Epoch 71/400\n",
      "34226/34226 [==============================] - 2s 47us/sample - loss: 50688.5597 - val_loss: 54859.8732\n",
      "Epoch 72/400\n",
      "34226/34226 [==============================] - 1s 40us/sample - loss: 50690.8933 - val_loss: 54864.0931\n",
      "Epoch 73/400\n",
      "34226/34226 [==============================] - 2s 44us/sample - loss: 50684.7821 - val_loss: 54844.5819\n",
      "Epoch 74/400\n",
      "34226/34226 [==============================] - 1s 38us/sample - loss: 50661.5201 - val_loss: 54820.3528\n",
      "Epoch 75/400\n",
      "34226/34226 [==============================] - 1s 39us/sample - loss: 50648.1454 - val_loss: 54816.2854\n",
      "Epoch 76/400\n",
      "34226/34226 [==============================] - 1s 39us/sample - loss: 50656.9384 - val_loss: 54838.1465\n",
      "Epoch 77/400\n",
      "34226/34226 [==============================] - 1s 39us/sample - loss: 50636.6692 - val_loss: 54793.8711\n",
      "Epoch 78/400\n",
      "34226/34226 [==============================] - 1s 38us/sample - loss: 50621.4445 - val_loss: 54851.3117\n",
      "Epoch 79/400\n",
      "34226/34226 [==============================] - 1s 42us/sample - loss: 50620.3651 - val_loss: 54813.6500\n",
      "Epoch 80/400\n",
      "34226/34226 [==============================] - 1s 40us/sample - loss: 50615.8969 - val_loss: 54778.8791\n",
      "Epoch 81/400\n",
      "34226/34226 [==============================] - 2s 48us/sample - loss: 50604.1688 - val_loss: 54779.4880\n",
      "Epoch 82/400\n",
      "34226/34226 [==============================] - 1s 39us/sample - loss: 50594.7642 - val_loss: 54747.7237\n",
      "Epoch 83/400\n",
      "34226/34226 [==============================] - 1s 36us/sample - loss: 50586.1156 - val_loss: 54739.0367\n",
      "Epoch 84/400\n",
      "34226/34226 [==============================] - 1s 35us/sample - loss: 50588.2857 - val_loss: 54746.4198\n",
      "Epoch 85/400\n",
      "34226/34226 [==============================] - 1s 35us/sample - loss: 50567.9299 - val_loss: 54759.9179\n",
      "Epoch 86/400\n",
      "34226/34226 [==============================] - 1s 35us/sample - loss: 50567.3125 - val_loss: 54698.8211\n",
      "Epoch 87/400\n",
      "34226/34226 [==============================] - 1s 35us/sample - loss: 50550.5077 - val_loss: 54705.7462\n",
      "Epoch 88/400\n",
      "34226/34226 [==============================] - 1s 36us/sample - loss: 50551.1476 - val_loss: 54706.5700\n",
      "Epoch 89/400\n",
      "34226/34226 [==============================] - 1s 36us/sample - loss: 50534.0965 - val_loss: 54708.9039\n",
      "Epoch 90/400\n",
      "34226/34226 [==============================] - 1s 35us/sample - loss: 50509.0403 - val_loss: 54679.4177\n",
      "Epoch 91/400\n",
      "34226/34226 [==============================] - 1s 35us/sample - loss: 50500.7607 - val_loss: 54654.9774\n",
      "Epoch 92/400\n",
      "34226/34226 [==============================] - 1s 36us/sample - loss: 50494.6185 - val_loss: 54657.9819\n",
      "Epoch 93/400\n",
      "34226/34226 [==============================] - 1s 35us/sample - loss: 50492.8186 - val_loss: 54627.8323\n",
      "Epoch 94/400\n",
      "34226/34226 [==============================] - 2s 51us/sample - loss: 50467.2398 - val_loss: 54622.1539\n",
      "Epoch 95/400\n",
      "34226/34226 [==============================] - 1s 36us/sample - loss: 50474.2372 - val_loss: 54628.6178\n",
      "Epoch 96/400\n",
      "34226/34226 [==============================] - 1s 36us/sample - loss: 50465.0445 - val_loss: 54619.7889\n",
      "Epoch 97/400\n",
      "34226/34226 [==============================] - 1s 36us/sample - loss: 50451.4360 - val_loss: 54600.3126\n",
      "Epoch 98/400\n",
      "34226/34226 [==============================] - 1s 36us/sample - loss: 50440.4107 - val_loss: 54614.6617\n",
      "Epoch 99/400\n",
      "34226/34226 [==============================] - 1s 36us/sample - loss: 50442.8027 - val_loss: 54577.0054\n",
      "Epoch 100/400\n",
      "34226/34226 [==============================] - 1s 36us/sample - loss: 50413.0097 - val_loss: 54701.6145\n",
      "Epoch 101/400\n",
      "34226/34226 [==============================] - 1s 36us/sample - loss: 50451.8570 - val_loss: 54556.2771\n",
      "Epoch 102/400\n",
      "34226/34226 [==============================] - 1s 41us/sample - loss: 50423.7786 - val_loss: 54589.2843\n",
      "Epoch 103/400\n",
      "34226/34226 [==============================] - 1s 43us/sample - loss: 50408.2229 - val_loss: 54509.1771\n",
      "Epoch 104/400\n",
      "34226/34226 [==============================] - 1s 36us/sample - loss: 50396.9712 - val_loss: 54492.5335\n",
      "Epoch 105/400\n",
      "34226/34226 [==============================] - 1s 36us/sample - loss: 50380.6519 - val_loss: 54500.8349\n",
      "Epoch 106/400\n",
      "34226/34226 [==============================] - 1s 42us/sample - loss: 50352.7386 - val_loss: 54499.1163\n",
      "Epoch 107/400\n",
      "34226/34226 [==============================] - 1s 36us/sample - loss: 50342.0647 - val_loss: 54462.5301\n",
      "Epoch 108/400\n",
      "34226/34226 [==============================] - 1s 36us/sample - loss: 50323.3357 - val_loss: 54474.2821\n",
      "Epoch 109/400\n",
      "34226/34226 [==============================] - 1s 36us/sample - loss: 50313.1046 - val_loss: 54450.8102\n",
      "Epoch 110/400\n",
      "34226/34226 [==============================] - 1s 36us/sample - loss: 50306.7250 - val_loss: 54385.3565\n",
      "Epoch 111/400\n",
      "34226/34226 [==============================] - 1s 37us/sample - loss: 50282.1278 - val_loss: 54475.0270\n",
      "Epoch 112/400\n",
      "34226/34226 [==============================] - 1s 41us/sample - loss: 50280.7418 - val_loss: 54377.8612\n",
      "Epoch 113/400\n",
      "34226/34226 [==============================] - 1s 41us/sample - loss: 50271.1072 - val_loss: 54408.1961\n",
      "Epoch 114/400\n",
      "34226/34226 [==============================] - 1s 40us/sample - loss: 50249.5337 - val_loss: 54321.8589\n",
      "Epoch 115/400\n",
      "34226/34226 [==============================] - 1s 38us/sample - loss: 50241.0540 - val_loss: 54313.6060\n",
      "Epoch 116/400\n",
      "34226/34226 [==============================] - 1s 40us/sample - loss: 50225.6924 - val_loss: 54294.0168\n",
      "Epoch 117/400\n",
      "34226/34226 [==============================] - 1s 39us/sample - loss: 50226.0142 - val_loss: 54277.8317\n",
      "Epoch 118/400\n",
      "34226/34226 [==============================] - 1s 36us/sample - loss: 50210.4479 - val_loss: 54269.7876\n",
      "Epoch 119/400\n",
      "34226/34226 [==============================] - 1s 36us/sample - loss: 50209.9778 - val_loss: 54292.4755\n",
      "Epoch 120/400\n",
      "34226/34226 [==============================] - 1s 40us/sample - loss: 50196.6277 - val_loss: 54244.6029\n",
      "Epoch 121/400\n",
      "34226/34226 [==============================] - 1s 39us/sample - loss: 50187.7078 - val_loss: 54232.6461\n",
      "Epoch 122/400\n",
      "34226/34226 [==============================] - 1s 38us/sample - loss: 50187.2259 - val_loss: 54220.7053\n",
      "Epoch 123/400\n",
      "34226/34226 [==============================] - 1s 36us/sample - loss: 50169.2553 - val_loss: 54212.6734\n",
      "Epoch 124/400\n",
      "34226/34226 [==============================] - 1s 37us/sample - loss: 50176.0084 - val_loss: 54200.8048\n",
      "Epoch 125/400\n",
      "34226/34226 [==============================] - 1s 36us/sample - loss: 50174.3003 - val_loss: 54220.1302\n",
      "Epoch 126/400\n",
      "34226/34226 [==============================] - 1s 36us/sample - loss: 50161.1725 - val_loss: 54191.5590\n",
      "Epoch 127/400\n",
      "34226/34226 [==============================] - 1s 38us/sample - loss: 50152.3569 - val_loss: 54248.4039\n",
      "Epoch 128/400\n",
      "34226/34226 [==============================] - 1s 36us/sample - loss: 50130.5259 - val_loss: 54319.8332\n",
      "Epoch 129/400\n",
      "34226/34226 [==============================] - 1s 37us/sample - loss: 50178.7878 - val_loss: 54196.3339\n",
      "Epoch 130/400\n",
      "34226/34226 [==============================] - 1s 37us/sample - loss: 50141.9970 - val_loss: 54148.0446\n",
      "Epoch 131/400\n",
      "34226/34226 [==============================] - 1s 36us/sample - loss: 50134.6420 - val_loss: 54147.5892\n",
      "Epoch 132/400\n",
      "34226/34226 [==============================] - 1s 37us/sample - loss: 50128.8804 - val_loss: 54159.9152\n",
      "Epoch 133/400\n",
      "34226/34226 [==============================] - 1s 37us/sample - loss: 50131.1809 - val_loss: 54155.2474\n",
      "Epoch 134/400\n",
      "34226/34226 [==============================] - 1s 37us/sample - loss: 50124.2521 - val_loss: 54188.5577\n",
      "Epoch 135/400\n",
      "34226/34226 [==============================] - 1s 37us/sample - loss: 50112.2608 - val_loss: 54128.3667\n",
      "Epoch 136/400\n",
      "34226/34226 [==============================] - 1s 36us/sample - loss: 50110.9019 - val_loss: 54207.9123\n",
      "Epoch 137/400\n",
      "34226/34226 [==============================] - 1s 36us/sample - loss: 50113.3452 - val_loss: 54118.6552\n",
      "Epoch 138/400\n",
      "34226/34226 [==============================] - 1s 36us/sample - loss: 50100.6440 - val_loss: 54107.0311\n",
      "Epoch 139/400\n",
      "34226/34226 [==============================] - 1s 36us/sample - loss: 50096.1315 - val_loss: 54177.5193\n"
     ]
    },
    {
     "name": "stdout",
     "output_type": "stream",
     "text": [
      "Epoch 140/400\n",
      "34226/34226 [==============================] - 1s 34us/sample - loss: 50088.9898 - val_loss: 54103.7120\n",
      "Epoch 141/400\n",
      "34226/34226 [==============================] - 1s 34us/sample - loss: 50107.8101 - val_loss: 54108.1471\n",
      "Epoch 142/400\n",
      "34226/34226 [==============================] - 1s 34us/sample - loss: 50087.8555 - val_loss: 54109.1380\n",
      "Epoch 143/400\n",
      "34226/34226 [==============================] - 1s 33us/sample - loss: 50080.6758 - val_loss: 54194.2159\n",
      "Epoch 144/400\n",
      "34226/34226 [==============================] - 1s 34us/sample - loss: 50108.8991 - val_loss: 54076.0097\n",
      "Epoch 145/400\n",
      "34226/34226 [==============================] - 1s 34us/sample - loss: 50073.2881 - val_loss: 54167.0396\n",
      "Epoch 146/400\n",
      "34226/34226 [==============================] - 1s 34us/sample - loss: 50082.3385 - val_loss: 54078.8946\n",
      "Epoch 147/400\n",
      "34226/34226 [==============================] - 1s 34us/sample - loss: 50068.9732 - val_loss: 54088.7197\n",
      "Epoch 148/400\n",
      "34226/34226 [==============================] - 1s 34us/sample - loss: 50091.8936 - val_loss: 54053.2289\n",
      "Epoch 149/400\n",
      "34226/34226 [==============================] - 1s 33us/sample - loss: 50064.6410 - val_loss: 54054.6369\n",
      "Epoch 150/400\n",
      "34226/34226 [==============================] - 1s 34us/sample - loss: 50077.9914 - val_loss: 54049.6080\n",
      "Epoch 151/400\n",
      "34226/34226 [==============================] - 1s 34us/sample - loss: 50060.6844 - val_loss: 54049.1015\n",
      "Epoch 152/400\n",
      "34226/34226 [==============================] - 1s 34us/sample - loss: 50071.3423 - val_loss: 54067.0843\n",
      "Epoch 153/400\n",
      "34226/34226 [==============================] - 1s 34us/sample - loss: 50053.5811 - val_loss: 54184.4272\n",
      "Epoch 154/400\n",
      "34226/34226 [==============================] - 1s 34us/sample - loss: 50058.6338 - val_loss: 54091.6398\n",
      "Epoch 155/400\n",
      "34226/34226 [==============================] - 1s 34us/sample - loss: 50063.1242 - val_loss: 54036.0894\n",
      "Epoch 156/400\n",
      "34226/34226 [==============================] - 1s 34us/sample - loss: 50049.2265 - val_loss: 54055.2782\n",
      "Epoch 157/400\n",
      "34226/34226 [==============================] - 1s 34us/sample - loss: 50053.4534 - val_loss: 54057.0241\n",
      "Epoch 158/400\n",
      "34226/34226 [==============================] - 1s 34us/sample - loss: 50055.9027 - val_loss: 54059.4235\n",
      "Epoch 159/400\n",
      "34226/34226 [==============================] - 1s 34us/sample - loss: 50063.2658 - val_loss: 54079.4621\n",
      "Epoch 160/400\n",
      "34226/34226 [==============================] - 1s 34us/sample - loss: 50038.8607 - val_loss: 54017.2814\n",
      "Epoch 161/400\n",
      "34226/34226 [==============================] - 1s 34us/sample - loss: 50036.8481 - val_loss: 54024.9028\n",
      "Epoch 162/400\n",
      "34226/34226 [==============================] - 1s 34us/sample - loss: 50027.8876 - val_loss: 54010.0774\n",
      "Epoch 163/400\n",
      "34226/34226 [==============================] - 1s 34us/sample - loss: 50023.7506 - val_loss: 54015.1980\n",
      "Epoch 164/400\n",
      "34226/34226 [==============================] - 1s 34us/sample - loss: 50023.0555 - val_loss: 54010.0014\n",
      "Epoch 165/400\n",
      "34226/34226 [==============================] - 1s 34us/sample - loss: 50022.8700 - val_loss: 54052.8778\n",
      "Epoch 166/400\n",
      "34226/34226 [==============================] - 1s 34us/sample - loss: 50016.6828 - val_loss: 54053.0390\n",
      "Epoch 167/400\n",
      "34226/34226 [==============================] - 1s 34us/sample - loss: 49999.9834 - val_loss: 53988.5637\n",
      "Epoch 168/400\n",
      "34226/34226 [==============================] - 1s 34us/sample - loss: 50009.7434 - val_loss: 53984.9654\n",
      "Epoch 169/400\n",
      "34226/34226 [==============================] - 1s 34us/sample - loss: 50016.7963 - val_loss: 54027.1059\n",
      "Epoch 170/400\n",
      "34226/34226 [==============================] - 1s 34us/sample - loss: 49998.7531 - val_loss: 53999.8144\n",
      "Epoch 171/400\n",
      "34226/34226 [==============================] - 1s 34us/sample - loss: 50006.8388 - val_loss: 54003.3194\n",
      "Epoch 172/400\n",
      "34226/34226 [==============================] - 1s 34us/sample - loss: 49996.0687 - val_loss: 53969.3821\n",
      "Epoch 173/400\n",
      "34226/34226 [==============================] - 1s 34us/sample - loss: 49998.7052 - val_loss: 54019.4430\n",
      "Epoch 174/400\n",
      "34226/34226 [==============================] - 1s 34us/sample - loss: 49991.4322 - val_loss: 53967.5083\n",
      "Epoch 175/400\n",
      "34226/34226 [==============================] - 1s 34us/sample - loss: 49988.3312 - val_loss: 54016.3649\n",
      "Epoch 176/400\n",
      "34226/34226 [==============================] - 1s 34us/sample - loss: 49971.1432 - val_loss: 53978.8545\n",
      "Epoch 177/400\n",
      "34226/34226 [==============================] - 1s 34us/sample - loss: 49971.0732 - val_loss: 53998.0829\n",
      "Epoch 178/400\n",
      "34226/34226 [==============================] - 1s 34us/sample - loss: 49971.8135 - val_loss: 54006.1945\n",
      "Epoch 179/400\n",
      "34226/34226 [==============================] - 1s 35us/sample - loss: 49984.3547 - val_loss: 53949.2734\n",
      "Epoch 180/400\n",
      "34226/34226 [==============================] - 1s 34us/sample - loss: 49969.1865 - val_loss: 53992.4738\n",
      "Epoch 181/400\n",
      "34226/34226 [==============================] - 1s 35us/sample - loss: 49974.4028 - val_loss: 53962.8901\n",
      "Epoch 182/400\n",
      "34226/34226 [==============================] - 1s 34us/sample - loss: 49965.0175 - val_loss: 53990.3144\n",
      "Epoch 183/400\n",
      "34226/34226 [==============================] - 1s 34us/sample - loss: 49963.0445 - val_loss: 53961.1431\n",
      "Epoch 184/400\n",
      "34226/34226 [==============================] - 1s 34us/sample - loss: 49952.0316 - val_loss: 53946.2764\n",
      "Epoch 185/400\n",
      "34226/34226 [==============================] - 1s 37us/sample - loss: 49968.7744 - val_loss: 53995.0108\n",
      "Epoch 186/400\n",
      "34226/34226 [==============================] - 1s 35us/sample - loss: 49951.4976 - val_loss: 53925.0413\n",
      "Epoch 187/400\n",
      "34226/34226 [==============================] - 1s 36us/sample - loss: 49970.6746 - val_loss: 53948.3053\n",
      "Epoch 188/400\n",
      "34226/34226 [==============================] - 1s 35us/sample - loss: 49948.8072 - val_loss: 53952.7245\n",
      "Epoch 189/400\n",
      "34226/34226 [==============================] - 1s 35us/sample - loss: 49928.2690 - val_loss: 53945.2489\n",
      "Epoch 190/400\n",
      "34226/34226 [==============================] - 1s 34us/sample - loss: 49923.6790 - val_loss: 53973.5300\n",
      "Epoch 191/400\n",
      "34226/34226 [==============================] - 1s 34us/sample - loss: 49920.9909 - val_loss: 53900.1200\n",
      "Epoch 192/400\n",
      "34226/34226 [==============================] - 1s 34us/sample - loss: 49912.7157 - val_loss: 53917.2734\n",
      "Epoch 193/400\n",
      "34226/34226 [==============================] - 1s 35us/sample - loss: 49912.6304 - val_loss: 53953.4450\n",
      "Epoch 194/400\n",
      "34226/34226 [==============================] - 1s 34us/sample - loss: 49907.3403 - val_loss: 53892.9413\n",
      "Epoch 195/400\n",
      "34226/34226 [==============================] - 1s 37us/sample - loss: 49912.4164 - val_loss: 54079.3137\n",
      "Epoch 196/400\n",
      "34226/34226 [==============================] - 1s 34us/sample - loss: 49916.0323 - val_loss: 53916.1269\n",
      "Epoch 197/400\n",
      "34226/34226 [==============================] - 1s 35us/sample - loss: 49915.5062 - val_loss: 53876.3494\n",
      "Epoch 198/400\n",
      "34226/34226 [==============================] - 1s 35us/sample - loss: 49887.4875 - val_loss: 53881.0301\n",
      "Epoch 199/400\n",
      "34226/34226 [==============================] - 1s 34us/sample - loss: 49879.0665 - val_loss: 53894.7746\n",
      "Epoch 200/400\n",
      "34226/34226 [==============================] - 1s 34us/sample - loss: 49900.4793 - val_loss: 53921.5594\n",
      "Epoch 201/400\n",
      "34226/34226 [==============================] - 1s 34us/sample - loss: 49894.8799 - val_loss: 54058.0461\n",
      "Epoch 202/400\n",
      "34226/34226 [==============================] - 1s 34us/sample - loss: 49882.0283 - val_loss: 53908.5529\n",
      "Epoch 203/400\n",
      "34226/34226 [==============================] - 1s 34us/sample - loss: 49877.1910 - val_loss: 53898.5222\n",
      "Epoch 204/400\n",
      "34226/34226 [==============================] - 1s 34us/sample - loss: 49873.9730 - val_loss: 53862.7982\n",
      "Epoch 205/400\n",
      "34226/34226 [==============================] - 1s 35us/sample - loss: 49881.0396 - val_loss: 53890.4945\n",
      "Epoch 206/400\n",
      "34226/34226 [==============================] - 1s 35us/sample - loss: 49872.6798 - val_loss: 53847.1672\n",
      "Epoch 207/400\n",
      "34226/34226 [==============================] - 1s 34us/sample - loss: 49885.4762 - val_loss: 53855.4604\n",
      "Epoch 208/400\n",
      "34226/34226 [==============================] - 1s 35us/sample - loss: 49872.8216 - val_loss: 53865.0165\n",
      "Epoch 209/400\n"
     ]
    },
    {
     "name": "stdout",
     "output_type": "stream",
     "text": [
      "34226/34226 [==============================] - 1s 33us/sample - loss: 49887.3948 - val_loss: 53897.8900\n",
      "Epoch 210/400\n",
      "34226/34226 [==============================] - 1s 34us/sample - loss: 49868.3185 - val_loss: 53892.3568\n",
      "Epoch 211/400\n",
      "34226/34226 [==============================] - 2s 44us/sample - loss: 49843.6123 - val_loss: 53900.6519\n",
      "Epoch 212/400\n",
      "34226/34226 [==============================] - 1s 40us/sample - loss: 49843.9021 - val_loss: 53845.2163\n",
      "Epoch 213/400\n",
      "34226/34226 [==============================] - 1s 39us/sample - loss: 49849.0776 - val_loss: 53832.6331\n",
      "Epoch 214/400\n",
      "34226/34226 [==============================] - 1s 39us/sample - loss: 49835.5369 - val_loss: 53843.5782\n",
      "Epoch 215/400\n",
      "34226/34226 [==============================] - 1s 36us/sample - loss: 49853.0277 - val_loss: 53907.1191\n",
      "Epoch 216/400\n",
      "34226/34226 [==============================] - 1s 38us/sample - loss: 49852.5291 - val_loss: 53893.2775\n",
      "Epoch 217/400\n",
      "34226/34226 [==============================] - 1s 37us/sample - loss: 49840.5827 - val_loss: 53850.7126\n",
      "Epoch 218/400\n",
      "34226/34226 [==============================] - 1s 38us/sample - loss: 49827.8071 - val_loss: 53873.3974\n",
      "Epoch 219/400\n",
      "34226/34226 [==============================] - 1s 38us/sample - loss: 49821.6210 - val_loss: 53877.1571\n",
      "Epoch 220/400\n",
      "34226/34226 [==============================] - 1s 38us/sample - loss: 49807.8268 - val_loss: 53911.9019\n",
      "Epoch 221/400\n",
      "34226/34226 [==============================] - 1s 36us/sample - loss: 49811.2124 - val_loss: 53923.7514\n",
      "Epoch 222/400\n",
      "34226/34226 [==============================] - 1s 35us/sample - loss: 49836.8974 - val_loss: 53826.0611\n",
      "Epoch 223/400\n",
      "34226/34226 [==============================] - 1s 40us/sample - loss: 49813.5079 - val_loss: 53831.4643\n",
      "Epoch 224/400\n",
      "34226/34226 [==============================] - 1s 36us/sample - loss: 49813.1672 - val_loss: 53810.5278\n",
      "Epoch 225/400\n",
      "34226/34226 [==============================] - 1s 35us/sample - loss: 49808.4919 - val_loss: 53819.2245\n",
      "Epoch 226/400\n",
      "34226/34226 [==============================] - 1s 36us/sample - loss: 49802.1687 - val_loss: 53792.6108\n",
      "Epoch 227/400\n",
      "34226/34226 [==============================] - 1s 40us/sample - loss: 49795.5339 - val_loss: 53809.0794\n",
      "Epoch 228/400\n",
      "34226/34226 [==============================] - 1s 36us/sample - loss: 49787.6462 - val_loss: 53802.2358\n",
      "Epoch 229/400\n",
      "34226/34226 [==============================] - 1s 36us/sample - loss: 49788.4723 - val_loss: 53851.7213\n",
      "Epoch 230/400\n",
      "34226/34226 [==============================] - 1s 35us/sample - loss: 49797.2893 - val_loss: 53804.7341\n",
      "Epoch 231/400\n",
      "34226/34226 [==============================] - 1s 35us/sample - loss: 49776.1327 - val_loss: 53881.2459\n",
      "Epoch 232/400\n",
      "34226/34226 [==============================] - 1s 36us/sample - loss: 49776.0878 - val_loss: 53981.0726\n",
      "Epoch 233/400\n",
      "34226/34226 [==============================] - 1s 36us/sample - loss: 49778.5070 - val_loss: 53820.8140\n",
      "Epoch 234/400\n",
      "34226/34226 [==============================] - 1s 36us/sample - loss: 49787.4010 - val_loss: 53792.8651\n",
      "Epoch 235/400\n",
      "34226/34226 [==============================] - 1s 36us/sample - loss: 49773.2938 - val_loss: 53839.2777\n",
      "Epoch 236/400\n",
      "34226/34226 [==============================] - 1s 36us/sample - loss: 49773.6476 - val_loss: 53786.1426\n",
      "Epoch 237/400\n",
      "34226/34226 [==============================] - 1s 36us/sample - loss: 49762.1698 - val_loss: 53799.4441\n",
      "Epoch 238/400\n",
      "34226/34226 [==============================] - 1s 38us/sample - loss: 49765.8663 - val_loss: 53804.5403\n",
      "Epoch 239/400\n",
      "34226/34226 [==============================] - 2s 44us/sample - loss: 49756.6970 - val_loss: 53778.9482\n",
      "Epoch 240/400\n",
      "34226/34226 [==============================] - 1s 39us/sample - loss: 49756.4239 - val_loss: 53770.9162\n",
      "Epoch 241/400\n",
      "34226/34226 [==============================] - 1s 38us/sample - loss: 49757.8786 - val_loss: 53841.6644\n",
      "Epoch 242/400\n",
      "34226/34226 [==============================] - 1s 39us/sample - loss: 49748.6704 - val_loss: 53904.0733\n",
      "Epoch 243/400\n",
      "34226/34226 [==============================] - 1s 39us/sample - loss: 49739.9637 - val_loss: 53839.1168\n",
      "Epoch 244/400\n",
      "34226/34226 [==============================] - 1s 42us/sample - loss: 49737.0694 - val_loss: 53889.7937\n",
      "Epoch 245/400\n",
      "34226/34226 [==============================] - 1s 35us/sample - loss: 49727.9252 - val_loss: 53806.1312\n",
      "Epoch 246/400\n",
      "34226/34226 [==============================] - 1s 36us/sample - loss: 49763.7574 - val_loss: 53799.3805\n",
      "Epoch 247/400\n",
      "34226/34226 [==============================] - 1s 39us/sample - loss: 49742.6450 - val_loss: 53755.8006\n",
      "Epoch 248/400\n",
      "34226/34226 [==============================] - 1s 42us/sample - loss: 49731.1989 - val_loss: 53808.3739\n",
      "Epoch 249/400\n",
      "34226/34226 [==============================] - 1s 38us/sample - loss: 49718.1087 - val_loss: 53752.2255\n",
      "Epoch 250/400\n",
      "34226/34226 [==============================] - 1s 41us/sample - loss: 49735.7357 - val_loss: 53804.6156\n",
      "Epoch 251/400\n",
      "34226/34226 [==============================] - 1s 40us/sample - loss: 49725.1788 - val_loss: 53731.5804\n",
      "Epoch 252/400\n",
      "34226/34226 [==============================] - 1s 40us/sample - loss: 49714.9162 - val_loss: 53817.9053\n",
      "Epoch 253/400\n",
      "34226/34226 [==============================] - 1s 41us/sample - loss: 49718.6675 - val_loss: 53742.1432\n",
      "Epoch 254/400\n",
      "34226/34226 [==============================] - 1s 41us/sample - loss: 49717.8752 - val_loss: 53811.4737\n",
      "Epoch 255/400\n",
      "34226/34226 [==============================] - 1s 38us/sample - loss: 49733.0904 - val_loss: 53756.2429\n",
      "Epoch 256/400\n",
      "34226/34226 [==============================] - 1s 41us/sample - loss: 49731.2134 - val_loss: 53728.0356\n",
      "Epoch 257/400\n",
      "34226/34226 [==============================] - 1s 38us/sample - loss: 49712.8113 - val_loss: 53717.2503\n",
      "Epoch 258/400\n",
      "34226/34226 [==============================] - 1s 41us/sample - loss: 49702.6604 - val_loss: 53741.0270\n",
      "Epoch 259/400\n",
      "34226/34226 [==============================] - 1s 41us/sample - loss: 49686.0511 - val_loss: 53721.1628\n",
      "Epoch 260/400\n",
      "34226/34226 [==============================] - 1s 42us/sample - loss: 49735.2465 - val_loss: 53795.7465\n",
      "Epoch 261/400\n",
      "34226/34226 [==============================] - 1s 40us/sample - loss: 49675.9439 - val_loss: 53725.1342\n",
      "Epoch 262/400\n",
      "34226/34226 [==============================] - 1s 41us/sample - loss: 49695.0442 - val_loss: 53782.4967\n",
      "Epoch 263/400\n",
      "34226/34226 [==============================] - 1s 41us/sample - loss: 49705.3406 - val_loss: 53708.9611\n",
      "Epoch 264/400\n",
      "34226/34226 [==============================] - 1s 39us/sample - loss: 49686.6335 - val_loss: 53695.1972\n",
      "Epoch 265/400\n",
      "34226/34226 [==============================] - 1s 40us/sample - loss: 49696.5204 - val_loss: 53697.6732\n",
      "Epoch 266/400\n",
      "34226/34226 [==============================] - 1s 40us/sample - loss: 49702.5263 - val_loss: 53732.0720\n",
      "Epoch 267/400\n",
      "34226/34226 [==============================] - 1s 40us/sample - loss: 49697.4935 - val_loss: 53839.0358\n",
      "Epoch 268/400\n",
      "34226/34226 [==============================] - 1s 40us/sample - loss: 49679.4975 - val_loss: 53759.2477\n",
      "Epoch 269/400\n",
      "34226/34226 [==============================] - 1s 42us/sample - loss: 49679.4757 - val_loss: 53775.4153\n",
      "Epoch 270/400\n",
      "34226/34226 [==============================] - 1s 41us/sample - loss: 49663.8517 - val_loss: 53747.2574\n",
      "Epoch 271/400\n",
      "34226/34226 [==============================] - 1s 41us/sample - loss: 49680.5478 - val_loss: 53824.0244\n",
      "Epoch 272/400\n",
      "34226/34226 [==============================] - 1s 40us/sample - loss: 49673.9540 - val_loss: 53701.0808\n",
      "Epoch 273/400\n",
      "34226/34226 [==============================] - 1s 41us/sample - loss: 49661.4087 - val_loss: 53673.8369\n",
      "Epoch 274/400\n",
      "34226/34226 [==============================] - 1s 40us/sample - loss: 49673.1757 - val_loss: 53671.0886\n",
      "Epoch 275/400\n",
      "34226/34226 [==============================] - 1s 41us/sample - loss: 49666.5460 - val_loss: 53795.4369\n",
      "Epoch 276/400\n",
      "34226/34226 [==============================] - 2s 55us/sample - loss: 49653.9691 - val_loss: 53816.6823\n",
      "Epoch 277/400\n",
      "34226/34226 [==============================] - 1s 43us/sample - loss: 49685.4331 - val_loss: 53707.3381\n",
      "Epoch 278/400\n"
     ]
    },
    {
     "name": "stdout",
     "output_type": "stream",
     "text": [
      "34226/34226 [==============================] - 1s 38us/sample - loss: 49644.3265 - val_loss: 53720.1287\n",
      "Epoch 279/400\n",
      "34226/34226 [==============================] - 1s 40us/sample - loss: 49651.1383 - val_loss: 53693.7011\n",
      "Epoch 280/400\n",
      "34226/34226 [==============================] - 1s 35us/sample - loss: 49639.1600 - val_loss: 53686.0376\n",
      "Epoch 281/400\n",
      "34226/34226 [==============================] - 1s 43us/sample - loss: 49648.3967 - val_loss: 53732.6836\n",
      "Epoch 282/400\n",
      "34226/34226 [==============================] - 1s 41us/sample - loss: 49650.1860 - val_loss: 53664.8917\n",
      "Epoch 283/400\n",
      "34226/34226 [==============================] - 2s 50us/sample - loss: 49658.5254 - val_loss: 53728.9337\n",
      "Epoch 284/400\n",
      "34226/34226 [==============================] - 2s 46us/sample - loss: 49640.6989 - val_loss: 53681.3614\n",
      "Epoch 285/400\n",
      "34226/34226 [==============================] - 2s 49us/sample - loss: 49663.9139 - val_loss: 53654.8137\n",
      "Epoch 286/400\n",
      "34226/34226 [==============================] - 2s 46us/sample - loss: 49633.2505 - val_loss: 53649.1290\n",
      "Epoch 287/400\n",
      "34226/34226 [==============================] - 1s 44us/sample - loss: 49636.8026 - val_loss: 53676.9452\n",
      "Epoch 288/400\n",
      "34226/34226 [==============================] - 1s 43us/sample - loss: 49672.6210 - val_loss: 53653.3753\n",
      "Epoch 289/400\n",
      "34226/34226 [==============================] - 1s 38us/sample - loss: 49677.9169 - val_loss: 53649.1576\n",
      "Epoch 290/400\n",
      "34226/34226 [==============================] - 1s 37us/sample - loss: 49661.0632 - val_loss: 53712.5791\n",
      "Epoch 291/400\n",
      "34226/34226 [==============================] - 1s 42us/sample - loss: 49638.6587 - val_loss: 53645.7692\n",
      "Epoch 292/400\n",
      "34226/34226 [==============================] - 1s 40us/sample - loss: 49650.7448 - val_loss: 53645.9614\n",
      "Epoch 293/400\n",
      "34226/34226 [==============================] - 1s 37us/sample - loss: 49623.5579 - val_loss: 53646.9622\n",
      "Epoch 294/400\n",
      "34226/34226 [==============================] - 1s 35us/sample - loss: 49626.2034 - val_loss: 53663.6981\n",
      "Epoch 295/400\n",
      "34226/34226 [==============================] - 1s 36us/sample - loss: 49627.1950 - val_loss: 53734.8861\n",
      "Epoch 296/400\n",
      "34226/34226 [==============================] - 1s 39us/sample - loss: 49623.8291 - val_loss: 53685.0056\n",
      "Epoch 297/400\n",
      "34226/34226 [==============================] - 1s 39us/sample - loss: 49614.0914 - val_loss: 53681.9587\n",
      "Epoch 298/400\n",
      "34226/34226 [==============================] - 1s 39us/sample - loss: 49613.8029 - val_loss: 53707.0224\n",
      "Epoch 299/400\n",
      "34226/34226 [==============================] - 1s 41us/sample - loss: 49603.9906 - val_loss: 53631.2086\n",
      "Epoch 300/400\n",
      "34226/34226 [==============================] - 1s 39us/sample - loss: 49617.8950 - val_loss: 53651.8723\n",
      "Epoch 301/400\n",
      "34226/34226 [==============================] - 1s 42us/sample - loss: 49634.5182 - val_loss: 53696.0414\n",
      "Epoch 302/400\n",
      "34226/34226 [==============================] - 1s 39us/sample - loss: 49610.3649 - val_loss: 53848.1983\n",
      "Epoch 303/400\n",
      "34226/34226 [==============================] - 1s 39us/sample - loss: 49595.9728 - val_loss: 53665.7711\n",
      "Epoch 304/400\n",
      "34226/34226 [==============================] - 1s 36us/sample - loss: 49612.6341 - val_loss: 53678.5908\n",
      "Epoch 305/400\n",
      "34226/34226 [==============================] - 1s 36us/sample - loss: 49596.0285 - val_loss: 53670.6870\n",
      "Epoch 306/400\n",
      "34226/34226 [==============================] - 1s 40us/sample - loss: 49590.6655 - val_loss: 53803.7382\n",
      "Epoch 307/400\n",
      "34226/34226 [==============================] - 1s 37us/sample - loss: 49610.3369 - val_loss: 53687.9476\n",
      "Epoch 308/400\n",
      "34226/34226 [==============================] - 1s 35us/sample - loss: 49583.0095 - val_loss: 53623.5512\n",
      "Epoch 309/400\n",
      "34226/34226 [==============================] - 1s 36us/sample - loss: 49598.5039 - val_loss: 53613.8153\n",
      "Epoch 310/400\n",
      "34226/34226 [==============================] - 1s 36us/sample - loss: 49585.9295 - val_loss: 53663.5558\n",
      "Epoch 311/400\n",
      "34226/34226 [==============================] - 1s 36us/sample - loss: 49600.6024 - val_loss: 53611.1170\n",
      "Epoch 312/400\n",
      "34226/34226 [==============================] - 1s 36us/sample - loss: 49588.7833 - val_loss: 53616.2849\n",
      "Epoch 313/400\n",
      "34226/34226 [==============================] - 1s 36us/sample - loss: 49582.7935 - val_loss: 53684.2433\n",
      "Epoch 314/400\n",
      "34226/34226 [==============================] - 1s 36us/sample - loss: 49576.6609 - val_loss: 53648.1872\n",
      "Epoch 315/400\n",
      "34226/34226 [==============================] - 1s 36us/sample - loss: 49594.6999 - val_loss: 53709.0597\n",
      "Epoch 316/400\n",
      "34226/34226 [==============================] - 1s 36us/sample - loss: 49587.7303 - val_loss: 53653.7295\n",
      "Epoch 317/400\n",
      "34226/34226 [==============================] - 1s 36us/sample - loss: 49583.0887 - val_loss: 53646.1716\n",
      "Epoch 318/400\n",
      "34226/34226 [==============================] - 1s 36us/sample - loss: 49603.1180 - val_loss: 53608.1579\n",
      "Epoch 319/400\n",
      "34226/34226 [==============================] - 1s 36us/sample - loss: 49573.9308 - val_loss: 53616.2781\n",
      "Epoch 320/400\n",
      "34226/34226 [==============================] - 1s 36us/sample - loss: 49629.0655 - val_loss: 53623.0335\n",
      "Epoch 321/400\n",
      "34226/34226 [==============================] - 1s 36us/sample - loss: 49575.1600 - val_loss: 53623.6055\n",
      "Epoch 322/400\n",
      "34226/34226 [==============================] - 1s 36us/sample - loss: 49566.2768 - val_loss: 53645.3004\n",
      "Epoch 323/400\n",
      "34226/34226 [==============================] - 1s 36us/sample - loss: 49570.4280 - val_loss: 53593.0773\n",
      "Epoch 324/400\n",
      "34226/34226 [==============================] - 1s 36us/sample - loss: 49589.6175 - val_loss: 53597.0072\n",
      "Epoch 325/400\n",
      "34226/34226 [==============================] - 1s 37us/sample - loss: 49570.7856 - val_loss: 53612.7149\n",
      "Epoch 326/400\n",
      "34226/34226 [==============================] - 1s 36us/sample - loss: 49565.3516 - val_loss: 53670.9536\n",
      "Epoch 327/400\n",
      "34226/34226 [==============================] - 1s 36us/sample - loss: 49584.0902 - val_loss: 53644.6582\n",
      "Epoch 328/400\n",
      "34226/34226 [==============================] - 1s 36us/sample - loss: 49569.3188 - val_loss: 53635.5763\n",
      "Epoch 329/400\n",
      "34226/34226 [==============================] - 2s 48us/sample - loss: 49555.0247 - val_loss: 53681.6888\n",
      "Epoch 330/400\n",
      "34226/34226 [==============================] - 2s 45us/sample - loss: 49591.6008 - val_loss: 53617.2398\n",
      "Epoch 331/400\n",
      "34226/34226 [==============================] - 1s 36us/sample - loss: 49576.8872 - val_loss: 53615.4928\n",
      "Epoch 332/400\n",
      "34226/34226 [==============================] - 1s 36us/sample - loss: 49580.1938 - val_loss: 53602.3141\n",
      "Epoch 333/400\n",
      "34226/34226 [==============================] - 1s 36us/sample - loss: 49539.4911 - val_loss: 53607.5327\n",
      "Epoch 334/400\n",
      "34226/34226 [==============================] - 1s 37us/sample - loss: 49576.7671 - val_loss: 53597.7690\n",
      "Epoch 335/400\n",
      "34226/34226 [==============================] - 1s 36us/sample - loss: 49561.6890 - val_loss: 53589.0301\n",
      "Epoch 336/400\n",
      "34226/34226 [==============================] - 1s 37us/sample - loss: 49542.1118 - val_loss: 53584.6127\n",
      "Epoch 337/400\n",
      "34226/34226 [==============================] - 1s 36us/sample - loss: 49582.9759 - val_loss: 53592.5215\n",
      "Epoch 338/400\n",
      "34226/34226 [==============================] - 1s 37us/sample - loss: 49548.9593 - val_loss: 53603.7143\n",
      "Epoch 339/400\n",
      "34226/34226 [==============================] - 1s 36us/sample - loss: 49554.2629 - val_loss: 53612.6108\n",
      "Epoch 340/400\n",
      "34226/34226 [==============================] - 1s 36us/sample - loss: 49571.5932 - val_loss: 53582.5053\n",
      "Epoch 341/400\n",
      "34226/34226 [==============================] - 1s 36us/sample - loss: 49559.3541 - val_loss: 53662.8726\n",
      "Epoch 342/400\n",
      "34226/34226 [==============================] - 1s 37us/sample - loss: 49540.4777 - val_loss: 53572.7096\n",
      "Epoch 343/400\n",
      "34226/34226 [==============================] - 1s 41us/sample - loss: 49539.8891 - val_loss: 53585.7942\n",
      "Epoch 344/400\n",
      "34226/34226 [==============================] - 1s 38us/sample - loss: 49550.5294 - val_loss: 53689.5496\n",
      "Epoch 345/400\n",
      "34226/34226 [==============================] - 1s 36us/sample - loss: 49545.2958 - val_loss: 53597.7687\n",
      "Epoch 346/400\n",
      "34226/34226 [==============================] - 1s 36us/sample - loss: 49532.1924 - val_loss: 53572.8357\n",
      "Epoch 347/400\n"
     ]
    },
    {
     "name": "stdout",
     "output_type": "stream",
     "text": [
      "34226/34226 [==============================] - 1s 34us/sample - loss: 49538.6026 - val_loss: 53587.9363\n",
      "Epoch 348/400\n",
      "34226/34226 [==============================] - 1s 35us/sample - loss: 49542.3660 - val_loss: 53560.2249\n",
      "Epoch 349/400\n",
      "34226/34226 [==============================] - 1s 36us/sample - loss: 49549.9157 - val_loss: 53604.0334\n",
      "Epoch 350/400\n",
      "34226/34226 [==============================] - 1s 37us/sample - loss: 49521.3179 - val_loss: 53577.8502\n",
      "Epoch 351/400\n",
      "34226/34226 [==============================] - 1s 34us/sample - loss: 49545.5132 - val_loss: 53575.7473\n",
      "Epoch 352/400\n",
      "34226/34226 [==============================] - 1s 34us/sample - loss: 49543.9513 - val_loss: 53576.4062\n",
      "Epoch 353/400\n",
      "34226/34226 [==============================] - 1s 34us/sample - loss: 49554.2532 - val_loss: 53638.9335\n",
      "Epoch 354/400\n",
      "34226/34226 [==============================] - 1s 38us/sample - loss: 49535.1868 - val_loss: 53586.9374\n",
      "Epoch 355/400\n",
      "34226/34226 [==============================] - 1s 38us/sample - loss: 49547.6016 - val_loss: 53669.3796\n",
      "Epoch 356/400\n",
      "34226/34226 [==============================] - 1s 38us/sample - loss: 49537.5104 - val_loss: 53558.3376\n",
      "Epoch 357/400\n",
      "34226/34226 [==============================] - 1s 34us/sample - loss: 49501.1773 - val_loss: 53826.7409\n",
      "Epoch 358/400\n",
      "34226/34226 [==============================] - 1s 34us/sample - loss: 49546.8878 - val_loss: 53630.5754\n",
      "Epoch 359/400\n",
      "34226/34226 [==============================] - 1s 38us/sample - loss: 49516.8602 - val_loss: 53554.2782\n",
      "Epoch 360/400\n",
      "34226/34226 [==============================] - 1s 39us/sample - loss: 49537.4360 - val_loss: 53578.8616\n",
      "Epoch 361/400\n",
      "34226/34226 [==============================] - 1s 41us/sample - loss: 49526.5448 - val_loss: 53591.0957\n",
      "Epoch 362/400\n",
      "34226/34226 [==============================] - 1s 35us/sample - loss: 49522.5249 - val_loss: 53546.0525\n",
      "Epoch 363/400\n",
      "34226/34226 [==============================] - 1s 38us/sample - loss: 49524.5660 - val_loss: 53585.9660\n",
      "Epoch 364/400\n",
      "34226/34226 [==============================] - 1s 40us/sample - loss: 49518.3480 - val_loss: 53550.1210\n",
      "Epoch 365/400\n",
      "34226/34226 [==============================] - 1s 37us/sample - loss: 49537.1733 - val_loss: 53554.1773\n",
      "Epoch 366/400\n",
      "34226/34226 [==============================] - 1s 35us/sample - loss: 49501.9553 - val_loss: 53551.7879\n",
      "Epoch 367/400\n",
      "34226/34226 [==============================] - 1s 35us/sample - loss: 49540.0260 - val_loss: 53554.4795\n",
      "Epoch 368/400\n",
      "34226/34226 [==============================] - 1s 35us/sample - loss: 49513.5557 - val_loss: 53533.7214\n",
      "Epoch 369/400\n",
      "34226/34226 [==============================] - 1s 35us/sample - loss: 49496.4602 - val_loss: 53567.2813\n",
      "Epoch 370/400\n",
      "34226/34226 [==============================] - 1s 36us/sample - loss: 49494.5892 - val_loss: 53540.5158\n",
      "Epoch 371/400\n",
      "34226/34226 [==============================] - 1s 35us/sample - loss: 49524.1872 - val_loss: 53540.3679\n",
      "Epoch 372/400\n",
      "34226/34226 [==============================] - 1s 36us/sample - loss: 49504.1421 - val_loss: 53563.1221\n",
      "Epoch 373/400\n",
      "34226/34226 [==============================] - 1s 36us/sample - loss: 49482.3577 - val_loss: 53562.1905\n",
      "Epoch 374/400\n",
      "34226/34226 [==============================] - 1s 36us/sample - loss: 49513.4443 - val_loss: 53575.3519\n",
      "Epoch 375/400\n",
      "34226/34226 [==============================] - 1s 35us/sample - loss: 49528.5409 - val_loss: 53536.7984\n",
      "Epoch 376/400\n",
      "34226/34226 [==============================] - 1s 35us/sample - loss: 49491.5719 - val_loss: 53619.9067\n",
      "Epoch 377/400\n",
      "34226/34226 [==============================] - 1s 36us/sample - loss: 49490.7616 - val_loss: 53606.1740\n",
      "Epoch 378/400\n",
      "34226/34226 [==============================] - 1s 36us/sample - loss: 49491.0793 - val_loss: 53718.1810\n",
      "Epoch 379/400\n",
      "34226/34226 [==============================] - 1s 36us/sample - loss: 49506.0388 - val_loss: 53525.1034\n",
      "Epoch 380/400\n",
      "34226/34226 [==============================] - 1s 36us/sample - loss: 49476.4848 - val_loss: 53564.4697\n",
      "Epoch 381/400\n",
      "34226/34226 [==============================] - 1s 36us/sample - loss: 49492.3353 - val_loss: 53516.9074\n",
      "Epoch 382/400\n",
      "34226/34226 [==============================] - 1s 35us/sample - loss: 49496.4434 - val_loss: 53666.8198\n",
      "Epoch 383/400\n",
      "34226/34226 [==============================] - 1s 36us/sample - loss: 49465.9054 - val_loss: 53522.6018\n",
      "Epoch 384/400\n",
      "34226/34226 [==============================] - 1s 35us/sample - loss: 49510.2987 - val_loss: 53511.3281\n",
      "Epoch 385/400\n",
      "34226/34226 [==============================] - 1s 36us/sample - loss: 49481.8461 - val_loss: 53559.5655\n",
      "Epoch 386/400\n",
      "34226/34226 [==============================] - 1s 36us/sample - loss: 49482.0938 - val_loss: 53505.9356\n",
      "Epoch 387/400\n",
      "34226/34226 [==============================] - 1s 39us/sample - loss: 49502.6086 - val_loss: 53529.0325\n",
      "Epoch 388/400\n",
      "34226/34226 [==============================] - 2s 44us/sample - loss: 49517.2603 - val_loss: 53515.0678\n",
      "Epoch 389/400\n",
      "34226/34226 [==============================] - 1s 37us/sample - loss: 49491.4968 - val_loss: 53554.0358\n",
      "Epoch 390/400\n",
      "34226/34226 [==============================] - 1s 36us/sample - loss: 49499.0469 - val_loss: 53556.3540\n",
      "Epoch 391/400\n",
      "34226/34226 [==============================] - 1s 35us/sample - loss: 49469.3069 - val_loss: 53690.3849\n",
      "Epoch 392/400\n",
      "34226/34226 [==============================] - 1s 35us/sample - loss: 49488.4117 - val_loss: 53628.0892\n",
      "Epoch 393/400\n",
      "34226/34226 [==============================] - 1s 36us/sample - loss: 49513.5628 - val_loss: 53549.3803\n",
      "Epoch 394/400\n",
      "34226/34226 [==============================] - 1s 36us/sample - loss: 49460.1163 - val_loss: 53514.0427\n",
      "Epoch 395/400\n",
      "34226/34226 [==============================] - 1s 36us/sample - loss: 49499.7702 - val_loss: 53507.9249\n",
      "Epoch 396/400\n",
      "34226/34226 [==============================] - 1s 38us/sample - loss: 49483.3433 - val_loss: 53543.6901\n",
      "Epoch 397/400\n",
      "34226/34226 [==============================] - 1s 39us/sample - loss: 49475.2572 - val_loss: 53513.9330\n",
      "Epoch 398/400\n",
      "34226/34226 [==============================] - 1s 37us/sample - loss: 49481.8866 - val_loss: 53545.4215\n",
      "Epoch 399/400\n",
      "34226/34226 [==============================] - 1s 36us/sample - loss: 49458.1178 - val_loss: 53576.9860\n",
      "Epoch 400/400\n",
      "34226/34226 [==============================] - 1s 35us/sample - loss: 49460.7271 - val_loss: 53570.9990\n"
     ]
    },
    {
     "data": {
      "text/plain": [
       "<tensorflow.python.keras.callbacks.History at 0x1a5f7c96a0>"
      ]
     },
     "execution_count": 45,
     "metadata": {},
     "output_type": "execute_result"
    }
   ],
   "source": [
    "model.fit(x=X_train,y=y_train.values,validation_data=(X_test,y_test.values),batch_size=128,epochs=400)"
   ]
  },
  {
   "cell_type": "code",
   "execution_count": 46,
   "metadata": {},
   "outputs": [],
   "source": [
    "losses = pd.DataFrame(model.history.history)"
   ]
  },
  {
   "cell_type": "code",
   "execution_count": 47,
   "metadata": {},
   "outputs": [
    {
     "data": {
      "text/plain": [
       "<matplotlib.axes._subplots.AxesSubplot at 0x1a5fe50c88>"
      ]
     },
     "execution_count": 47,
     "metadata": {},
     "output_type": "execute_result"
    },
    {
     "data": {
      "image/png": "[encoded data removed]",
      "text/plain": [
       "<Figure size 432x288 with 1 Axes>"
      ]
     },
     "metadata": {
      "needs_background": "light"
     },
     "output_type": "display_data"
    }
   ],
   "source": [
    "losses.plot()"
   ]
  },
  {
   "cell_type": "code",
   "execution_count": 52,
   "metadata": {},
   "outputs": [],
   "source": [
    "from sklearn.metrics import mean_squared_error,mean_absolute_error,explained_variance_score\n",
    "\n",
    "nn_pred = model.predict(X_test)"
   ]
  },
  {
   "cell_type": "code",
   "execution_count": 49,
   "metadata": {},
   "outputs": [
    {
     "data": {
      "text/plain": [
       "69.8521074280351"
      ]
     },
     "execution_count": 49,
     "metadata": {},
     "output_type": "execute_result"
    }
   ],
   "source": [
    "mean_absolute_error(y_test,nn_pred)"
   ]
  },
  {
   "cell_type": "code",
   "execution_count": 50,
   "metadata": {},
   "outputs": [
    {
     "data": {
      "text/plain": [
       "231.45409971827561"
      ]
     },
     "execution_count": 50,
     "metadata": {},
     "output_type": "execute_result"
    }
   ],
   "source": [
    "np.sqrt(mean_squared_error(y_test,nn_pred))"
   ]
  },
  {
   "cell_type": "code",
   "execution_count": 51,
   "metadata": {},
   "outputs": [
    {
     "data": {
      "text/plain": [
       "0.12454802421440381"
      ]
     },
     "execution_count": 51,
     "metadata": {},
     "output_type": "execute_result"
    }
   ],
   "source": [
    "explained_variance_score(y_test,nn_pred)"
   ]
  },
  {
   "cell_type": "code",
   "execution_count": 54,
   "metadata": {},
   "outputs": [
    {
     "data": {
      "text/plain": [
       "[<matplotlib.lines.Line2D at 0x1a373515f8>]"
      ]
     },
     "execution_count": 54,
     "metadata": {},
     "output_type": "execute_result"
    },
    {
     "data": {
      "image/png": "[encoded data removed]",
      "text/plain": [
       "<Figure size 432x288 with 1 Axes>"
      ]
     },
     "metadata": {
      "needs_background": "light"
     },
     "output_type": "display_data"
    }
   ],
   "source": [
    "# predictions\n",
    "plt.scatter(y_test,nn_pred)\n",
    "plt.plot(y_test,y_test,'r')"
   ]
  },
  {
   "cell_type": "code",
   "execution_count": null,
   "metadata": {},
   "outputs": [],
   "source": []
  }
 ],
 "metadata": {
  "kernelspec": {
   "display_name": "Python 3",
   "language": "python",
   "name": "python3"
  },
  "language_info": {
   "codemirror_mode": {
    "name": "ipython",
    "version": 3
   },
   "file_extension": ".py",
   "mimetype": "text/x-python",
   "name": "python",
   "nbconvert_exporter": "python",
   "pygments_lexer": "ipython3",
   "version": "3.7.3"
  }
 },
 "nbformat": 4,
 "nbformat_minor": 2
}
