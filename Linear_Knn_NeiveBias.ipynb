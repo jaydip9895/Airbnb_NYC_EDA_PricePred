{
 "cells": [
  {
   "cell_type": "markdown",
   "metadata": {},
   "source": [
    "# Airbnb Price Prediction"
   ]
  },
  {
   "cell_type": "markdown",
   "metadata": {},
   "source": [
    "**The particular dataset is taken from AirBNB new York dataset containing 16 attributes and 48896 observations. AirBNB price prediction becomes a big necessity nowadays because of the increasing number of listings going on every year throughout the entire united states. It becomes more easier for the new lister in this industry to know the rental price of their assets in daily basis depending upon various factors which governs this.** \n",
    "\n",
    "\n",
    "In this project ww will make the prediction of the AirBNB pricing in the New York city is emphasized based on different Machine Learning Algorithms namely KNN, Regression, Gaussian Naive Bayes, SVM, Random Forest and Kmean clusturing."
   ]
  },
  {
   "cell_type": "code",
   "execution_count": 1,
   "metadata": {},
   "outputs": [],
   "source": [
    "#importing useful libraries\n",
    "import numpy as np\n",
    "import pandas as pd\n",
    "import matplotlib.pyplot as plt\n",
    "from IPython import display\n",
    "import seaborn as sns\n",
    "import numba\n",
    "from numba import cuda\n",
    "from sklearn.preprocessing import MinMaxScaler\n",
    "from sklearn.model_selection import train_test_split\n",
    "from sklearn.metrics import fbeta_score, accuracy_score\n",
    "from sklearn.linear_model import LinearRegression\n",
    "from sklearn.naive_bayes import GaussianNB\n",
    "from sklearn.ensemble import RandomForestClassifier, AdaBoostClassifier\n",
    "from sklearn.tree import DecisionTreeClassifier\n",
    "from sklearn.svm import SVC\n",
    "from sklearn.neighbors import KNeighborsRegressor, KNeighborsClassifier\n",
    "from sklearn.metrics import r2_score, mean_squared_error\n",
    "from sklearn.model_selection import GridSearchCV,cross_val_score, cross_validate\n",
    "from sklearn.metrics import fbeta_score, make_scorer, SCORERS\n",
    "%matplotlib inline"
   ]
  },
  {
   "cell_type": "markdown",
   "metadata": {},
   "source": [
    "**We will first import the data set and visulize the dataset to see inside the data**"
   ]
  },
  {
   "cell_type": "code",
   "execution_count": 2,
   "metadata": {},
   "outputs": [],
   "source": [
    "#getting dataset from csv file \n",
    "listing_df = pd.read_csv('listings_summary.csv')\n",
    "neighbourhood_df = pd.read_csv('neighbourhoods.csv')\n",
    "#reviews_df = pd.read_csv('reviews_summary.csv')"
   ]
  },
  {
   "cell_type": "code",
   "execution_count": 3,
   "metadata": {},
   "outputs": [
    {
     "data": {
      "text/html": [
       "<div>\n",
       "<style scoped>\n",
       "    .dataframe tbody tr th:only-of-type {\n",
       "        vertical-align: middle;\n",
       "    }\n",
       "\n",
       "    .dataframe tbody tr th {\n",
       "        vertical-align: top;\n",
       "    }\n",
       "\n",
       "    .dataframe thead th {\n",
       "        text-align: right;\n",
       "    }\n",
       "</style>\n",
       "<table border=\"1\" class=\"dataframe\">\n",
       "  <thead>\n",
       "    <tr style=\"text-align: right;\">\n",
       "      <th></th>\n",
       "      <th>id</th>\n",
       "      <th>name</th>\n",
       "      <th>host_id</th>\n",
       "      <th>host_name</th>\n",
       "      <th>neighbourhood_group</th>\n",
       "      <th>neighbourhood</th>\n",
       "      <th>latitude</th>\n",
       "      <th>longitude</th>\n",
       "      <th>room_type</th>\n",
       "      <th>price</th>\n",
       "      <th>minimum_nights</th>\n",
       "      <th>number_of_reviews</th>\n",
       "      <th>last_review</th>\n",
       "      <th>reviews_per_month</th>\n",
       "      <th>calculated_host_listings_count</th>\n",
       "      <th>availability_365</th>\n",
       "    </tr>\n",
       "  </thead>\n",
       "  <tbody>\n",
       "    <tr>\n",
       "      <td>0</td>\n",
       "      <td>18461891</td>\n",
       "      <td>Bright, comfortable 1B studio near everything!</td>\n",
       "      <td>916092</td>\n",
       "      <td>Connie Mae</td>\n",
       "      <td>Queens</td>\n",
       "      <td>Ditmars Steinway</td>\n",
       "      <td>40.774142</td>\n",
       "      <td>-73.916246</td>\n",
       "      <td>Entire home/apt</td>\n",
       "      <td>110</td>\n",
       "      <td>6</td>\n",
       "      <td>0</td>\n",
       "      <td>NaN</td>\n",
       "      <td>NaN</td>\n",
       "      <td>1</td>\n",
       "      <td>0</td>\n",
       "    </tr>\n",
       "    <tr>\n",
       "      <td>1</td>\n",
       "      <td>20702398</td>\n",
       "      <td>Quiet house on City Island</td>\n",
       "      <td>1457680</td>\n",
       "      <td>James</td>\n",
       "      <td>Bronx</td>\n",
       "      <td>City Island</td>\n",
       "      <td>40.849191</td>\n",
       "      <td>-73.786509</td>\n",
       "      <td>Private room</td>\n",
       "      <td>50</td>\n",
       "      <td>1</td>\n",
       "      <td>2</td>\n",
       "      <td>2017-10-01</td>\n",
       "      <td>2.00</td>\n",
       "      <td>1</td>\n",
       "      <td>169</td>\n",
       "    </tr>\n",
       "    <tr>\n",
       "      <td>2</td>\n",
       "      <td>6627449</td>\n",
       "      <td>Large 1 BDRM in Great location</td>\n",
       "      <td>13886510</td>\n",
       "      <td>Arlene</td>\n",
       "      <td>Bronx</td>\n",
       "      <td>City Island</td>\n",
       "      <td>40.849775</td>\n",
       "      <td>-73.786609</td>\n",
       "      <td>Entire home/apt</td>\n",
       "      <td>125</td>\n",
       "      <td>3</td>\n",
       "      <td>21</td>\n",
       "      <td>2017-09-26</td>\n",
       "      <td>0.77</td>\n",
       "      <td>1</td>\n",
       "      <td>363</td>\n",
       "    </tr>\n",
       "    <tr>\n",
       "      <td>3</td>\n",
       "      <td>19949243</td>\n",
       "      <td>Stay aboard  a sailboat</td>\n",
       "      <td>1149260</td>\n",
       "      <td>MoMo</td>\n",
       "      <td>Bronx</td>\n",
       "      <td>City Island</td>\n",
       "      <td>40.848838</td>\n",
       "      <td>-73.782276</td>\n",
       "      <td>Entire home/apt</td>\n",
       "      <td>100</td>\n",
       "      <td>3</td>\n",
       "      <td>0</td>\n",
       "      <td>NaN</td>\n",
       "      <td>NaN</td>\n",
       "      <td>1</td>\n",
       "      <td>90</td>\n",
       "    </tr>\n",
       "    <tr>\n",
       "      <td>4</td>\n",
       "      <td>1886820</td>\n",
       "      <td>Quaint City Island Community.</td>\n",
       "      <td>9815788</td>\n",
       "      <td>Steve</td>\n",
       "      <td>Bronx</td>\n",
       "      <td>City Island</td>\n",
       "      <td>40.841144</td>\n",
       "      <td>-73.783052</td>\n",
       "      <td>Entire home/apt</td>\n",
       "      <td>300</td>\n",
       "      <td>7</td>\n",
       "      <td>0</td>\n",
       "      <td>NaN</td>\n",
       "      <td>NaN</td>\n",
       "      <td>1</td>\n",
       "      <td>365</td>\n",
       "    </tr>\n",
       "  </tbody>\n",
       "</table>\n",
       "</div>"
      ],
      "text/plain": [
       "         id                                            name   host_id  \\\n",
       "0  18461891  Bright, comfortable 1B studio near everything!    916092   \n",
       "1  20702398                      Quiet house on City Island   1457680   \n",
       "2   6627449                  Large 1 BDRM in Great location  13886510   \n",
       "3  19949243                         Stay aboard  a sailboat   1149260   \n",
       "4   1886820                  Quaint City Island Community.    9815788   \n",
       "\n",
       "    host_name neighbourhood_group     neighbourhood   latitude  longitude  \\\n",
       "0  Connie Mae              Queens  Ditmars Steinway  40.774142 -73.916246   \n",
       "1       James               Bronx       City Island  40.849191 -73.786509   \n",
       "2      Arlene               Bronx       City Island  40.849775 -73.786609   \n",
       "3        MoMo               Bronx       City Island  40.848838 -73.782276   \n",
       "4       Steve               Bronx       City Island  40.841144 -73.783052   \n",
       "\n",
       "         room_type  price  minimum_nights  number_of_reviews last_review  \\\n",
       "0  Entire home/apt    110               6                  0         NaN   \n",
       "1     Private room     50               1                  2  2017-10-01   \n",
       "2  Entire home/apt    125               3                 21  2017-09-26   \n",
       "3  Entire home/apt    100               3                  0         NaN   \n",
       "4  Entire home/apt    300               7                  0         NaN   \n",
       "\n",
       "   reviews_per_month  calculated_host_listings_count  availability_365  \n",
       "0                NaN                               1                 0  \n",
       "1               2.00                               1               169  \n",
       "2               0.77                               1               363  \n",
       "3                NaN                               1                90  \n",
       "4                NaN                               1               365  "
      ]
     },
     "execution_count": 3,
     "metadata": {},
     "output_type": "execute_result"
    }
   ],
   "source": [
    "#printing dataset for listing\n",
    "listing_df.head()"
   ]
  },
  {
   "cell_type": "code",
   "execution_count": 4,
   "metadata": {},
   "outputs": [
    {
     "data": {
      "text/html": [
       "<div>\n",
       "<style scoped>\n",
       "    .dataframe tbody tr th:only-of-type {\n",
       "        vertical-align: middle;\n",
       "    }\n",
       "\n",
       "    .dataframe tbody tr th {\n",
       "        vertical-align: top;\n",
       "    }\n",
       "\n",
       "    .dataframe thead th {\n",
       "        text-align: right;\n",
       "    }\n",
       "</style>\n",
       "<table border=\"1\" class=\"dataframe\">\n",
       "  <thead>\n",
       "    <tr style=\"text-align: right;\">\n",
       "      <th></th>\n",
       "      <th>neighbourhood_group</th>\n",
       "      <th>neighbourhood</th>\n",
       "    </tr>\n",
       "  </thead>\n",
       "  <tbody>\n",
       "    <tr>\n",
       "      <td>0</td>\n",
       "      <td>Bronx</td>\n",
       "      <td>Allerton</td>\n",
       "    </tr>\n",
       "    <tr>\n",
       "      <td>1</td>\n",
       "      <td>Bronx</td>\n",
       "      <td>Baychester</td>\n",
       "    </tr>\n",
       "    <tr>\n",
       "      <td>2</td>\n",
       "      <td>Bronx</td>\n",
       "      <td>Belmont</td>\n",
       "    </tr>\n",
       "    <tr>\n",
       "      <td>3</td>\n",
       "      <td>Bronx</td>\n",
       "      <td>Bronxdale</td>\n",
       "    </tr>\n",
       "    <tr>\n",
       "      <td>4</td>\n",
       "      <td>Bronx</td>\n",
       "      <td>Castle Hill</td>\n",
       "    </tr>\n",
       "  </tbody>\n",
       "</table>\n",
       "</div>"
      ],
      "text/plain": [
       "  neighbourhood_group neighbourhood\n",
       "0               Bronx      Allerton\n",
       "1               Bronx    Baychester\n",
       "2               Bronx       Belmont\n",
       "3               Bronx     Bronxdale\n",
       "4               Bronx   Castle Hill"
      ]
     },
     "execution_count": 4,
     "metadata": {},
     "output_type": "execute_result"
    }
   ],
   "source": [
    "#printing dataset for neighbourhood\n",
    "neighbourhood_df.head()"
   ]
  },
  {
   "cell_type": "code",
   "execution_count": 5,
   "metadata": {},
   "outputs": [
    {
     "data": {
      "text/html": [
       "<div>\n",
       "<style scoped>\n",
       "    .dataframe tbody tr th:only-of-type {\n",
       "        vertical-align: middle;\n",
       "    }\n",
       "\n",
       "    .dataframe tbody tr th {\n",
       "        vertical-align: top;\n",
       "    }\n",
       "\n",
       "    .dataframe thead th {\n",
       "        text-align: right;\n",
       "    }\n",
       "</style>\n",
       "<table border=\"1\" class=\"dataframe\">\n",
       "  <thead>\n",
       "    <tr style=\"text-align: right;\">\n",
       "      <th></th>\n",
       "      <th>listing_id</th>\n",
       "      <th>date</th>\n",
       "    </tr>\n",
       "  </thead>\n",
       "  <tbody>\n",
       "    <tr>\n",
       "      <td>0</td>\n",
       "      <td>9452127</td>\n",
       "      <td>2016-01-05</td>\n",
       "    </tr>\n",
       "    <tr>\n",
       "      <td>1</td>\n",
       "      <td>9452127</td>\n",
       "      <td>2016-01-10</td>\n",
       "    </tr>\n",
       "    <tr>\n",
       "      <td>2</td>\n",
       "      <td>9452127</td>\n",
       "      <td>2016-01-11</td>\n",
       "    </tr>\n",
       "    <tr>\n",
       "      <td>3</td>\n",
       "      <td>9452127</td>\n",
       "      <td>2016-02-15</td>\n",
       "    </tr>\n",
       "    <tr>\n",
       "      <td>4</td>\n",
       "      <td>9452127</td>\n",
       "      <td>2016-02-22</td>\n",
       "    </tr>\n",
       "  </tbody>\n",
       "</table>\n",
       "</div>"
      ],
      "text/plain": [
       "   listing_id        date\n",
       "0     9452127  2016-01-05\n",
       "1     9452127  2016-01-10\n",
       "2     9452127  2016-01-11\n",
       "3     9452127  2016-02-15\n",
       "4     9452127  2016-02-22"
      ]
     },
     "execution_count": 5,
     "metadata": {},
     "output_type": "execute_result"
    }
   ],
   "source": [
    "#printing data for reviews\n",
    "reviews_df.head()"
   ]
  },
  {
   "cell_type": "code",
   "execution_count": 8,
   "metadata": {},
   "outputs": [
    {
     "data": {
      "text/plain": [
       "{'last_review', 'reviews_per_month'}"
      ]
     },
     "execution_count": 8,
     "metadata": {},
     "output_type": "execute_result"
    }
   ],
   "source": [
    "#getting null coloums from listing dataset\n",
    "set(listing_df.columns[listing_df.isnull().mean() > .1])"
   ]
  },
  {
   "cell_type": "code",
   "execution_count": 9,
   "metadata": {},
   "outputs": [
    {
     "data": {
      "text/plain": [
       "id                                0.000000\n",
       "name                              0.000632\n",
       "host_id                           0.000000\n",
       "host_name                         0.005235\n",
       "neighbourhood_group               0.000000\n",
       "neighbourhood                     0.000000\n",
       "latitude                          0.000000\n",
       "longitude                         0.000000\n",
       "room_type                         0.000000\n",
       "price                             0.000000\n",
       "minimum_nights                    0.000000\n",
       "number_of_reviews                 0.000000\n",
       "last_review                       0.213011\n",
       "reviews_per_month                 0.213778\n",
       "calculated_host_listings_count    0.000000\n",
       "availability_365                  0.000000\n",
       "dtype: float64"
      ]
     },
     "execution_count": 9,
     "metadata": {},
     "output_type": "execute_result"
    }
   ],
   "source": [
    "listing_df.isnull().mean()"
   ]
  },
  {
   "cell_type": "markdown",
   "metadata": {},
   "source": [
    "# Neighbourhood Groups and Reviews Visulization"
   ]
  },
  {
   "cell_type": "markdown",
   "metadata": {},
   "source": [
    "Listing dataset containg Neighbourhood data and from that we can get useful information.\n",
    "From this data we can make differant histogram like \n",
    "\n",
    "No. of Airbnb house Listings in Neighbourhood\n",
    "\n",
    "No. of Airbnb Reviews in Neighbourhood Groups\n",
    "\n",
    "Average Price of Airbnb Listing in NYC\n",
    "\n"
   ]
  },
  {
   "cell_type": "code",
   "execution_count": 10,
   "metadata": {},
   "outputs": [
    {
     "name": "stdout",
     "output_type": "stream",
     "text": [
      "No. of home listed in that neighbourhood: \n",
      "Manhattan        20370\n",
      "Brooklyn         18470\n",
      "Queens            4392\n",
      "Bronx              791\n",
      "Staten Island      294\n",
      "Name: neighbourhood_group, dtype: int64\n",
      "Manhattan        4074.0\n",
      "Brooklyn         3694.0\n",
      "Queens            878.4\n",
      "Bronx             158.2\n",
      "Staten Island      58.8\n",
      "Name: neighbourhood_group, dtype: float64\n"
     ]
    },
    {
     "data": {
      "text/plain": [
       "Text(0.5, 1.0, 'No. of Airbnb house Listings in Neighbourhood')"
      ]
     },
     "execution_count": 10,
     "metadata": {},
     "output_type": "execute_result"
    },
    {
     "data": {
      "image/png": "[encoded data removed]",
      "text/plain": [
       "<Figure size 720x720 with 1 Axes>"
      ]
     },
     "metadata": {
      "needs_background": "light"
     },
     "output_type": "display_data"
    }
   ],
   "source": [
    "#get no. of home listed in that neighbourhood\n",
    "n_group = listing_df.neighbourhood_group.value_counts().sort_values(ascending = False)\n",
    "print('No. of home listed in that neighbourhood: \\n{}'.format(n_group))\n",
    "print(n_group/n_group.shape[0])\n",
    "\n",
    "#print histogram for Neighbourhood Groups\n",
    "(n_group/n_group.shape[0]).plot(kind = \"bar\", figsize = (10,10))\n",
    "plt.title(\"No. of Airbnb house Listings in Neighbourhood\")"
   ]
  },
  {
   "cell_type": "markdown",
   "metadata": {},
   "source": [
    "From this we can see that high no of house listed in Manhattan while Bronx and Staten Island have lowest listing.\n"
   ]
  },
  {
   "cell_type": "markdown",
   "metadata": {},
   "source": [
    "## Highest Airbnb reviews in NYC with List of neighbourhoods"
   ]
  },
  {
   "cell_type": "markdown",
   "metadata": {},
   "source": [
    "From this we can see that no of reviews in perticular neighbuor hood group. As we seen above Manhattan is famous for listing more house, we have more no of reviews in the same area group."
   ]
  },
  {
   "cell_type": "code",
   "execution_count": 11,
   "metadata": {},
   "outputs": [
    {
     "name": "stdout",
     "output_type": "stream",
     "text": [
      "No. of reviews in neighbourhood:\n",
      "                  neighbourhood_group neighbourhood\n",
      "number_of_reviews                                  \n",
      "489                         Manhattan        Harlem\n",
      "474                         Manhattan        Harlem\n",
      "465                         Manhattan        Harlem\n",
      "394                          Brooklyn  Williamsburg\n",
      "383                          Brooklyn   South Slope\n",
      "...                               ...           ...\n",
      "4                       Staten Island      Woodside\n",
      "3                       Staten Island      Woodside\n",
      "2                       Staten Island      Woodside\n",
      "1                       Staten Island      Woodside\n",
      "0                       Staten Island      Woodside\n",
      "\n",
      "[295 rows x 2 columns]\n",
      "unique neighbourhood: ['Queens', 'Bronx', 'Brooklyn', 'Staten Island', 'Manhattan']\n"
     ]
    }
   ],
   "source": [
    "#getting no of reviews in neighbourhood with neighbourhood group\n",
    "area_review = listing_df.groupby(by = [\"number_of_reviews\"])[\"neighbourhood_group\",\"neighbourhood\"].max()[::-1]\n",
    "print(\"No. of reviews in neighbourhood:\\n{}\".format(area_review))#printing the result\n",
    "print(\"unique neighbourhood: {}\".format(listing_df.neighbourhood_group.unique().tolist()))#print the unique value in neighbourhood group"
   ]
  },
  {
   "cell_type": "markdown",
   "metadata": {},
   "source": [
    "**Number of Reviews in Neighbourhood Groups**"
   ]
  },
  {
   "cell_type": "markdown",
   "metadata": {},
   "source": [
    "This shows total no of reviews in perticular area or group and We can see from histogram that Manhattan have most no. of reviews while Bronx and staten Island gets least no of reviews."
   ]
  },
  {
   "cell_type": "code",
   "execution_count": 12,
   "metadata": {},
   "outputs": [],
   "source": [
    "#Number of Reviews in Neighbourhood Groups\n",
    "area_review_2 = listing_df.groupby(by = [\"neighbourhood_group\"])[\"number_of_reviews\"].sum()[::-1].sort_values(ascending = False)"
   ]
  },
  {
   "cell_type": "code",
   "execution_count": 13,
   "metadata": {},
   "outputs": [
    {
     "name": "stdout",
     "output_type": "stream",
     "text": [
      "Number of Reviews in Neighbourhood Groups:\n",
      "neighbourhood_group\n",
      "Manhattan        375675\n",
      "Brooklyn         321546\n",
      "Queens            87300\n",
      "Bronx             13454\n",
      "Staten Island      6194\n",
      "Name: number_of_reviews, dtype: int64\n"
     ]
    },
    {
     "data": {
      "text/plain": [
       "Text(0.5, 1.0, 'No. of Airbnb Reviews in Neighbourhood Groups')"
      ]
     },
     "execution_count": 13,
     "metadata": {},
     "output_type": "execute_result"
    },
    {
     "data": {
      "image/png": "[encoded data removed]",
      "text/plain": [
       "<Figure size 720x720 with 1 Axes>"
      ]
     },
     "metadata": {
      "needs_background": "light"
     },
     "output_type": "display_data"
    }
   ],
   "source": [
    "print('Number of Reviews in Neighbourhood Groups:\\n{}'.format(area_review_2))\n",
    "#getting the histogrma\n",
    "area_review_2.plot(kind = \"bar\", figsize = (10,10))\n",
    "plt.title(\"No. of Airbnb Reviews in Neighbourhood Groups\")"
   ]
  },
  {
   "cell_type": "markdown",
   "metadata": {},
   "source": [
    "## Average Price of Airbnb Listing in NYC Neighbourhood Groups"
   ]
  },
  {
   "cell_type": "markdown",
   "metadata": {},
   "source": [
    "From this we can see that avg price in perticular neighbour hood group. From histogram, we can see that as Manhattan is clearly famous neighbourhood area in NYC, We have high avg price also in same area which is as high as 180$."
   ]
  },
  {
   "cell_type": "code",
   "execution_count": 14,
   "metadata": {},
   "outputs": [],
   "source": [
    "#Average Price of Airbnb Listing in NYC\n",
    "area_price = listing_df.groupby(by = [\"neighbourhood_group\"])[\"price\"].mean()[::-1].sort_values(ascending = False)"
   ]
  },
  {
   "cell_type": "code",
   "execution_count": 15,
   "metadata": {},
   "outputs": [
    {
     "name": "stdout",
     "output_type": "stream",
     "text": [
      "Average Price of Airbnb Listing in NYC:\n",
      "neighbourhood_group\n",
      "Manhattan        185.082867\n",
      "Staten Island    126.517007\n",
      "Brooklyn         120.701624\n",
      "Queens            99.620674\n",
      "Bronx             88.910240\n",
      "Name: price, dtype: float64\n"
     ]
    },
    {
     "data": {
      "text/plain": [
       "Text(0.5, 1.0, 'Average Price of Airbnb Listing in NYC')"
      ]
     },
     "execution_count": 15,
     "metadata": {},
     "output_type": "execute_result"
    },
    {
     "data": {
      "image/png": "[encoded data removed]",
      "text/plain": [
       "<Figure size 720x720 with 1 Axes>"
      ]
     },
     "metadata": {
      "needs_background": "light"
     },
     "output_type": "display_data"
    }
   ],
   "source": [
    "print('Average Price of Airbnb Listing in NYC:\\n{}'.format(area_price))\n",
    "\n",
    "area_price.plot(kind = \"bar\", figsize = (10,10))\n",
    "plt.title(\"Average Price of Airbnb Listing in NYC\")"
   ]
  },
  {
   "cell_type": "code",
   "execution_count": 16,
   "metadata": {},
   "outputs": [],
   "source": [
    "price_review = pd.concat([area_review_2,area_price], axis = 1, sort = True).sort_values(by=\"number_of_reviews\", ascending =  False)"
   ]
  },
  {
   "cell_type": "code",
   "execution_count": 17,
   "metadata": {},
   "outputs": [
    {
     "name": "stdout",
     "output_type": "stream",
     "text": [
      "Average Prices and Number of Reviews on Airbnb Listings in NYC:\n",
      "               number_of_reviews       price\n",
      "Manhattan                 375675  185.082867\n",
      "Brooklyn                  321546  120.701624\n",
      "Queens                     87300   99.620674\n",
      "Bronx                      13454   88.910240\n",
      "Staten Island               6194  126.517007\n"
     ]
    }
   ],
   "source": [
    "print('Average Prices and Number of Reviews on Airbnb Listings in NYC:\\n{}'.format(price_review))"
   ]
  },
  {
   "cell_type": "markdown",
   "metadata": {},
   "source": [
    "We can also see that Staten Island is not so famous place for listing house and as we dont have mush listing and reviews in the same area, still the avg price in staten island is second highest in all neighbourhood group."
   ]
  },
  {
   "cell_type": "markdown",
   "metadata": {},
   "source": [
    "## Reviews per Month and price of different Neighbourhood Groups in NYC"
   ]
  },
  {
   "cell_type": "markdown",
   "metadata": {},
   "source": [
    "In this main 5 Neighbourhood group, we have sun differant  neighbourhood group also in NYC listing dataset.\n",
    "We can get the data for no of reviews in that neighbourhood and price in that neighbourhood."
   ]
  },
  {
   "cell_type": "code",
   "execution_count": 18,
   "metadata": {},
   "outputs": [],
   "source": [
    "#Reviews per Month of different Neighbourhood Groups in NYC\n",
    "per_month_review = listing_df.groupby(by = [\"neighbourhood_group\"])[\"reviews_per_month\"].sum()[::-1].sort_values(ascending = False)"
   ]
  },
  {
   "cell_type": "code",
   "execution_count": 20,
   "metadata": {},
   "outputs": [],
   "source": [
    "#Number of Reviews in all the neighbourhoods\n",
    "area_review_3 = listing_df.groupby(by = [\"neighbourhood\"])[\"number_of_reviews\"].sum()[::-1].sort_values(ascending = False)"
   ]
  },
  {
   "cell_type": "code",
   "execution_count": 21,
   "metadata": {},
   "outputs": [
    {
     "data": {
      "text/plain": [
       "neighbourhood\n",
       "Williamsburg          70178\n",
       "Bedford-Stuyvesant    67590\n",
       "Harlem                54681\n",
       "Hell's Kitchen        42906\n",
       "East Village          40166\n",
       "                      ...  \n",
       "Gerritsen Beach           0\n",
       "Westerleigh               0\n",
       "New Dorp Beach            0\n",
       "Rosebank                  0\n",
       "Olinville                 0\n",
       "Name: number_of_reviews, Length: 217, dtype: int64"
      ]
     },
     "execution_count": 21,
     "metadata": {},
     "output_type": "execute_result"
    }
   ],
   "source": [
    "area_review_3"
   ]
  },
  {
   "cell_type": "code",
   "execution_count": 22,
   "metadata": {},
   "outputs": [],
   "source": [
    "area_price_2 = listing_df.groupby(by = [\"neighbourhood\"])[\"price\"].mean()[::-1].sort_values(ascending = False)"
   ]
  },
  {
   "cell_type": "code",
   "execution_count": 23,
   "metadata": {},
   "outputs": [
    {
     "data": {
      "text/plain": [
       "neighbourhood\n",
       "Westerleigh      801.500000\n",
       "Randall Manor    531.363636\n",
       "Mill Basin       500.000000\n",
       "Riverdale        411.733333\n",
       "Tribeca          380.624204\n",
       "                    ...    \n",
       "Mount Eden        48.625000\n",
       "Hunts Point       48.500000\n",
       "Morris Park       43.600000\n",
       "Schuylerville     41.166667\n",
       "Arden Heights     37.750000\n",
       "Name: price, Length: 217, dtype: float64"
      ]
     },
     "execution_count": 23,
     "metadata": {},
     "output_type": "execute_result"
    }
   ],
   "source": [
    "area_price_2"
   ]
  },
  {
   "cell_type": "code",
   "execution_count": 24,
   "metadata": {},
   "outputs": [],
   "source": [
    "#make dataof no of reviews in neighbourhood group\n",
    "area_review_clean = area_review_2.copy(deep =True)"
   ]
  },
  {
   "cell_type": "code",
   "execution_count": 25,
   "metadata": {},
   "outputs": [
    {
     "data": {
      "text/plain": [
       "neighbourhood_group\n",
       "Manhattan        375675\n",
       "Brooklyn         321546\n",
       "Queens            87300\n",
       "Bronx             13454\n",
       "Staten Island      6194\n",
       "Name: number_of_reviews, dtype: int64"
      ]
     },
     "execution_count": 25,
     "metadata": {},
     "output_type": "execute_result"
    }
   ],
   "source": [
    "area_review_clean#printing the output"
   ]
  },
  {
   "cell_type": "markdown",
   "metadata": {},
   "source": [
    "**Prices and Reviews**"
   ]
  },
  {
   "cell_type": "code",
   "execution_count": 26,
   "metadata": {},
   "outputs": [],
   "source": [
    "#make data of the price of listing in the neighbourhood\n",
    "area_price_clean = area_price.copy(deep =True)"
   ]
  },
  {
   "cell_type": "code",
   "execution_count": 27,
   "metadata": {},
   "outputs": [
    {
     "data": {
      "text/plain": [
       "neighbourhood_group\n",
       "Manhattan        185.082867\n",
       "Staten Island    126.517007\n",
       "Brooklyn         120.701624\n",
       "Queens            99.620674\n",
       "Bronx             88.910240\n",
       "Name: price, dtype: float64"
      ]
     },
     "execution_count": 27,
     "metadata": {},
     "output_type": "execute_result"
    }
   ],
   "source": [
    "area_price_clean"
   ]
  },
  {
   "cell_type": "markdown",
   "metadata": {},
   "source": [
    "**Number of Reviews Per Month in all the neighbourhoods in NYC**"
   ]
  },
  {
   "cell_type": "code",
   "execution_count": 28,
   "metadata": {},
   "outputs": [],
   "source": [
    "#Number of Reviews Per Month in all the neighbourhoods\n",
    "permonth_review_2 = listing_df.groupby(by = [\"neighbourhood\"])[\"reviews_per_month\"].sum()[::-1].sort_values(ascending = False)"
   ]
  },
  {
   "cell_type": "code",
   "execution_count": 29,
   "metadata": {},
   "outputs": [
    {
     "data": {
      "text/plain": [
       "neighbourhood\n",
       "Bedford-Stuyvesant            4085.74\n",
       "Williamsburg                  3859.66\n",
       "Harlem                        3172.70\n",
       "Hell's Kitchen                2780.52\n",
       "Bushwick                      2558.35\n",
       "                               ...   \n",
       "Gerritsen Beach                  0.00\n",
       "Bay Terrace, Staten Island       0.00\n",
       "New Dorp Beach                   0.00\n",
       "Rosebank                         0.00\n",
       "Olinville                        0.00\n",
       "Name: reviews_per_month, Length: 217, dtype: float64"
      ]
     },
     "execution_count": 29,
     "metadata": {},
     "output_type": "execute_result"
    }
   ],
   "source": [
    "permonth_review_2"
   ]
  },
  {
   "cell_type": "code",
   "execution_count": 30,
   "metadata": {},
   "outputs": [],
   "source": [
    "#make data of per month reviews in neighbourhood\n",
    "permonth_reviews_cleane = per_month_review.copy(deep =True)"
   ]
  },
  {
   "cell_type": "code",
   "execution_count": 31,
   "metadata": {},
   "outputs": [
    {
     "data": {
      "text/plain": [
       "neighbourhood_group\n",
       "Manhattan        22401.33\n",
       "Brooklyn         19618.54\n",
       "Queens            6898.63\n",
       "Bronx             1072.04\n",
       "Staten Island      405.25\n",
       "Name: reviews_per_month, dtype: float64"
      ]
     },
     "execution_count": 31,
     "metadata": {},
     "output_type": "execute_result"
    }
   ],
   "source": [
    "permonth_reviews_cleane#printing the data"
   ]
  },
  {
   "cell_type": "markdown",
   "metadata": {},
   "source": [
    "**Reviews of Neighbourhood Groups and Prices of Airbnb in NYC**"
   ]
  },
  {
   "cell_type": "code",
   "execution_count": 32,
   "metadata": {},
   "outputs": [
    {
     "data": {
      "text/plain": [
       "Text(0.5, 1.0, 'No of Airbnb Reviews in Revised NYC Neighbourhood Groups')"
      ]
     },
     "execution_count": 32,
     "metadata": {},
     "output_type": "execute_result"
    },
    {
     "data": {
      "image/png": "[encoded data removed]",
      "text/plain": [
       "<Figure size 720x720 with 1 Axes>"
      ]
     },
     "metadata": {
      "needs_background": "light"
     },
     "output_type": "display_data"
    }
   ],
   "source": [
    "area_review_clean.plot(kind = \"bar\", figsize = (10,10))\n",
    "\n",
    "plt.title(\"No of Airbnb Reviews in NYC Neighbourhood Groups\")"
   ]
  },
  {
   "cell_type": "markdown",
   "metadata": {},
   "source": [
    "**Reviews Per Month**"
   ]
  },
  {
   "cell_type": "markdown",
   "metadata": {},
   "source": [
    "From this histogram we can see that we will get highest no of reviews in manhattan as listing is also high in the same neighbourhood group. That means more people visit the manhattan than other area in NYC and give reviews about the house listed in airbnb."
   ]
  },
  {
   "cell_type": "code",
   "execution_count": 33,
   "metadata": {},
   "outputs": [
    {
     "data": {
      "text/plain": [
       "Text(0.5, 1.0, 'Reviews Per Month of Revised Airbnb Listing in NYC Neighbourhood Groups')"
      ]
     },
     "execution_count": 33,
     "metadata": {},
     "output_type": "execute_result"
    },
    {
     "data": {
      "image/png": "[encoded data removed]",
      "text/plain": [
       "<Figure size 720x720 with 1 Axes>"
      ]
     },
     "metadata": {
      "needs_background": "light"
     },
     "output_type": "display_data"
    }
   ],
   "source": [
    "permonth_reviews_cleane.plot(kind = \"bar\", figsize = (10,10))\n",
    "plt.title(\"Reviews Per Month of Revised Airbnb Listing in NYC Neighbourhood Groups\")"
   ]
  },
  {
   "cell_type": "markdown",
   "metadata": {},
   "source": [
    "**Airbnb Prices**"
   ]
  },
  {
   "cell_type": "code",
   "execution_count": 34,
   "metadata": {},
   "outputs": [
    {
     "data": {
      "text/plain": [
       "Text(0.5, 1.0, 'Average Price of Revised Airbnb Listing in NYC Neighbourhood Groups')"
      ]
     },
     "execution_count": 34,
     "metadata": {},
     "output_type": "execute_result"
    },
    {
     "data": {
      "image/png": "[encoded data removed]",
      "text/plain": [
       "<Figure size 720x720 with 1 Axes>"
      ]
     },
     "metadata": {
      "needs_background": "light"
     },
     "output_type": "display_data"
    }
   ],
   "source": [
    "area_price_clean.plot(kind = \"bar\", figsize = (10,10))\n",
    "plt.title(\"Average Price of Airbnb Listing in NYC Neighbourhood Groups\")"
   ]
  },
  {
   "cell_type": "markdown",
   "metadata": {},
   "source": [
    "**Airbnb Prices of the Highest Visited Neighbourhood Groups in NYC**"
   ]
  },
  {
   "cell_type": "code",
   "execution_count": 35,
   "metadata": {},
   "outputs": [
    {
     "data": {
      "text/plain": [
       "Text(0.5, 1.0, 'Average Price of Revised Airbnb Listing in NYC Neighbourhoods with atleast 10,000 Reviews')"
      ]
     },
     "execution_count": 35,
     "metadata": {},
     "output_type": "execute_result"
    },
    {
     "data": {
      "image/png": "[encoded data removed]",
      "text/plain": [
       "<Figure size 720x720 with 1 Axes>"
      ]
     },
     "metadata": {
      "needs_background": "light"
     },
     "output_type": "display_data"
    }
   ],
   "source": [
    "area_price_clean.where(area_review_clean > 10000).plot(kind = \"bar\", figsize = (10,10))\n",
    "plt.title(\"Average Price of Airbnb Listing in NYC Neighbourhoods with atleast 10,000 Reviews\")"
   ]
  },
  {
   "cell_type": "markdown",
   "metadata": {},
   "source": [
    "**Standard deviation of Airbnb Prices in different Neighbour Groups to analyze how stable prices are in popular neighbourhood groups**"
   ]
  },
  {
   "cell_type": "code",
   "execution_count": 36,
   "metadata": {},
   "outputs": [],
   "source": [
    "areas_and_prices_3_std = listing_df.groupby(by = [\"neighbourhood_group\"])[\"price\"].std()[::-1].sort_values(ascending = False)"
   ]
  },
  {
   "cell_type": "code",
   "execution_count": 37,
   "metadata": {},
   "outputs": [
    {
     "data": {
      "text/plain": [
       "neighbourhood_group\n",
       "Staten Island    311.045103\n",
       "Manhattan        233.717036\n",
       "Brooklyn         178.882444\n",
       "Queens           174.882615\n",
       "Bronx            147.269875\n",
       "Name: price, dtype: float64"
      ]
     },
     "execution_count": 37,
     "metadata": {},
     "output_type": "execute_result"
    }
   ],
   "source": [
    "areas_and_prices_3_std"
   ]
  },
  {
   "cell_type": "code",
   "execution_count": 38,
   "metadata": {},
   "outputs": [],
   "source": [
    "areas_and_prices_4_std = listing_df.groupby(by = [\"neighbourhood\"])[\"price\"].std()[::-1].sort_values(ascending = False)"
   ]
  },
  {
   "cell_type": "code",
   "execution_count": 39,
   "metadata": {},
   "outputs": [],
   "source": [
    "areas_and_prices_std_cleaned = areas_and_prices_3_std.copy(deep =True)"
   ]
  },
  {
   "cell_type": "code",
   "execution_count": 40,
   "metadata": {},
   "outputs": [
    {
     "data": {
      "text/plain": [
       "neighbourhood_group\n",
       "Staten Island    311.045103\n",
       "Manhattan        233.717036\n",
       "Brooklyn         178.882444\n",
       "Queens           174.882615\n",
       "Bronx            147.269875\n",
       "Name: price, dtype: float64"
      ]
     },
     "execution_count": 40,
     "metadata": {},
     "output_type": "execute_result"
    }
   ],
   "source": [
    "areas_and_prices_std_cleaned"
   ]
  },
  {
   "cell_type": "code",
   "execution_count": 41,
   "metadata": {},
   "outputs": [
    {
     "data": {
      "text/plain": [
       "Text(0.5, 1.0, 'STD of Prices of Revised Airbnb Listing in NYC Neighbourhood Groups')"
      ]
     },
     "execution_count": 41,
     "metadata": {},
     "output_type": "execute_result"
    },
    {
     "data": {
      "image/png": "[encoded data removed]",
      "text/plain": [
       "<Figure size 720x720 with 1 Axes>"
      ]
     },
     "metadata": {
      "needs_background": "light"
     },
     "output_type": "display_data"
    }
   ],
   "source": [
    "areas_and_prices_std_cleaned.where(permonth_reviews_cleane > 500).plot(kind = \"bar\", figsize = (10,10))\n",
    "plt.title(\"STD of Prices of Revised Airbnb Listing in NYC Neighbourhood Groups\")"
   ]
  },
  {
   "cell_type": "code",
   "execution_count": 42,
   "metadata": {},
   "outputs": [],
   "source": [
    "max_prices = listing_df.groupby(by = [\"neighbourhood_group\"])[\"price\"].quantile(q = .95, interpolation = 'linear')[::-1].sort_values(ascending = False)"
   ]
  },
  {
   "cell_type": "code",
   "execution_count": 43,
   "metadata": {},
   "outputs": [
    {
     "data": {
      "text/plain": [
       "neighbourhood_group\n",
       "Manhattan        449.00\n",
       "Brooklyn         270.00\n",
       "Staten Island    269.00\n",
       "Queens           211.35\n",
       "Bronx            190.00\n",
       "Name: price, dtype: float64"
      ]
     },
     "execution_count": 43,
     "metadata": {},
     "output_type": "execute_result"
    }
   ],
   "source": [
    "max_prices"
   ]
  },
  {
   "cell_type": "code",
   "execution_count": 44,
   "metadata": {},
   "outputs": [],
   "source": [
    "mid_prices = listing_df.groupby(by = [\"neighbourhood_group\"])[\"price\"].quantile(q = .5, interpolation = 'linear')[::-1].sort_values(ascending = False)"
   ]
  },
  {
   "cell_type": "markdown",
   "metadata": {},
   "source": [
    "**After analyzing the data.....**\n",
    "\n",
    "From above histogram we can see that, as standard deviation is almost zero in staten island, we can say that Staten island have most stable price for house listing in Airbnb. But as we can see, Manhattan have highest standard deviatin which is near to 300$, which means price is not stable in mahattan neighbourhood.\n",
    "\n",
    "The variation in prices between its max to mid in Manhattan is very high, which is why standard deviation is very high in manhattan areas.\n",
    "\n",
    "So we can say that Manhattan neighbourhood have most competitive listing of price in NYC while, Brooklyn and queens is stable and completitive."
   ]
  },
  {
   "cell_type": "markdown",
   "metadata": {},
   "source": [
    "## Histogram for all the variable in listing dataset"
   ]
  },
  {
   "cell_type": "code",
   "execution_count": 47,
   "metadata": {},
   "outputs": [
    {
     "data": {
      "text/plain": [
       "array([[<matplotlib.axes._subplots.AxesSubplot object at 0x1a1bff64a8>,\n",
       "        <matplotlib.axes._subplots.AxesSubplot object at 0x1a1c2357b8>,\n",
       "        <matplotlib.axes._subplots.AxesSubplot object at 0x1a1c27ed68>],\n",
       "       [<matplotlib.axes._subplots.AxesSubplot object at 0x1a1c457358>,\n",
       "        <matplotlib.axes._subplots.AxesSubplot object at 0x1a1c49c908>,\n",
       "        <matplotlib.axes._subplots.AxesSubplot object at 0x1a1c746eb8>],\n",
       "       [<matplotlib.axes._subplots.AxesSubplot object at 0x1a1c7824a8>,\n",
       "        <matplotlib.axes._subplots.AxesSubplot object at 0x1a1c7b3a90>,\n",
       "        <matplotlib.axes._subplots.AxesSubplot object at 0x1a1c7b3ac8>],\n",
       "       [<matplotlib.axes._subplots.AxesSubplot object at 0x1a1c8245f8>,\n",
       "        <matplotlib.axes._subplots.AxesSubplot object at 0x1a1c854ba8>,\n",
       "        <matplotlib.axes._subplots.AxesSubplot object at 0x1a1c891048>]],\n",
       "      dtype=object)"
      ]
     },
     "execution_count": 47,
     "metadata": {},
     "output_type": "execute_result"
    },
    {
     "data": {
      "image/png": "[encoded data removed]",
      "text/plain": [
       "<Figure size 432x288 with 12 Axes>"
      ]
     },
     "metadata": {
      "needs_background": "light"
     },
     "output_type": "display_data"
    }
   ],
   "source": [
    "listing_df.hist()"
   ]
  },
  {
   "cell_type": "markdown",
   "metadata": {},
   "source": [
    "## Correlation Map\n",
    "\n",
    "This diagrma shows coorelation between all the variable in the listing datase. "
   ]
  },
  {
   "cell_type": "code",
   "execution_count": 48,
   "metadata": {},
   "outputs": [
    {
     "data": {
      "text/plain": [
       "<matplotlib.axes._subplots.AxesSubplot at 0x1a1d05fba8>"
      ]
     },
     "execution_count": 48,
     "metadata": {},
     "output_type": "execute_result"
    },
    {
     "data": {
      "image/png": "[encoded data removed]",
      "text/plain": [
       "<Figure size 432x288 with 2 Axes>"
      ]
     },
     "metadata": {
      "needs_background": "light"
     },
     "output_type": "display_data"
    }
   ],
   "source": [
    "sns.heatmap(listing_df.corr(), annot = True, fmt = '.2f')"
   ]
  },
  {
   "cell_type": "markdown",
   "metadata": {},
   "source": [
    "# Data Cleaning"
   ]
  },
  {
   "cell_type": "markdown",
   "metadata": {},
   "source": [
    "Quality of data is critical in getting to final analysis. Any data which tend to be incomplete, noisy and inconsistent can effect the result. Data cleaning in data mining is the process of detecting and removing corrupt or inaccurate records from a record set, table or database."
   ]
  },
  {
   "cell_type": "markdown",
   "metadata": {},
   "source": [
    "**Finding missing values**"
   ]
  },
  {
   "cell_type": "code",
   "execution_count": 49,
   "metadata": {},
   "outputs": [
    {
     "data": {
      "text/plain": [
       "id                                   0\n",
       "name                                28\n",
       "host_id                              0\n",
       "host_name                          232\n",
       "neighbourhood_group                  0\n",
       "neighbourhood                        0\n",
       "latitude                             0\n",
       "longitude                            0\n",
       "room_type                            0\n",
       "price                                0\n",
       "minimum_nights                       0\n",
       "number_of_reviews                    0\n",
       "last_review                       9440\n",
       "reviews_per_month                 9474\n",
       "calculated_host_listings_count       0\n",
       "availability_365                     0\n",
       "dtype: int64"
      ]
     },
     "execution_count": 49,
     "metadata": {},
     "output_type": "execute_result"
    }
   ],
   "source": [
    "listing_df.isnull().sum()"
   ]
  },
  {
   "cell_type": "markdown",
   "metadata": {},
   "source": [
    "**Imputing Missing Values**"
   ]
  },
  {
   "cell_type": "code",
   "execution_count": 50,
   "metadata": {},
   "outputs": [
    {
     "name": "stdout",
     "output_type": "stream",
     "text": [
      "1.4463677065694835\n",
      "2017-09-24\n"
     ]
    }
   ],
   "source": [
    "reviews_per_month_mean = listing_df.reviews_per_month.mean()\n",
    "\n",
    "last_review_mode = listing_df.last_review.mode()[0]\n",
    "\n",
    "print(reviews_per_month_mean)\n",
    "\n",
    "print(last_review_mode)"
   ]
  },
  {
   "cell_type": "code",
   "execution_count": 51,
   "metadata": {},
   "outputs": [],
   "source": [
    "listing_df.reviews_per_month.fillna(reviews_per_month_mean, inplace = True)"
   ]
  },
  {
   "cell_type": "code",
   "execution_count": 52,
   "metadata": {},
   "outputs": [],
   "source": [
    "listing_df[\"last_review\"].fillna(last_review_mode, inplace = True)"
   ]
  },
  {
   "cell_type": "code",
   "execution_count": 53,
   "metadata": {},
   "outputs": [
    {
     "data": {
      "text/plain": [
       "id                                  0\n",
       "name                               28\n",
       "host_id                             0\n",
       "host_name                         232\n",
       "neighbourhood_group                 0\n",
       "neighbourhood                       0\n",
       "latitude                            0\n",
       "longitude                           0\n",
       "room_type                           0\n",
       "price                               0\n",
       "minimum_nights                      0\n",
       "number_of_reviews                   0\n",
       "last_review                         0\n",
       "reviews_per_month                   0\n",
       "calculated_host_listings_count      0\n",
       "availability_365                    0\n",
       "dtype: int64"
      ]
     },
     "execution_count": 53,
     "metadata": {},
     "output_type": "execute_result"
    }
   ],
   "source": [
    "listing_df.isnull().sum()"
   ]
  },
  {
   "cell_type": "markdown",
   "metadata": {},
   "source": [
    "**Cleaning the data**"
   ]
  },
  {
   "cell_type": "code",
   "execution_count": 54,
   "metadata": {},
   "outputs": [
    {
     "data": {
      "text/html": [
       "<div>\n",
       "<style scoped>\n",
       "    .dataframe tbody tr th:only-of-type {\n",
       "        vertical-align: middle;\n",
       "    }\n",
       "\n",
       "    .dataframe tbody tr th {\n",
       "        vertical-align: top;\n",
       "    }\n",
       "\n",
       "    .dataframe thead th {\n",
       "        text-align: right;\n",
       "    }\n",
       "</style>\n",
       "<table border=\"1\" class=\"dataframe\">\n",
       "  <thead>\n",
       "    <tr style=\"text-align: right;\">\n",
       "      <th></th>\n",
       "      <th>id</th>\n",
       "      <th>host_id</th>\n",
       "      <th>neighbourhood_group</th>\n",
       "      <th>neighbourhood</th>\n",
       "      <th>latitude</th>\n",
       "      <th>longitude</th>\n",
       "      <th>room_type</th>\n",
       "      <th>price</th>\n",
       "      <th>minimum_nights</th>\n",
       "      <th>number_of_reviews</th>\n",
       "      <th>last_review</th>\n",
       "      <th>reviews_per_month</th>\n",
       "      <th>calculated_host_listings_count</th>\n",
       "      <th>availability_365</th>\n",
       "    </tr>\n",
       "  </thead>\n",
       "  <tbody>\n",
       "    <tr>\n",
       "      <td>0</td>\n",
       "      <td>18461891</td>\n",
       "      <td>916092</td>\n",
       "      <td>Queens</td>\n",
       "      <td>Ditmars Steinway</td>\n",
       "      <td>40.774142</td>\n",
       "      <td>-73.916246</td>\n",
       "      <td>Entire home/apt</td>\n",
       "      <td>110</td>\n",
       "      <td>6</td>\n",
       "      <td>0</td>\n",
       "      <td>2017-09-24</td>\n",
       "      <td>1.446368</td>\n",
       "      <td>1</td>\n",
       "      <td>0</td>\n",
       "    </tr>\n",
       "    <tr>\n",
       "      <td>1</td>\n",
       "      <td>20702398</td>\n",
       "      <td>1457680</td>\n",
       "      <td>Bronx</td>\n",
       "      <td>City Island</td>\n",
       "      <td>40.849191</td>\n",
       "      <td>-73.786509</td>\n",
       "      <td>Private room</td>\n",
       "      <td>50</td>\n",
       "      <td>1</td>\n",
       "      <td>2</td>\n",
       "      <td>2017-10-01</td>\n",
       "      <td>2.000000</td>\n",
       "      <td>1</td>\n",
       "      <td>169</td>\n",
       "    </tr>\n",
       "    <tr>\n",
       "      <td>2</td>\n",
       "      <td>6627449</td>\n",
       "      <td>13886510</td>\n",
       "      <td>Bronx</td>\n",
       "      <td>City Island</td>\n",
       "      <td>40.849775</td>\n",
       "      <td>-73.786609</td>\n",
       "      <td>Entire home/apt</td>\n",
       "      <td>125</td>\n",
       "      <td>3</td>\n",
       "      <td>21</td>\n",
       "      <td>2017-09-26</td>\n",
       "      <td>0.770000</td>\n",
       "      <td>1</td>\n",
       "      <td>363</td>\n",
       "    </tr>\n",
       "    <tr>\n",
       "      <td>3</td>\n",
       "      <td>19949243</td>\n",
       "      <td>1149260</td>\n",
       "      <td>Bronx</td>\n",
       "      <td>City Island</td>\n",
       "      <td>40.848838</td>\n",
       "      <td>-73.782276</td>\n",
       "      <td>Entire home/apt</td>\n",
       "      <td>100</td>\n",
       "      <td>3</td>\n",
       "      <td>0</td>\n",
       "      <td>2017-09-24</td>\n",
       "      <td>1.446368</td>\n",
       "      <td>1</td>\n",
       "      <td>90</td>\n",
       "    </tr>\n",
       "    <tr>\n",
       "      <td>4</td>\n",
       "      <td>1886820</td>\n",
       "      <td>9815788</td>\n",
       "      <td>Bronx</td>\n",
       "      <td>City Island</td>\n",
       "      <td>40.841144</td>\n",
       "      <td>-73.783052</td>\n",
       "      <td>Entire home/apt</td>\n",
       "      <td>300</td>\n",
       "      <td>7</td>\n",
       "      <td>0</td>\n",
       "      <td>2017-09-24</td>\n",
       "      <td>1.446368</td>\n",
       "      <td>1</td>\n",
       "      <td>365</td>\n",
       "    </tr>\n",
       "    <tr>\n",
       "      <td>...</td>\n",
       "      <td>...</td>\n",
       "      <td>...</td>\n",
       "      <td>...</td>\n",
       "      <td>...</td>\n",
       "      <td>...</td>\n",
       "      <td>...</td>\n",
       "      <td>...</td>\n",
       "      <td>...</td>\n",
       "      <td>...</td>\n",
       "      <td>...</td>\n",
       "      <td>...</td>\n",
       "      <td>...</td>\n",
       "      <td>...</td>\n",
       "      <td>...</td>\n",
       "    </tr>\n",
       "    <tr>\n",
       "      <td>44312</td>\n",
       "      <td>20530309</td>\n",
       "      <td>146582556</td>\n",
       "      <td>Brooklyn</td>\n",
       "      <td>Flatlands</td>\n",
       "      <td>40.618675</td>\n",
       "      <td>-73.932736</td>\n",
       "      <td>Private room</td>\n",
       "      <td>90</td>\n",
       "      <td>1</td>\n",
       "      <td>1</td>\n",
       "      <td>2017-08-27</td>\n",
       "      <td>0.810000</td>\n",
       "      <td>1</td>\n",
       "      <td>365</td>\n",
       "    </tr>\n",
       "    <tr>\n",
       "      <td>44313</td>\n",
       "      <td>20459907</td>\n",
       "      <td>146061056</td>\n",
       "      <td>Brooklyn</td>\n",
       "      <td>Bushwick</td>\n",
       "      <td>40.684681</td>\n",
       "      <td>-73.905174</td>\n",
       "      <td>Entire home/apt</td>\n",
       "      <td>199</td>\n",
       "      <td>3</td>\n",
       "      <td>0</td>\n",
       "      <td>2017-09-24</td>\n",
       "      <td>1.446368</td>\n",
       "      <td>1</td>\n",
       "      <td>138</td>\n",
       "    </tr>\n",
       "    <tr>\n",
       "      <td>44314</td>\n",
       "      <td>4287386</td>\n",
       "      <td>22257678</td>\n",
       "      <td>Queens</td>\n",
       "      <td>Rockaway Beach</td>\n",
       "      <td>40.583865</td>\n",
       "      <td>-73.819245</td>\n",
       "      <td>Entire home/apt</td>\n",
       "      <td>91</td>\n",
       "      <td>1</td>\n",
       "      <td>6</td>\n",
       "      <td>2017-09-24</td>\n",
       "      <td>3.910000</td>\n",
       "      <td>1</td>\n",
       "      <td>336</td>\n",
       "    </tr>\n",
       "    <tr>\n",
       "      <td>44315</td>\n",
       "      <td>20939747</td>\n",
       "      <td>44045569</td>\n",
       "      <td>Queens</td>\n",
       "      <td>Rosedale</td>\n",
       "      <td>40.679998</td>\n",
       "      <td>-73.720787</td>\n",
       "      <td>Entire home/apt</td>\n",
       "      <td>75</td>\n",
       "      <td>2</td>\n",
       "      <td>0</td>\n",
       "      <td>2017-09-24</td>\n",
       "      <td>1.446368</td>\n",
       "      <td>1</td>\n",
       "      <td>342</td>\n",
       "    </tr>\n",
       "    <tr>\n",
       "      <td>44316</td>\n",
       "      <td>21135710</td>\n",
       "      <td>152474027</td>\n",
       "      <td>Manhattan</td>\n",
       "      <td>Upper West Side</td>\n",
       "      <td>40.776465</td>\n",
       "      <td>-73.970659</td>\n",
       "      <td>Entire home/apt</td>\n",
       "      <td>148</td>\n",
       "      <td>2</td>\n",
       "      <td>0</td>\n",
       "      <td>2017-09-24</td>\n",
       "      <td>1.446368</td>\n",
       "      <td>1</td>\n",
       "      <td>133</td>\n",
       "    </tr>\n",
       "  </tbody>\n",
       "</table>\n",
       "<p>44317 rows × 14 columns</p>\n",
       "</div>"
      ],
      "text/plain": [
       "             id    host_id neighbourhood_group     neighbourhood   latitude  \\\n",
       "0      18461891     916092              Queens  Ditmars Steinway  40.774142   \n",
       "1      20702398    1457680               Bronx       City Island  40.849191   \n",
       "2       6627449   13886510               Bronx       City Island  40.849775   \n",
       "3      19949243    1149260               Bronx       City Island  40.848838   \n",
       "4       1886820    9815788               Bronx       City Island  40.841144   \n",
       "...         ...        ...                 ...               ...        ...   \n",
       "44312  20530309  146582556            Brooklyn         Flatlands  40.618675   \n",
       "44313  20459907  146061056            Brooklyn          Bushwick  40.684681   \n",
       "44314   4287386   22257678              Queens    Rockaway Beach  40.583865   \n",
       "44315  20939747   44045569              Queens          Rosedale  40.679998   \n",
       "44316  21135710  152474027           Manhattan   Upper West Side  40.776465   \n",
       "\n",
       "       longitude        room_type  price  minimum_nights  number_of_reviews  \\\n",
       "0     -73.916246  Entire home/apt    110               6                  0   \n",
       "1     -73.786509     Private room     50               1                  2   \n",
       "2     -73.786609  Entire home/apt    125               3                 21   \n",
       "3     -73.782276  Entire home/apt    100               3                  0   \n",
       "4     -73.783052  Entire home/apt    300               7                  0   \n",
       "...          ...              ...    ...             ...                ...   \n",
       "44312 -73.932736     Private room     90               1                  1   \n",
       "44313 -73.905174  Entire home/apt    199               3                  0   \n",
       "44314 -73.819245  Entire home/apt     91               1                  6   \n",
       "44315 -73.720787  Entire home/apt     75               2                  0   \n",
       "44316 -73.970659  Entire home/apt    148               2                  0   \n",
       "\n",
       "      last_review  reviews_per_month  calculated_host_listings_count  \\\n",
       "0      2017-09-24           1.446368                               1   \n",
       "1      2017-10-01           2.000000                               1   \n",
       "2      2017-09-26           0.770000                               1   \n",
       "3      2017-09-24           1.446368                               1   \n",
       "4      2017-09-24           1.446368                               1   \n",
       "...           ...                ...                             ...   \n",
       "44312  2017-08-27           0.810000                               1   \n",
       "44313  2017-09-24           1.446368                               1   \n",
       "44314  2017-09-24           3.910000                               1   \n",
       "44315  2017-09-24           1.446368                               1   \n",
       "44316  2017-09-24           1.446368                               1   \n",
       "\n",
       "       availability_365  \n",
       "0                     0  \n",
       "1                   169  \n",
       "2                   363  \n",
       "3                    90  \n",
       "4                   365  \n",
       "...                 ...  \n",
       "44312               365  \n",
       "44313               138  \n",
       "44314               336  \n",
       "44315               342  \n",
       "44316               133  \n",
       "\n",
       "[44317 rows x 14 columns]"
      ]
     },
     "execution_count": 54,
     "metadata": {},
     "output_type": "execute_result"
    }
   ],
   "source": [
    "listing_df.drop(columns = [\"name\", \"host_name\"])"
   ]
  },
  {
   "cell_type": "code",
   "execution_count": 55,
   "metadata": {},
   "outputs": [
    {
     "data": {
      "text/plain": [
       "Index(['id', 'name', 'host_id', 'host_name', 'neighbourhood_group',\n",
       "       'neighbourhood', 'latitude', 'longitude', 'room_type', 'price',\n",
       "       'minimum_nights', 'number_of_reviews', 'last_review',\n",
       "       'reviews_per_month', 'calculated_host_listings_count',\n",
       "       'availability_365'],\n",
       "      dtype='object')"
      ]
     },
     "execution_count": 55,
     "metadata": {},
     "output_type": "execute_result"
    }
   ],
   "source": [
    "listing_df.columns"
   ]
  },
  {
   "cell_type": "markdown",
   "metadata": {},
   "source": [
    "Now for the analysis purpose we have spliut the dataset into test and train datase. for that we have to define our predicting variable. We will going to predict the price for the airbnb dataset. so here we are going to take price raw as prediction varible."
   ]
  },
  {
   "cell_type": "markdown",
   "metadata": {},
   "source": [
    "Dropping price for make price coloumn seperate"
   ]
  },
  {
   "cell_type": "code",
   "execution_count": 56,
   "metadata": {},
   "outputs": [],
   "source": [
    "#for train and test split take price coloum seperate\n",
    "price_raw = listing_df.price"
   ]
  },
  {
   "cell_type": "code",
   "execution_count": 57,
   "metadata": {},
   "outputs": [
    {
     "data": {
      "text/plain": [
       "0    110\n",
       "1     50\n",
       "2    125\n",
       "3    100\n",
       "4    300\n",
       "Name: price, dtype: int64"
      ]
     },
     "execution_count": 57,
     "metadata": {},
     "output_type": "execute_result"
    }
   ],
   "source": [
    "price_raw.head()"
   ]
  },
  {
   "cell_type": "markdown",
   "metadata": {},
   "source": [
    "**Predicting Airbnb Prices**"
   ]
  },
  {
   "cell_type": "code",
   "execution_count": 58,
   "metadata": {},
   "outputs": [],
   "source": [
    "features_raw = listing_df.drop([\"price\", \"name\", \"host_name\", \"last_review\"], axis = 1)"
   ]
  },
  {
   "cell_type": "code",
   "execution_count": 59,
   "metadata": {},
   "outputs": [
    {
     "data": {
      "text/html": [
       "<div>\n",
       "<style scoped>\n",
       "    .dataframe tbody tr th:only-of-type {\n",
       "        vertical-align: middle;\n",
       "    }\n",
       "\n",
       "    .dataframe tbody tr th {\n",
       "        vertical-align: top;\n",
       "    }\n",
       "\n",
       "    .dataframe thead th {\n",
       "        text-align: right;\n",
       "    }\n",
       "</style>\n",
       "<table border=\"1\" class=\"dataframe\">\n",
       "  <thead>\n",
       "    <tr style=\"text-align: right;\">\n",
       "      <th></th>\n",
       "      <th>id</th>\n",
       "      <th>host_id</th>\n",
       "      <th>neighbourhood_group</th>\n",
       "      <th>neighbourhood</th>\n",
       "      <th>latitude</th>\n",
       "      <th>longitude</th>\n",
       "      <th>room_type</th>\n",
       "      <th>minimum_nights</th>\n",
       "      <th>number_of_reviews</th>\n",
       "      <th>reviews_per_month</th>\n",
       "      <th>calculated_host_listings_count</th>\n",
       "      <th>availability_365</th>\n",
       "    </tr>\n",
       "  </thead>\n",
       "  <tbody>\n",
       "    <tr>\n",
       "      <td>0</td>\n",
       "      <td>18461891</td>\n",
       "      <td>916092</td>\n",
       "      <td>Queens</td>\n",
       "      <td>Ditmars Steinway</td>\n",
       "      <td>40.774142</td>\n",
       "      <td>-73.916246</td>\n",
       "      <td>Entire home/apt</td>\n",
       "      <td>6</td>\n",
       "      <td>0</td>\n",
       "      <td>1.446368</td>\n",
       "      <td>1</td>\n",
       "      <td>0</td>\n",
       "    </tr>\n",
       "    <tr>\n",
       "      <td>1</td>\n",
       "      <td>20702398</td>\n",
       "      <td>1457680</td>\n",
       "      <td>Bronx</td>\n",
       "      <td>City Island</td>\n",
       "      <td>40.849191</td>\n",
       "      <td>-73.786509</td>\n",
       "      <td>Private room</td>\n",
       "      <td>1</td>\n",
       "      <td>2</td>\n",
       "      <td>2.000000</td>\n",
       "      <td>1</td>\n",
       "      <td>169</td>\n",
       "    </tr>\n",
       "    <tr>\n",
       "      <td>2</td>\n",
       "      <td>6627449</td>\n",
       "      <td>13886510</td>\n",
       "      <td>Bronx</td>\n",
       "      <td>City Island</td>\n",
       "      <td>40.849775</td>\n",
       "      <td>-73.786609</td>\n",
       "      <td>Entire home/apt</td>\n",
       "      <td>3</td>\n",
       "      <td>21</td>\n",
       "      <td>0.770000</td>\n",
       "      <td>1</td>\n",
       "      <td>363</td>\n",
       "    </tr>\n",
       "    <tr>\n",
       "      <td>3</td>\n",
       "      <td>19949243</td>\n",
       "      <td>1149260</td>\n",
       "      <td>Bronx</td>\n",
       "      <td>City Island</td>\n",
       "      <td>40.848838</td>\n",
       "      <td>-73.782276</td>\n",
       "      <td>Entire home/apt</td>\n",
       "      <td>3</td>\n",
       "      <td>0</td>\n",
       "      <td>1.446368</td>\n",
       "      <td>1</td>\n",
       "      <td>90</td>\n",
       "    </tr>\n",
       "    <tr>\n",
       "      <td>4</td>\n",
       "      <td>1886820</td>\n",
       "      <td>9815788</td>\n",
       "      <td>Bronx</td>\n",
       "      <td>City Island</td>\n",
       "      <td>40.841144</td>\n",
       "      <td>-73.783052</td>\n",
       "      <td>Entire home/apt</td>\n",
       "      <td>7</td>\n",
       "      <td>0</td>\n",
       "      <td>1.446368</td>\n",
       "      <td>1</td>\n",
       "      <td>365</td>\n",
       "    </tr>\n",
       "  </tbody>\n",
       "</table>\n",
       "</div>"
      ],
      "text/plain": [
       "         id   host_id neighbourhood_group     neighbourhood   latitude  \\\n",
       "0  18461891    916092              Queens  Ditmars Steinway  40.774142   \n",
       "1  20702398   1457680               Bronx       City Island  40.849191   \n",
       "2   6627449  13886510               Bronx       City Island  40.849775   \n",
       "3  19949243   1149260               Bronx       City Island  40.848838   \n",
       "4   1886820   9815788               Bronx       City Island  40.841144   \n",
       "\n",
       "   longitude        room_type  minimum_nights  number_of_reviews  \\\n",
       "0 -73.916246  Entire home/apt               6                  0   \n",
       "1 -73.786509     Private room               1                  2   \n",
       "2 -73.786609  Entire home/apt               3                 21   \n",
       "3 -73.782276  Entire home/apt               3                  0   \n",
       "4 -73.783052  Entire home/apt               7                  0   \n",
       "\n",
       "   reviews_per_month  calculated_host_listings_count  availability_365  \n",
       "0           1.446368                               1                 0  \n",
       "1           2.000000                               1               169  \n",
       "2           0.770000                               1               363  \n",
       "3           1.446368                               1                90  \n",
       "4           1.446368                               1               365  "
      ]
     },
     "execution_count": 59,
     "metadata": {},
     "output_type": "execute_result"
    }
   ],
   "source": [
    "features_raw.head()"
   ]
  },
  {
   "cell_type": "code",
   "execution_count": 60,
   "metadata": {},
   "outputs": [
    {
     "data": {
      "text/plain": [
       "Index(['id', 'host_id', 'neighbourhood_group', 'neighbourhood', 'latitude',\n",
       "       'longitude', 'room_type', 'minimum_nights', 'number_of_reviews',\n",
       "       'reviews_per_month', 'calculated_host_listings_count',\n",
       "       'availability_365'],\n",
       "      dtype='object')"
      ]
     },
     "execution_count": 60,
     "metadata": {},
     "output_type": "execute_result"
    }
   ],
   "source": [
    "features_raw.columns"
   ]
  },
  {
   "cell_type": "code",
   "execution_count": 61,
   "metadata": {},
   "outputs": [],
   "source": [
    "numerical = [\"latitude\", \"longitude\",\"minimum_nights\",\"number_of_reviews\",\"reviews_per_month\",\"calculated_host_listings_count\",\"availability_365\"]"
   ]
  },
  {
   "cell_type": "markdown",
   "metadata": {},
   "source": [
    "**Normalize Dataset**"
   ]
  },
  {
   "cell_type": "markdown",
   "metadata": {},
   "source": [
    "The goal of normalization is to change the values of numeric columns in the dataset to a common scale, without distorting differences in the ranges of values. \n",
    "\n",
    "For machine learning, every dataset does not require normalization. It is required only when features have different ranges."
   ]
  },
  {
   "cell_type": "code",
   "execution_count": 62,
   "metadata": {},
   "outputs": [],
   "source": [
    "#normalize dataset\n",
    "scaler = MinMaxScaler()\n",
    "\n",
    "features_normalized = features_raw.copy(deep = True)\n",
    "\n",
    "features_normalized[numerical] = scaler.fit_transform(features_raw[numerical])"
   ]
  },
  {
   "cell_type": "code",
   "execution_count": 63,
   "metadata": {},
   "outputs": [
    {
     "data": {
      "text/html": [
       "<div>\n",
       "<style scoped>\n",
       "    .dataframe tbody tr th:only-of-type {\n",
       "        vertical-align: middle;\n",
       "    }\n",
       "\n",
       "    .dataframe tbody tr th {\n",
       "        vertical-align: top;\n",
       "    }\n",
       "\n",
       "    .dataframe thead th {\n",
       "        text-align: right;\n",
       "    }\n",
       "</style>\n",
       "<table border=\"1\" class=\"dataframe\">\n",
       "  <thead>\n",
       "    <tr style=\"text-align: right;\">\n",
       "      <th></th>\n",
       "      <th>id</th>\n",
       "      <th>host_id</th>\n",
       "      <th>neighbourhood_group</th>\n",
       "      <th>neighbourhood</th>\n",
       "      <th>latitude</th>\n",
       "      <th>longitude</th>\n",
       "      <th>room_type</th>\n",
       "      <th>minimum_nights</th>\n",
       "      <th>number_of_reviews</th>\n",
       "      <th>reviews_per_month</th>\n",
       "      <th>calculated_host_listings_count</th>\n",
       "      <th>availability_365</th>\n",
       "    </tr>\n",
       "  </thead>\n",
       "  <tbody>\n",
       "    <tr>\n",
       "      <td>0</td>\n",
       "      <td>18461891</td>\n",
       "      <td>916092</td>\n",
       "      <td>Queens</td>\n",
       "      <td>Ditmars Steinway</td>\n",
       "      <td>0.670155</td>\n",
       "      <td>0.620505</td>\n",
       "      <td>Entire home/apt</td>\n",
       "      <td>0.004003</td>\n",
       "      <td>0.000000</td>\n",
       "      <td>0.058579</td>\n",
       "      <td>0.0</td>\n",
       "      <td>0.000000</td>\n",
       "    </tr>\n",
       "    <tr>\n",
       "      <td>1</td>\n",
       "      <td>20702398</td>\n",
       "      <td>1457680</td>\n",
       "      <td>Bronx</td>\n",
       "      <td>City Island</td>\n",
       "      <td>0.853477</td>\n",
       "      <td>0.859368</td>\n",
       "      <td>Private room</td>\n",
       "      <td>0.000000</td>\n",
       "      <td>0.004090</td>\n",
       "      <td>0.081158</td>\n",
       "      <td>0.0</td>\n",
       "      <td>0.463014</td>\n",
       "    </tr>\n",
       "    <tr>\n",
       "      <td>2</td>\n",
       "      <td>6627449</td>\n",
       "      <td>13886510</td>\n",
       "      <td>Bronx</td>\n",
       "      <td>City Island</td>\n",
       "      <td>0.854903</td>\n",
       "      <td>0.859183</td>\n",
       "      <td>Entire home/apt</td>\n",
       "      <td>0.001601</td>\n",
       "      <td>0.042945</td>\n",
       "      <td>0.030995</td>\n",
       "      <td>0.0</td>\n",
       "      <td>0.994521</td>\n",
       "    </tr>\n",
       "    <tr>\n",
       "      <td>3</td>\n",
       "      <td>19949243</td>\n",
       "      <td>1149260</td>\n",
       "      <td>Bronx</td>\n",
       "      <td>City Island</td>\n",
       "      <td>0.852615</td>\n",
       "      <td>0.867162</td>\n",
       "      <td>Entire home/apt</td>\n",
       "      <td>0.001601</td>\n",
       "      <td>0.000000</td>\n",
       "      <td>0.058579</td>\n",
       "      <td>0.0</td>\n",
       "      <td>0.246575</td>\n",
       "    </tr>\n",
       "    <tr>\n",
       "      <td>4</td>\n",
       "      <td>1886820</td>\n",
       "      <td>9815788</td>\n",
       "      <td>Bronx</td>\n",
       "      <td>City Island</td>\n",
       "      <td>0.833822</td>\n",
       "      <td>0.865732</td>\n",
       "      <td>Entire home/apt</td>\n",
       "      <td>0.004804</td>\n",
       "      <td>0.000000</td>\n",
       "      <td>0.058579</td>\n",
       "      <td>0.0</td>\n",
       "      <td>1.000000</td>\n",
       "    </tr>\n",
       "  </tbody>\n",
       "</table>\n",
       "</div>"
      ],
      "text/plain": [
       "         id   host_id neighbourhood_group     neighbourhood  latitude  \\\n",
       "0  18461891    916092              Queens  Ditmars Steinway  0.670155   \n",
       "1  20702398   1457680               Bronx       City Island  0.853477   \n",
       "2   6627449  13886510               Bronx       City Island  0.854903   \n",
       "3  19949243   1149260               Bronx       City Island  0.852615   \n",
       "4   1886820   9815788               Bronx       City Island  0.833822   \n",
       "\n",
       "   longitude        room_type  minimum_nights  number_of_reviews  \\\n",
       "0   0.620505  Entire home/apt        0.004003           0.000000   \n",
       "1   0.859368     Private room        0.000000           0.004090   \n",
       "2   0.859183  Entire home/apt        0.001601           0.042945   \n",
       "3   0.867162  Entire home/apt        0.001601           0.000000   \n",
       "4   0.865732  Entire home/apt        0.004804           0.000000   \n",
       "\n",
       "   reviews_per_month  calculated_host_listings_count  availability_365  \n",
       "0           0.058579                             0.0          0.000000  \n",
       "1           0.081158                             0.0          0.463014  \n",
       "2           0.030995                             0.0          0.994521  \n",
       "3           0.058579                             0.0          0.246575  \n",
       "4           0.058579                             0.0          1.000000  "
      ]
     },
     "execution_count": 63,
     "metadata": {},
     "output_type": "execute_result"
    }
   ],
   "source": [
    "# Show an example of a record with scaling applied\n",
    "features_normalized.head()"
   ]
  },
  {
   "cell_type": "code",
   "execution_count": 64,
   "metadata": {},
   "outputs": [
    {
     "data": {
      "text/plain": [
       "(12,)"
      ]
     },
     "execution_count": 64,
     "metadata": {},
     "output_type": "execute_result"
    }
   ],
   "source": [
    "features_normalized.columns.shape"
   ]
  },
  {
   "cell_type": "code",
   "execution_count": 65,
   "metadata": {},
   "outputs": [],
   "source": [
    "features_final = pd.get_dummies(features_normalized)"
   ]
  },
  {
   "cell_type": "code",
   "execution_count": 66,
   "metadata": {},
   "outputs": [
    {
     "data": {
      "text/plain": [
       "(234,)"
      ]
     },
     "execution_count": 66,
     "metadata": {},
     "output_type": "execute_result"
    }
   ],
   "source": [
    "features_final.columns.shape"
   ]
  },
  {
   "cell_type": "code",
   "execution_count": 67,
   "metadata": {},
   "outputs": [
    {
     "data": {
      "text/html": [
       "<div>\n",
       "<style scoped>\n",
       "    .dataframe tbody tr th:only-of-type {\n",
       "        vertical-align: middle;\n",
       "    }\n",
       "\n",
       "    .dataframe tbody tr th {\n",
       "        vertical-align: top;\n",
       "    }\n",
       "\n",
       "    .dataframe thead th {\n",
       "        text-align: right;\n",
       "    }\n",
       "</style>\n",
       "<table border=\"1\" class=\"dataframe\">\n",
       "  <thead>\n",
       "    <tr style=\"text-align: right;\">\n",
       "      <th></th>\n",
       "      <th>id</th>\n",
       "      <th>host_id</th>\n",
       "      <th>latitude</th>\n",
       "      <th>longitude</th>\n",
       "      <th>minimum_nights</th>\n",
       "      <th>number_of_reviews</th>\n",
       "      <th>reviews_per_month</th>\n",
       "      <th>calculated_host_listings_count</th>\n",
       "      <th>availability_365</th>\n",
       "      <th>neighbourhood_group_Bronx</th>\n",
       "      <th>...</th>\n",
       "      <th>neighbourhood_Williamsbridge</th>\n",
       "      <th>neighbourhood_Williamsburg</th>\n",
       "      <th>neighbourhood_Windsor Terrace</th>\n",
       "      <th>neighbourhood_Woodhaven</th>\n",
       "      <th>neighbourhood_Woodlawn</th>\n",
       "      <th>neighbourhood_Woodrow</th>\n",
       "      <th>neighbourhood_Woodside</th>\n",
       "      <th>room_type_Entire home/apt</th>\n",
       "      <th>room_type_Private room</th>\n",
       "      <th>room_type_Shared room</th>\n",
       "    </tr>\n",
       "  </thead>\n",
       "  <tbody>\n",
       "    <tr>\n",
       "      <td>0</td>\n",
       "      <td>18461891</td>\n",
       "      <td>916092</td>\n",
       "      <td>0.670155</td>\n",
       "      <td>0.620505</td>\n",
       "      <td>0.004003</td>\n",
       "      <td>0.000000</td>\n",
       "      <td>0.058579</td>\n",
       "      <td>0.0</td>\n",
       "      <td>0.000000</td>\n",
       "      <td>0</td>\n",
       "      <td>...</td>\n",
       "      <td>0</td>\n",
       "      <td>0</td>\n",
       "      <td>0</td>\n",
       "      <td>0</td>\n",
       "      <td>0</td>\n",
       "      <td>0</td>\n",
       "      <td>0</td>\n",
       "      <td>1</td>\n",
       "      <td>0</td>\n",
       "      <td>0</td>\n",
       "    </tr>\n",
       "    <tr>\n",
       "      <td>1</td>\n",
       "      <td>20702398</td>\n",
       "      <td>1457680</td>\n",
       "      <td>0.853477</td>\n",
       "      <td>0.859368</td>\n",
       "      <td>0.000000</td>\n",
       "      <td>0.004090</td>\n",
       "      <td>0.081158</td>\n",
       "      <td>0.0</td>\n",
       "      <td>0.463014</td>\n",
       "      <td>1</td>\n",
       "      <td>...</td>\n",
       "      <td>0</td>\n",
       "      <td>0</td>\n",
       "      <td>0</td>\n",
       "      <td>0</td>\n",
       "      <td>0</td>\n",
       "      <td>0</td>\n",
       "      <td>0</td>\n",
       "      <td>0</td>\n",
       "      <td>1</td>\n",
       "      <td>0</td>\n",
       "    </tr>\n",
       "    <tr>\n",
       "      <td>2</td>\n",
       "      <td>6627449</td>\n",
       "      <td>13886510</td>\n",
       "      <td>0.854903</td>\n",
       "      <td>0.859183</td>\n",
       "      <td>0.001601</td>\n",
       "      <td>0.042945</td>\n",
       "      <td>0.030995</td>\n",
       "      <td>0.0</td>\n",
       "      <td>0.994521</td>\n",
       "      <td>1</td>\n",
       "      <td>...</td>\n",
       "      <td>0</td>\n",
       "      <td>0</td>\n",
       "      <td>0</td>\n",
       "      <td>0</td>\n",
       "      <td>0</td>\n",
       "      <td>0</td>\n",
       "      <td>0</td>\n",
       "      <td>1</td>\n",
       "      <td>0</td>\n",
       "      <td>0</td>\n",
       "    </tr>\n",
       "    <tr>\n",
       "      <td>3</td>\n",
       "      <td>19949243</td>\n",
       "      <td>1149260</td>\n",
       "      <td>0.852615</td>\n",
       "      <td>0.867162</td>\n",
       "      <td>0.001601</td>\n",
       "      <td>0.000000</td>\n",
       "      <td>0.058579</td>\n",
       "      <td>0.0</td>\n",
       "      <td>0.246575</td>\n",
       "      <td>1</td>\n",
       "      <td>...</td>\n",
       "      <td>0</td>\n",
       "      <td>0</td>\n",
       "      <td>0</td>\n",
       "      <td>0</td>\n",
       "      <td>0</td>\n",
       "      <td>0</td>\n",
       "      <td>0</td>\n",
       "      <td>1</td>\n",
       "      <td>0</td>\n",
       "      <td>0</td>\n",
       "    </tr>\n",
       "    <tr>\n",
       "      <td>4</td>\n",
       "      <td>1886820</td>\n",
       "      <td>9815788</td>\n",
       "      <td>0.833822</td>\n",
       "      <td>0.865732</td>\n",
       "      <td>0.004804</td>\n",
       "      <td>0.000000</td>\n",
       "      <td>0.058579</td>\n",
       "      <td>0.0</td>\n",
       "      <td>1.000000</td>\n",
       "      <td>1</td>\n",
       "      <td>...</td>\n",
       "      <td>0</td>\n",
       "      <td>0</td>\n",
       "      <td>0</td>\n",
       "      <td>0</td>\n",
       "      <td>0</td>\n",
       "      <td>0</td>\n",
       "      <td>0</td>\n",
       "      <td>1</td>\n",
       "      <td>0</td>\n",
       "      <td>0</td>\n",
       "    </tr>\n",
       "  </tbody>\n",
       "</table>\n",
       "<p>5 rows × 234 columns</p>\n",
       "</div>"
      ],
      "text/plain": [
       "         id   host_id  latitude  longitude  minimum_nights  number_of_reviews  \\\n",
       "0  18461891    916092  0.670155   0.620505        0.004003           0.000000   \n",
       "1  20702398   1457680  0.853477   0.859368        0.000000           0.004090   \n",
       "2   6627449  13886510  0.854903   0.859183        0.001601           0.042945   \n",
       "3  19949243   1149260  0.852615   0.867162        0.001601           0.000000   \n",
       "4   1886820   9815788  0.833822   0.865732        0.004804           0.000000   \n",
       "\n",
       "   reviews_per_month  calculated_host_listings_count  availability_365  \\\n",
       "0           0.058579                             0.0          0.000000   \n",
       "1           0.081158                             0.0          0.463014   \n",
       "2           0.030995                             0.0          0.994521   \n",
       "3           0.058579                             0.0          0.246575   \n",
       "4           0.058579                             0.0          1.000000   \n",
       "\n",
       "   neighbourhood_group_Bronx  ...  neighbourhood_Williamsbridge  \\\n",
       "0                          0  ...                             0   \n",
       "1                          1  ...                             0   \n",
       "2                          1  ...                             0   \n",
       "3                          1  ...                             0   \n",
       "4                          1  ...                             0   \n",
       "\n",
       "   neighbourhood_Williamsburg  neighbourhood_Windsor Terrace  \\\n",
       "0                           0                              0   \n",
       "1                           0                              0   \n",
       "2                           0                              0   \n",
       "3                           0                              0   \n",
       "4                           0                              0   \n",
       "\n",
       "   neighbourhood_Woodhaven  neighbourhood_Woodlawn  neighbourhood_Woodrow  \\\n",
       "0                        0                       0                      0   \n",
       "1                        0                       0                      0   \n",
       "2                        0                       0                      0   \n",
       "3                        0                       0                      0   \n",
       "4                        0                       0                      0   \n",
       "\n",
       "   neighbourhood_Woodside  room_type_Entire home/apt  room_type_Private room  \\\n",
       "0                       0                          1                       0   \n",
       "1                       0                          0                       1   \n",
       "2                       0                          1                       0   \n",
       "3                       0                          1                       0   \n",
       "4                       0                          1                       0   \n",
       "\n",
       "   room_type_Shared room  \n",
       "0                      0  \n",
       "1                      0  \n",
       "2                      0  \n",
       "3                      0  \n",
       "4                      0  \n",
       "\n",
       "[5 rows x 234 columns]"
      ]
     },
     "execution_count": 67,
     "metadata": {},
     "output_type": "execute_result"
    }
   ],
   "source": [
    "features_final.head()"
   ]
  },
  {
   "cell_type": "markdown",
   "metadata": {},
   "source": [
    "**Missing values imputed with mean for Reviews Per Month**"
   ]
  },
  {
   "cell_type": "code",
   "execution_count": 68,
   "metadata": {},
   "outputs": [
    {
     "data": {
      "text/plain": [
       "Index([], dtype='object')"
      ]
     },
     "execution_count": 68,
     "metadata": {},
     "output_type": "execute_result"
    }
   ],
   "source": [
    "features_final.columns[features_final.isnull().sum() > 1]"
   ]
  },
  {
   "cell_type": "code",
   "execution_count": 69,
   "metadata": {},
   "outputs": [
    {
     "data": {
      "text/plain": [
       "Index([], dtype='object')"
      ]
     },
     "execution_count": 69,
     "metadata": {},
     "output_type": "execute_result"
    }
   ],
   "source": [
    "features_final.reviews_per_month.fillna(features_final.reviews_per_month.mean(), inplace = True)\n",
    "\n",
    "features_final.columns[features_final.isnull().sum()> 1]"
   ]
  },
  {
   "cell_type": "markdown",
   "metadata": {},
   "source": [
    "**Shuffle and Split Data**\n",
    "\n",
    "Here we are going to split the dataset into 20% for testing and 80% for training dataset."
   ]
  },
  {
   "cell_type": "code",
   "execution_count": 70,
   "metadata": {},
   "outputs": [
    {
     "name": "stdout",
     "output_type": "stream",
     "text": [
      "Training set has (35453, 234) samples.\n",
      "Testing set has (8864, 234) samples.\n"
     ]
    }
   ],
   "source": [
    "#test train split 20% test 80% train\n",
    "X_train, X_test, y_train, y_test = train_test_split(features_final, list(price_raw.values), test_size = 0.2, random_state = 0)\n"
   ]
  },
  {
   "cell_type": "markdown",
   "metadata": {},
   "source": [
    "**Creating a function for  Training and testing Predicting**"
   ]
  },
  {
   "cell_type": "code",
   "execution_count": 71,
   "metadata": {},
   "outputs": [],
   "source": [
    "import time\n",
    "def train_predict(learner, sample_size, X_train, y_train, X_test, y_test): \n",
    "       #learner: ML algorithm to be trained and predicted\n",
    "       #sample_size: the size of samples\n",
    "       #X_train: features training set\n",
    "       #y_train: training set\n",
    "       #X_test: features testing set\n",
    "       #y_test: testing set\n",
    "    results = {}\n",
    "    learner.fit(X_train[:sample_size],y_train[:sample_size]\n",
    "        \n",
    "    # then get predictions on the first 300 training samples(X_train) using .predict()\n",
    "    predictions_test = learner.predict(X_test)\n",
    "    predictions_train = learner.predict(X_train[:300])\n",
    "            \n",
    "    results['acc_train'] = accuracy_score(y_train[:300],predictions_train)\n",
    "    results['acc_test'] = accuracy_score(y_test,predictions_test)\n",
    "    \n",
    "    # Compute F-score \n",
    "    results['f_train'] = fbeta_score(y_train[:300],predictions_train, beta = 0.5, average ='micro')\n",
    "    # Compute F-score on y_test\n",
    "    results['f_test'] = fbeta_score(y_test, predictions_test, beta = 0.5, average ='micro')\n",
    "    print(\"{} trained on {} samples.\".format(learner.__class__.__name__, sample_size))\n",
    "    return results"
   ]
  },
  {
   "cell_type": "markdown",
   "metadata": {},
   "source": [
    "# Analyze the dataset with differant ML algorithems"
   ]
  },
  {
   "cell_type": "markdown",
   "metadata": {},
   "source": [
    "**First we will check the accuracy on test and train dataset for ML algorithem Gaussian Naive Bayes, RandomForest and KNeighbors**"
   ]
  },
  {
   "cell_type": "code",
   "execution_count": 72,
   "metadata": {},
   "outputs": [
    {
     "name": "stdout",
     "output_type": "stream",
     "text": [
      "GaussianNB trained on 35453 samples.\n"
     ]
    },
    {
     "name": "stderr",
     "output_type": "stream",
     "text": [
      "/Users/jaydip/anaconda3/lib/python3.7/site-packages/sklearn/ensemble/forest.py:245: FutureWarning: The default value of n_estimators will change from 10 in version 0.20 to 100 in 0.22.\n",
      "  \"10 in version 0.20 to 100 in 0.22.\", FutureWarning)\n"
     ]
    },
    {
     "name": "stdout",
     "output_type": "stream",
     "text": [
      "RandomForestClassifier trained on 35453 samples.\n",
      "KNeighborsClassifier trained on 35453 samples.\n"
     ]
    }
   ],
   "source": [
    "A = GaussianNB()\n",
    "B = RandomForestClassifier(random_state = 1)\n",
    "C = KNeighborsClassifier(n_neighbors = 15)\n",
    "\n",
    "samples = int(len(y_train))\n",
    "\n",
    "# Collect results on the learners\n",
    "results = {}\n",
    "\n",
    "for clf in [A,B,C]:\n",
    "    clf_name = clf.__class__.__name__\n",
    "    \n",
    "    results[clf_name] = {}\n",
    "    \n",
    "    #for i, samples in enumerate([samples_1, samples_10, samples_100]):\n",
    "    results[clf_name] = train_predict(clf, samples, X_train, y_train, X_test, y_test)"
   ]
  },
  {
   "cell_type": "code",
   "execution_count": 73,
   "metadata": {},
   "outputs": [
    {
     "data": {
      "text/plain": [
       "{'GaussianNB': {'acc_train': 0.05,\n",
       "  'acc_test': 0.043659747292418775,\n",
       "  'f_train': 0.05,\n",
       "  'f_test': 0.043659747292418775},\n",
       " 'RandomForestClassifier': {'acc_train': 0.9833333333333333,\n",
       "  'acc_test': 0.06520758122743682,\n",
       "  'f_train': 0.9833333333333333,\n",
       "  'f_test': 0.06520758122743682},\n",
       " 'KNeighborsClassifier': {'acc_train': 0.13,\n",
       "  'acc_test': 0.03215252707581227,\n",
       "  'f_train': 0.13,\n",
       "  'f_test': 0.03215252707581227}}"
      ]
     },
     "execution_count": 73,
     "metadata": {},
     "output_type": "execute_result"
    }
   ],
   "source": [
    "results"
   ]
  },
  {
   "cell_type": "markdown",
   "metadata": {},
   "source": [
    "**After getting Result of accuracy on test and train dataset....**\n",
    "\n",
    "Random Forest Prediction Ensemble is most effective as accuracy is high as compare to two other algorithems.\n",
    "\n",
    "**Grid Search on Random Forest Classifier**\n",
    "\n",
    "Grid-searching is the process of scanning the data to configure optimal parameters for a given model. Grid-searching can be applied across machine learning to calculate the best parameters to use for any given model."
   ]
  },
  {
   "cell_type": "code",
   "execution_count": 74,
   "metadata": {},
   "outputs": [
    {
     "name": "stderr",
     "output_type": "stream",
     "text": [
      "/Users/jaydip/anaconda3/lib/python3.7/site-packages/sklearn/ensemble/forest.py:245: FutureWarning: The default value of n_estimators will change from 10 in version 0.20 to 100 in 0.22.\n",
      "  \"10 in version 0.20 to 100 in 0.22.\", FutureWarning)\n"
     ]
    },
    {
     "name": "stdout",
     "output_type": "stream",
     "text": [
      "Before cross-validation, the Random Forest Regressor score is: 0.16517319748983983 \n",
      "\n",
      "Max Features: 0.4\n",
      "Max Depth: 12\n",
      "Min Samples per Leaf: 8\n"
     ]
    },
    {
     "name": "stderr",
     "output_type": "stream",
     "text": [
      "/Users/jaydip/anaconda3/lib/python3.7/site-packages/sklearn/ensemble/forest.py:245: FutureWarning: The default value of n_estimators will change from 10 in version 0.20 to 100 in 0.22.\n",
      "  \"10 in version 0.20 to 100 in 0.22.\", FutureWarning)\n"
     ]
    },
    {
     "name": "stdout",
     "output_type": "stream",
     "text": [
      "After cross-validation, the random forest score is: 0.22788652324895284\n"
     ]
    }
   ],
   "source": [
    "from sklearn.ensemble import RandomForestRegressor\n",
    "\n",
    "def cv_optimize(clf, parameters, X, y, n_jobs=1, n_folds=5, score_func=None):\n",
    "    if score_func:\n",
    "        gs = GridSearchCV(clf, param_grid=parameters, cv=n_folds, n_jobs=n_jobs, scoring=score_func)\n",
    "    else:\n",
    "        gs = GridSearchCV(clf, param_grid=parameters, n_jobs=n_jobs, cv=n_folds)\n",
    "    gs.fit(X, y)\n",
    "\n",
    "    best = gs.best_estimator_\n",
    "    return best\n",
    "\n",
    "# gridsearchcv for Random Forest\n",
    "forest =  RandomForestRegressor()\n",
    "\n",
    "forest.fit(X_train, y_train)\n",
    "print('Before cross-validation, the Random Forest Regressor score is: {}'.format(forest.score(X_test, y_test)), '\\n')\n",
    "\n",
    "parameters = {\"max_depth\": [3, 5, 8, 10, 12], 'max_features': [0.2, 0.4, 0.6, 0.8], 'min_samples_leaf': [2, 5, 8, 12]}\n",
    "forest_new = cv_optimize(forest, parameters, X_train, y_train, n_jobs=10, n_folds=5, score_func=None)\n",
    "\n",
    "print('Max Features: {}'.format(forest_new.max_features))\n",
    "print('Max Depth: {}'.format(forest_new.max_depth))\n",
    "print('Min Samples per Leaf: {}'.format(forest_new.min_samples_leaf))\n",
    "\n",
    "best_forest = RandomForestRegressor(max_depth = forest_new.max_depth, max_features = forest_new.max_features, min_samples_leaf = forest_new.min_samples_leaf)\n",
    "best_forest.fit(X_train, y_train)\n",
    "print('After cross-validation, the random forest score is: {}'.format(best_forest.score(X_test, y_test)))"
   ]
  },
  {
   "cell_type": "markdown",
   "metadata": {},
   "source": [
    "## Linear Regression Model"
   ]
  },
  {
   "cell_type": "code",
   "execution_count": 75,
   "metadata": {},
   "outputs": [
    {
     "data": {
      "text/plain": [
       "-5.422538039973616e+25"
      ]
     },
     "execution_count": 75,
     "metadata": {},
     "output_type": "execute_result"
    }
   ],
   "source": [
    "lm_model = LinearRegression(normalize=True)\n",
    "lm_model.fit(X_train, y_train)\n",
    "y_test_preds = lm_model.predict(X_test)# Predictions here\n",
    "r2_test = r2_score(y_test, y_test_preds)\n",
    "\n",
    "r2_test"
   ]
  },
  {
   "cell_type": "code",
   "execution_count": 76,
   "metadata": {},
   "outputs": [
    {
     "data": {
      "text/plain": [
       "1.0928419253538521e+30"
      ]
     },
     "execution_count": 76,
     "metadata": {},
     "output_type": "execute_result"
    }
   ],
   "source": [
    "linear_mean_sq_err = mean_squared_error(y_test, y_test_preds)\n",
    "linear_mean_sq_err ** 1/2"
   ]
  },
  {
   "cell_type": "markdown",
   "metadata": {},
   "source": [
    "mean square error is the average of the square of the errors. The larger the number the larger the error. There is no correct value for MSE. Simply put, the lower the value the better and 0 means the model is perfect. Since there is no correct answer, the MSE’s basic value is in selecting one prediction model over another.\n",
    "\n",
    "Here we have r2=-5.4225e+25\n",
    "r2 compares the fit of the chosen model with that of a horizontal straight line. If the chosen model fits worse than a horizontal line, then r2 is negative. The model makes no sense at all given these data. It is clearly the wrong model."
   ]
  },
  {
   "cell_type": "markdown",
   "metadata": {},
   "source": [
    "## K- nearest Neighbour\n",
    "\n",
    "**Applying K-nearest Neighbours to Predict Airbnb prices in NYC**\n",
    "\n",
    "k-Nearest Neighbors is an algorithm that is useful for making classifications/predictions when there are potential non-linear boundaries separating classes or values of interest. Conceptually, knn examines the classes/values of the points around it to determine the value of the point of interest.\n",
    "\n"
   ]
  },
  {
   "cell_type": "code",
   "execution_count": 77,
   "metadata": {},
   "outputs": [
    {
     "data": {
      "text/html": [
       "<div>\n",
       "<style scoped>\n",
       "    .dataframe tbody tr th:only-of-type {\n",
       "        vertical-align: middle;\n",
       "    }\n",
       "\n",
       "    .dataframe tbody tr th {\n",
       "        vertical-align: top;\n",
       "    }\n",
       "\n",
       "    .dataframe thead th {\n",
       "        text-align: right;\n",
       "    }\n",
       "</style>\n",
       "<table border=\"1\" class=\"dataframe\">\n",
       "  <thead>\n",
       "    <tr style=\"text-align: right;\">\n",
       "      <th></th>\n",
       "      <th>id</th>\n",
       "      <th>host_id</th>\n",
       "      <th>neighbourhood_group</th>\n",
       "      <th>neighbourhood</th>\n",
       "      <th>latitude</th>\n",
       "      <th>longitude</th>\n",
       "      <th>room_type</th>\n",
       "      <th>minimum_nights</th>\n",
       "      <th>number_of_reviews</th>\n",
       "      <th>reviews_per_month</th>\n",
       "      <th>calculated_host_listings_count</th>\n",
       "      <th>availability_365</th>\n",
       "    </tr>\n",
       "  </thead>\n",
       "  <tbody>\n",
       "    <tr>\n",
       "      <td>0</td>\n",
       "      <td>18461891</td>\n",
       "      <td>916092</td>\n",
       "      <td>Queens</td>\n",
       "      <td>Ditmars Steinway</td>\n",
       "      <td>0.670155</td>\n",
       "      <td>0.620505</td>\n",
       "      <td>Entire home/apt</td>\n",
       "      <td>0.004003</td>\n",
       "      <td>0.000000</td>\n",
       "      <td>0.058579</td>\n",
       "      <td>0.0</td>\n",
       "      <td>0.000000</td>\n",
       "    </tr>\n",
       "    <tr>\n",
       "      <td>1</td>\n",
       "      <td>20702398</td>\n",
       "      <td>1457680</td>\n",
       "      <td>Bronx</td>\n",
       "      <td>City Island</td>\n",
       "      <td>0.853477</td>\n",
       "      <td>0.859368</td>\n",
       "      <td>Private room</td>\n",
       "      <td>0.000000</td>\n",
       "      <td>0.004090</td>\n",
       "      <td>0.081158</td>\n",
       "      <td>0.0</td>\n",
       "      <td>0.463014</td>\n",
       "    </tr>\n",
       "    <tr>\n",
       "      <td>2</td>\n",
       "      <td>6627449</td>\n",
       "      <td>13886510</td>\n",
       "      <td>Bronx</td>\n",
       "      <td>City Island</td>\n",
       "      <td>0.854903</td>\n",
       "      <td>0.859183</td>\n",
       "      <td>Entire home/apt</td>\n",
       "      <td>0.001601</td>\n",
       "      <td>0.042945</td>\n",
       "      <td>0.030995</td>\n",
       "      <td>0.0</td>\n",
       "      <td>0.994521</td>\n",
       "    </tr>\n",
       "    <tr>\n",
       "      <td>3</td>\n",
       "      <td>19949243</td>\n",
       "      <td>1149260</td>\n",
       "      <td>Bronx</td>\n",
       "      <td>City Island</td>\n",
       "      <td>0.852615</td>\n",
       "      <td>0.867162</td>\n",
       "      <td>Entire home/apt</td>\n",
       "      <td>0.001601</td>\n",
       "      <td>0.000000</td>\n",
       "      <td>0.058579</td>\n",
       "      <td>0.0</td>\n",
       "      <td>0.246575</td>\n",
       "    </tr>\n",
       "    <tr>\n",
       "      <td>4</td>\n",
       "      <td>1886820</td>\n",
       "      <td>9815788</td>\n",
       "      <td>Bronx</td>\n",
       "      <td>City Island</td>\n",
       "      <td>0.833822</td>\n",
       "      <td>0.865732</td>\n",
       "      <td>Entire home/apt</td>\n",
       "      <td>0.004804</td>\n",
       "      <td>0.000000</td>\n",
       "      <td>0.058579</td>\n",
       "      <td>0.0</td>\n",
       "      <td>1.000000</td>\n",
       "    </tr>\n",
       "  </tbody>\n",
       "</table>\n",
       "</div>"
      ],
      "text/plain": [
       "         id   host_id neighbourhood_group     neighbourhood  latitude  \\\n",
       "0  18461891    916092              Queens  Ditmars Steinway  0.670155   \n",
       "1  20702398   1457680               Bronx       City Island  0.853477   \n",
       "2   6627449  13886510               Bronx       City Island  0.854903   \n",
       "3  19949243   1149260               Bronx       City Island  0.852615   \n",
       "4   1886820   9815788               Bronx       City Island  0.833822   \n",
       "\n",
       "   longitude        room_type  minimum_nights  number_of_reviews  \\\n",
       "0   0.620505  Entire home/apt        0.004003           0.000000   \n",
       "1   0.859368     Private room        0.000000           0.004090   \n",
       "2   0.859183  Entire home/apt        0.001601           0.042945   \n",
       "3   0.867162  Entire home/apt        0.001601           0.000000   \n",
       "4   0.865732  Entire home/apt        0.004804           0.000000   \n",
       "\n",
       "   reviews_per_month  calculated_host_listings_count  availability_365  \n",
       "0           0.058579                             0.0          0.000000  \n",
       "1           0.081158                             0.0          0.463014  \n",
       "2           0.030995                             0.0          0.994521  \n",
       "3           0.058579                             0.0          0.246575  \n",
       "4           0.058579                             0.0          1.000000  "
      ]
     },
     "execution_count": 77,
     "metadata": {},
     "output_type": "execute_result"
    }
   ],
   "source": [
    "features_normalized.head()"
   ]
  },
  {
   "cell_type": "code",
   "execution_count": 78,
   "metadata": {},
   "outputs": [],
   "source": [
    "features_knn = features_normalized.drop([\"neighbourhood\",\"id\", \"host_id\"], axis = 1)"
   ]
  },
  {
   "cell_type": "code",
   "execution_count": 79,
   "metadata": {},
   "outputs": [
    {
     "data": {
      "text/plain": [
       "(5,)"
      ]
     },
     "execution_count": 79,
     "metadata": {},
     "output_type": "execute_result"
    }
   ],
   "source": [
    "features_knn.neighbourhood_group.unique().shape"
   ]
  },
  {
   "cell_type": "code",
   "execution_count": 80,
   "metadata": {},
   "outputs": [
    {
     "data": {
      "text/html": [
       "<div>\n",
       "<style scoped>\n",
       "    .dataframe tbody tr th:only-of-type {\n",
       "        vertical-align: middle;\n",
       "    }\n",
       "\n",
       "    .dataframe tbody tr th {\n",
       "        vertical-align: top;\n",
       "    }\n",
       "\n",
       "    .dataframe thead th {\n",
       "        text-align: right;\n",
       "    }\n",
       "</style>\n",
       "<table border=\"1\" class=\"dataframe\">\n",
       "  <thead>\n",
       "    <tr style=\"text-align: right;\">\n",
       "      <th></th>\n",
       "      <th>neighbourhood_group</th>\n",
       "      <th>latitude</th>\n",
       "      <th>longitude</th>\n",
       "      <th>room_type</th>\n",
       "      <th>minimum_nights</th>\n",
       "      <th>number_of_reviews</th>\n",
       "      <th>reviews_per_month</th>\n",
       "      <th>calculated_host_listings_count</th>\n",
       "      <th>availability_365</th>\n",
       "    </tr>\n",
       "  </thead>\n",
       "  <tbody>\n",
       "    <tr>\n",
       "      <td>0</td>\n",
       "      <td>Queens</td>\n",
       "      <td>0.670155</td>\n",
       "      <td>0.620505</td>\n",
       "      <td>Entire home/apt</td>\n",
       "      <td>0.004003</td>\n",
       "      <td>0.000000</td>\n",
       "      <td>0.058579</td>\n",
       "      <td>0.0</td>\n",
       "      <td>0.000000</td>\n",
       "    </tr>\n",
       "    <tr>\n",
       "      <td>1</td>\n",
       "      <td>Bronx</td>\n",
       "      <td>0.853477</td>\n",
       "      <td>0.859368</td>\n",
       "      <td>Private room</td>\n",
       "      <td>0.000000</td>\n",
       "      <td>0.004090</td>\n",
       "      <td>0.081158</td>\n",
       "      <td>0.0</td>\n",
       "      <td>0.463014</td>\n",
       "    </tr>\n",
       "    <tr>\n",
       "      <td>2</td>\n",
       "      <td>Bronx</td>\n",
       "      <td>0.854903</td>\n",
       "      <td>0.859183</td>\n",
       "      <td>Entire home/apt</td>\n",
       "      <td>0.001601</td>\n",
       "      <td>0.042945</td>\n",
       "      <td>0.030995</td>\n",
       "      <td>0.0</td>\n",
       "      <td>0.994521</td>\n",
       "    </tr>\n",
       "    <tr>\n",
       "      <td>3</td>\n",
       "      <td>Bronx</td>\n",
       "      <td>0.852615</td>\n",
       "      <td>0.867162</td>\n",
       "      <td>Entire home/apt</td>\n",
       "      <td>0.001601</td>\n",
       "      <td>0.000000</td>\n",
       "      <td>0.058579</td>\n",
       "      <td>0.0</td>\n",
       "      <td>0.246575</td>\n",
       "    </tr>\n",
       "    <tr>\n",
       "      <td>4</td>\n",
       "      <td>Bronx</td>\n",
       "      <td>0.833822</td>\n",
       "      <td>0.865732</td>\n",
       "      <td>Entire home/apt</td>\n",
       "      <td>0.004804</td>\n",
       "      <td>0.000000</td>\n",
       "      <td>0.058579</td>\n",
       "      <td>0.0</td>\n",
       "      <td>1.000000</td>\n",
       "    </tr>\n",
       "  </tbody>\n",
       "</table>\n",
       "</div>"
      ],
      "text/plain": [
       "  neighbourhood_group  latitude  longitude        room_type  minimum_nights  \\\n",
       "0              Queens  0.670155   0.620505  Entire home/apt        0.004003   \n",
       "1               Bronx  0.853477   0.859368     Private room        0.000000   \n",
       "2               Bronx  0.854903   0.859183  Entire home/apt        0.001601   \n",
       "3               Bronx  0.852615   0.867162  Entire home/apt        0.001601   \n",
       "4               Bronx  0.833822   0.865732  Entire home/apt        0.004804   \n",
       "\n",
       "   number_of_reviews  reviews_per_month  calculated_host_listings_count  \\\n",
       "0           0.000000           0.058579                             0.0   \n",
       "1           0.004090           0.081158                             0.0   \n",
       "2           0.042945           0.030995                             0.0   \n",
       "3           0.000000           0.058579                             0.0   \n",
       "4           0.000000           0.058579                             0.0   \n",
       "\n",
       "   availability_365  \n",
       "0          0.000000  \n",
       "1          0.463014  \n",
       "2          0.994521  \n",
       "3          0.246575  \n",
       "4          1.000000  "
      ]
     },
     "execution_count": 80,
     "metadata": {},
     "output_type": "execute_result"
    }
   ],
   "source": [
    "features_knn.head()"
   ]
  },
  {
   "cell_type": "code",
   "execution_count": 81,
   "metadata": {},
   "outputs": [],
   "source": [
    "features_knn = pd.get_dummies(features_knn)"
   ]
  },
  {
   "cell_type": "code",
   "execution_count": 82,
   "metadata": {},
   "outputs": [
    {
     "data": {
      "text/html": [
       "<div>\n",
       "<style scoped>\n",
       "    .dataframe tbody tr th:only-of-type {\n",
       "        vertical-align: middle;\n",
       "    }\n",
       "\n",
       "    .dataframe tbody tr th {\n",
       "        vertical-align: top;\n",
       "    }\n",
       "\n",
       "    .dataframe thead th {\n",
       "        text-align: right;\n",
       "    }\n",
       "</style>\n",
       "<table border=\"1\" class=\"dataframe\">\n",
       "  <thead>\n",
       "    <tr style=\"text-align: right;\">\n",
       "      <th></th>\n",
       "      <th>latitude</th>\n",
       "      <th>longitude</th>\n",
       "      <th>minimum_nights</th>\n",
       "      <th>number_of_reviews</th>\n",
       "      <th>reviews_per_month</th>\n",
       "      <th>calculated_host_listings_count</th>\n",
       "      <th>availability_365</th>\n",
       "      <th>neighbourhood_group_Bronx</th>\n",
       "      <th>neighbourhood_group_Brooklyn</th>\n",
       "      <th>neighbourhood_group_Manhattan</th>\n",
       "      <th>neighbourhood_group_Queens</th>\n",
       "      <th>neighbourhood_group_Staten Island</th>\n",
       "      <th>room_type_Entire home/apt</th>\n",
       "      <th>room_type_Private room</th>\n",
       "      <th>room_type_Shared room</th>\n",
       "    </tr>\n",
       "  </thead>\n",
       "  <tbody>\n",
       "    <tr>\n",
       "      <td>0</td>\n",
       "      <td>0.670155</td>\n",
       "      <td>0.620505</td>\n",
       "      <td>0.004003</td>\n",
       "      <td>0.000000</td>\n",
       "      <td>0.058579</td>\n",
       "      <td>0.0</td>\n",
       "      <td>0.000000</td>\n",
       "      <td>0</td>\n",
       "      <td>0</td>\n",
       "      <td>0</td>\n",
       "      <td>1</td>\n",
       "      <td>0</td>\n",
       "      <td>1</td>\n",
       "      <td>0</td>\n",
       "      <td>0</td>\n",
       "    </tr>\n",
       "    <tr>\n",
       "      <td>1</td>\n",
       "      <td>0.853477</td>\n",
       "      <td>0.859368</td>\n",
       "      <td>0.000000</td>\n",
       "      <td>0.004090</td>\n",
       "      <td>0.081158</td>\n",
       "      <td>0.0</td>\n",
       "      <td>0.463014</td>\n",
       "      <td>1</td>\n",
       "      <td>0</td>\n",
       "      <td>0</td>\n",
       "      <td>0</td>\n",
       "      <td>0</td>\n",
       "      <td>0</td>\n",
       "      <td>1</td>\n",
       "      <td>0</td>\n",
       "    </tr>\n",
       "    <tr>\n",
       "      <td>2</td>\n",
       "      <td>0.854903</td>\n",
       "      <td>0.859183</td>\n",
       "      <td>0.001601</td>\n",
       "      <td>0.042945</td>\n",
       "      <td>0.030995</td>\n",
       "      <td>0.0</td>\n",
       "      <td>0.994521</td>\n",
       "      <td>1</td>\n",
       "      <td>0</td>\n",
       "      <td>0</td>\n",
       "      <td>0</td>\n",
       "      <td>0</td>\n",
       "      <td>1</td>\n",
       "      <td>0</td>\n",
       "      <td>0</td>\n",
       "    </tr>\n",
       "    <tr>\n",
       "      <td>3</td>\n",
       "      <td>0.852615</td>\n",
       "      <td>0.867162</td>\n",
       "      <td>0.001601</td>\n",
       "      <td>0.000000</td>\n",
       "      <td>0.058579</td>\n",
       "      <td>0.0</td>\n",
       "      <td>0.246575</td>\n",
       "      <td>1</td>\n",
       "      <td>0</td>\n",
       "      <td>0</td>\n",
       "      <td>0</td>\n",
       "      <td>0</td>\n",
       "      <td>1</td>\n",
       "      <td>0</td>\n",
       "      <td>0</td>\n",
       "    </tr>\n",
       "    <tr>\n",
       "      <td>4</td>\n",
       "      <td>0.833822</td>\n",
       "      <td>0.865732</td>\n",
       "      <td>0.004804</td>\n",
       "      <td>0.000000</td>\n",
       "      <td>0.058579</td>\n",
       "      <td>0.0</td>\n",
       "      <td>1.000000</td>\n",
       "      <td>1</td>\n",
       "      <td>0</td>\n",
       "      <td>0</td>\n",
       "      <td>0</td>\n",
       "      <td>0</td>\n",
       "      <td>1</td>\n",
       "      <td>0</td>\n",
       "      <td>0</td>\n",
       "    </tr>\n",
       "  </tbody>\n",
       "</table>\n",
       "</div>"
      ],
      "text/plain": [
       "   latitude  longitude  minimum_nights  number_of_reviews  reviews_per_month  \\\n",
       "0  0.670155   0.620505        0.004003           0.000000           0.058579   \n",
       "1  0.853477   0.859368        0.000000           0.004090           0.081158   \n",
       "2  0.854903   0.859183        0.001601           0.042945           0.030995   \n",
       "3  0.852615   0.867162        0.001601           0.000000           0.058579   \n",
       "4  0.833822   0.865732        0.004804           0.000000           0.058579   \n",
       "\n",
       "   calculated_host_listings_count  availability_365  \\\n",
       "0                             0.0          0.000000   \n",
       "1                             0.0          0.463014   \n",
       "2                             0.0          0.994521   \n",
       "3                             0.0          0.246575   \n",
       "4                             0.0          1.000000   \n",
       "\n",
       "   neighbourhood_group_Bronx  neighbourhood_group_Brooklyn  \\\n",
       "0                          0                             0   \n",
       "1                          1                             0   \n",
       "2                          1                             0   \n",
       "3                          1                             0   \n",
       "4                          1                             0   \n",
       "\n",
       "   neighbourhood_group_Manhattan  neighbourhood_group_Queens  \\\n",
       "0                              0                           1   \n",
       "1                              0                           0   \n",
       "2                              0                           0   \n",
       "3                              0                           0   \n",
       "4                              0                           0   \n",
       "\n",
       "   neighbourhood_group_Staten Island  room_type_Entire home/apt  \\\n",
       "0                                  0                          1   \n",
       "1                                  0                          0   \n",
       "2                                  0                          1   \n",
       "3                                  0                          1   \n",
       "4                                  0                          1   \n",
       "\n",
       "   room_type_Private room  room_type_Shared room  \n",
       "0                       0                      0  \n",
       "1                       1                      0  \n",
       "2                       0                      0  \n",
       "3                       0                      0  \n",
       "4                       0                      0  "
      ]
     },
     "execution_count": 82,
     "metadata": {},
     "output_type": "execute_result"
    }
   ],
   "source": [
    "features_knn.head()"
   ]
  },
  {
   "cell_type": "code",
   "execution_count": 83,
   "metadata": {},
   "outputs": [],
   "source": [
    "knn_model = KNeighborsRegressor(algorithm = \"brute\")"
   ]
  },
  {
   "cell_type": "code",
   "execution_count": 84,
   "metadata": {},
   "outputs": [
    {
     "data": {
      "text/plain": [
       "KNeighborsRegressor(algorithm='brute', leaf_size=30, metric='minkowski',\n",
       "                    metric_params=None, n_jobs=None, n_neighbors=5, p=2,\n",
       "                    weights='uniform')"
      ]
     },
     "execution_count": 84,
     "metadata": {},
     "output_type": "execute_result"
    }
   ],
   "source": [
    "knn_model.fit(X_train,y_train)"
   ]
  },
  {
   "cell_type": "code",
   "execution_count": 107,
   "metadata": {},
   "outputs": [
    {
     "name": "stdout",
     "output_type": "stream",
     "text": [
      "-0.1486523789708465\n",
      "[165.2 111.4 139.4 ... 178.4 118.8 198.2]\n"
     ]
    }
   ],
   "source": [
    "knn_pred = knn_model.predict(X_test)\n",
    "knn_r2_test = r2_score(y_test, knn_pred)\n",
    "print(knn_r2_test)\n",
    "print(knn_pred)"
   ]
  },
  {
   "cell_type": "markdown",
   "metadata": {},
   "source": [
    "**knn_pred is prediction for price with knn algorithem.**"
   ]
  },
  {
   "cell_type": "code",
   "execution_count": 86,
   "metadata": {},
   "outputs": [
    {
     "data": {
      "text/plain": [
       "215.17245563351597"
      ]
     },
     "execution_count": 86,
     "metadata": {},
     "output_type": "execute_result"
    }
   ],
   "source": [
    "knn_mean_sq_err = mean_squared_error(y_test, knn_pred)\n",
    "knn_mean_sq_err ** (1/2)"
   ]
  },
  {
   "cell_type": "markdown",
   "metadata": {},
   "source": [
    "Befor cross validation Knn mean square eroor is 215.1724."
   ]
  },
  {
   "cell_type": "markdown",
   "metadata": {},
   "source": [
    "## Crossvalidation of KNN Classifier\n",
    "\n",
    "For knn classification, we are going to predict the the price using all the other variables within the data set."
   ]
  },
  {
   "cell_type": "code",
   "execution_count": 87,
   "metadata": {
    "collapsed": true
   },
   "outputs": [
    {
     "name": "stderr",
     "output_type": "stream",
     "text": [
      "/Users/jaydip/anaconda3/lib/python3.7/site-packages/sklearn/model_selection/_split.py:657: Warning: The least populated class in y has only 1 members, which is too few. The minimum number of members in any class cannot be less than n_splits=10.\n",
      "  % (min_groups, self.n_splits)), Warning)\n",
      "/Users/jaydip/anaconda3/lib/python3.7/site-packages/sklearn/model_selection/_split.py:657: Warning: The least populated class in y has only 1 members, which is too few. The minimum number of members in any class cannot be less than n_splits=10.\n",
      "  % (min_groups, self.n_splits)), Warning)\n",
      "/Users/jaydip/anaconda3/lib/python3.7/site-packages/sklearn/model_selection/_split.py:657: Warning: The least populated class in y has only 1 members, which is too few. The minimum number of members in any class cannot be less than n_splits=10.\n",
      "  % (min_groups, self.n_splits)), Warning)\n",
      "/Users/jaydip/anaconda3/lib/python3.7/site-packages/sklearn/model_selection/_split.py:657: Warning: The least populated class in y has only 1 members, which is too few. The minimum number of members in any class cannot be less than n_splits=10.\n",
      "  % (min_groups, self.n_splits)), Warning)\n",
      "/Users/jaydip/anaconda3/lib/python3.7/site-packages/sklearn/model_selection/_split.py:657: Warning: The least populated class in y has only 1 members, which is too few. The minimum number of members in any class cannot be less than n_splits=10.\n",
      "  % (min_groups, self.n_splits)), Warning)\n",
      "/Users/jaydip/anaconda3/lib/python3.7/site-packages/sklearn/model_selection/_split.py:657: Warning: The least populated class in y has only 1 members, which is too few. The minimum number of members in any class cannot be less than n_splits=10.\n",
      "  % (min_groups, self.n_splits)), Warning)\n",
      "/Users/jaydip/anaconda3/lib/python3.7/site-packages/sklearn/model_selection/_split.py:657: Warning: The least populated class in y has only 1 members, which is too few. The minimum number of members in any class cannot be less than n_splits=10.\n",
      "  % (min_groups, self.n_splits)), Warning)\n",
      "/Users/jaydip/anaconda3/lib/python3.7/site-packages/sklearn/model_selection/_split.py:657: Warning: The least populated class in y has only 1 members, which is too few. The minimum number of members in any class cannot be less than n_splits=10.\n",
      "  % (min_groups, self.n_splits)), Warning)\n",
      "/Users/jaydip/anaconda3/lib/python3.7/site-packages/sklearn/model_selection/_split.py:657: Warning: The least populated class in y has only 1 members, which is too few. The minimum number of members in any class cannot be less than n_splits=10.\n",
      "  % (min_groups, self.n_splits)), Warning)\n",
      "/Users/jaydip/anaconda3/lib/python3.7/site-packages/sklearn/model_selection/_split.py:657: Warning: The least populated class in y has only 1 members, which is too few. The minimum number of members in any class cannot be less than n_splits=10.\n",
      "  % (min_groups, self.n_splits)), Warning)\n",
      "/Users/jaydip/anaconda3/lib/python3.7/site-packages/sklearn/model_selection/_split.py:657: Warning: The least populated class in y has only 1 members, which is too few. The minimum number of members in any class cannot be less than n_splits=10.\n",
      "  % (min_groups, self.n_splits)), Warning)\n",
      "/Users/jaydip/anaconda3/lib/python3.7/site-packages/sklearn/model_selection/_split.py:657: Warning: The least populated class in y has only 1 members, which is too few. The minimum number of members in any class cannot be less than n_splits=10.\n",
      "  % (min_groups, self.n_splits)), Warning)\n",
      "/Users/jaydip/anaconda3/lib/python3.7/site-packages/sklearn/model_selection/_split.py:657: Warning: The least populated class in y has only 1 members, which is too few. The minimum number of members in any class cannot be less than n_splits=10.\n",
      "  % (min_groups, self.n_splits)), Warning)\n",
      "/Users/jaydip/anaconda3/lib/python3.7/site-packages/sklearn/model_selection/_split.py:657: Warning: The least populated class in y has only 1 members, which is too few. The minimum number of members in any class cannot be less than n_splits=10.\n",
      "  % (min_groups, self.n_splits)), Warning)\n",
      "/Users/jaydip/anaconda3/lib/python3.7/site-packages/sklearn/model_selection/_split.py:657: Warning: The least populated class in y has only 1 members, which is too few. The minimum number of members in any class cannot be less than n_splits=10.\n",
      "  % (min_groups, self.n_splits)), Warning)\n",
      "/Users/jaydip/anaconda3/lib/python3.7/site-packages/sklearn/model_selection/_split.py:657: Warning: The least populated class in y has only 1 members, which is too few. The minimum number of members in any class cannot be less than n_splits=10.\n",
      "  % (min_groups, self.n_splits)), Warning)\n",
      "/Users/jaydip/anaconda3/lib/python3.7/site-packages/sklearn/model_selection/_split.py:657: Warning: The least populated class in y has only 1 members, which is too few. The minimum number of members in any class cannot be less than n_splits=10.\n",
      "  % (min_groups, self.n_splits)), Warning)\n",
      "/Users/jaydip/anaconda3/lib/python3.7/site-packages/sklearn/model_selection/_split.py:657: Warning: The least populated class in y has only 1 members, which is too few. The minimum number of members in any class cannot be less than n_splits=10.\n",
      "  % (min_groups, self.n_splits)), Warning)\n",
      "/Users/jaydip/anaconda3/lib/python3.7/site-packages/sklearn/model_selection/_split.py:657: Warning: The least populated class in y has only 1 members, which is too few. The minimum number of members in any class cannot be less than n_splits=10.\n",
      "  % (min_groups, self.n_splits)), Warning)\n",
      "/Users/jaydip/anaconda3/lib/python3.7/site-packages/sklearn/model_selection/_split.py:657: Warning: The least populated class in y has only 1 members, which is too few. The minimum number of members in any class cannot be less than n_splits=10.\n",
      "  % (min_groups, self.n_splits)), Warning)\n",
      "/Users/jaydip/anaconda3/lib/python3.7/site-packages/sklearn/model_selection/_split.py:657: Warning: The least populated class in y has only 1 members, which is too few. The minimum number of members in any class cannot be less than n_splits=10.\n",
      "  % (min_groups, self.n_splits)), Warning)\n",
      "/Users/jaydip/anaconda3/lib/python3.7/site-packages/sklearn/model_selection/_split.py:657: Warning: The least populated class in y has only 1 members, which is too few. The minimum number of members in any class cannot be less than n_splits=10.\n",
      "  % (min_groups, self.n_splits)), Warning)\n",
      "/Users/jaydip/anaconda3/lib/python3.7/site-packages/sklearn/model_selection/_split.py:657: Warning: The least populated class in y has only 1 members, which is too few. The minimum number of members in any class cannot be less than n_splits=10.\n",
      "  % (min_groups, self.n_splits)), Warning)\n",
      "/Users/jaydip/anaconda3/lib/python3.7/site-packages/sklearn/model_selection/_split.py:657: Warning: The least populated class in y has only 1 members, which is too few. The minimum number of members in any class cannot be less than n_splits=10.\n",
      "  % (min_groups, self.n_splits)), Warning)\n",
      "/Users/jaydip/anaconda3/lib/python3.7/site-packages/sklearn/model_selection/_split.py:657: Warning: The least populated class in y has only 1 members, which is too few. The minimum number of members in any class cannot be less than n_splits=10.\n",
      "  % (min_groups, self.n_splits)), Warning)\n",
      "/Users/jaydip/anaconda3/lib/python3.7/site-packages/sklearn/model_selection/_split.py:657: Warning: The least populated class in y has only 1 members, which is too few. The minimum number of members in any class cannot be less than n_splits=10.\n",
      "  % (min_groups, self.n_splits)), Warning)\n",
      "/Users/jaydip/anaconda3/lib/python3.7/site-packages/sklearn/model_selection/_split.py:657: Warning: The least populated class in y has only 1 members, which is too few. The minimum number of members in any class cannot be less than n_splits=10.\n",
      "  % (min_groups, self.n_splits)), Warning)\n",
      "/Users/jaydip/anaconda3/lib/python3.7/site-packages/sklearn/model_selection/_split.py:657: Warning: The least populated class in y has only 1 members, which is too few. The minimum number of members in any class cannot be less than n_splits=10.\n",
      "  % (min_groups, self.n_splits)), Warning)\n",
      "/Users/jaydip/anaconda3/lib/python3.7/site-packages/sklearn/model_selection/_split.py:657: Warning: The least populated class in y has only 1 members, which is too few. The minimum number of members in any class cannot be less than n_splits=10.\n",
      "  % (min_groups, self.n_splits)), Warning)\n"
     ]
    },
    {
     "name": "stderr",
     "output_type": "stream",
     "text": [
      "/Users/jaydip/anaconda3/lib/python3.7/site-packages/sklearn/model_selection/_split.py:657: Warning: The least populated class in y has only 1 members, which is too few. The minimum number of members in any class cannot be less than n_splits=10.\n",
      "  % (min_groups, self.n_splits)), Warning)\n",
      "/Users/jaydip/anaconda3/lib/python3.7/site-packages/sklearn/model_selection/_split.py:657: Warning: The least populated class in y has only 1 members, which is too few. The minimum number of members in any class cannot be less than n_splits=10.\n",
      "  % (min_groups, self.n_splits)), Warning)\n",
      "/Users/jaydip/anaconda3/lib/python3.7/site-packages/sklearn/model_selection/_split.py:657: Warning: The least populated class in y has only 1 members, which is too few. The minimum number of members in any class cannot be less than n_splits=10.\n",
      "  % (min_groups, self.n_splits)), Warning)\n",
      "/Users/jaydip/anaconda3/lib/python3.7/site-packages/sklearn/model_selection/_split.py:657: Warning: The least populated class in y has only 1 members, which is too few. The minimum number of members in any class cannot be less than n_splits=10.\n",
      "  % (min_groups, self.n_splits)), Warning)\n",
      "/Users/jaydip/anaconda3/lib/python3.7/site-packages/sklearn/model_selection/_split.py:657: Warning: The least populated class in y has only 1 members, which is too few. The minimum number of members in any class cannot be less than n_splits=10.\n",
      "  % (min_groups, self.n_splits)), Warning)\n",
      "/Users/jaydip/anaconda3/lib/python3.7/site-packages/sklearn/model_selection/_split.py:657: Warning: The least populated class in y has only 1 members, which is too few. The minimum number of members in any class cannot be less than n_splits=10.\n",
      "  % (min_groups, self.n_splits)), Warning)\n",
      "/Users/jaydip/anaconda3/lib/python3.7/site-packages/sklearn/model_selection/_split.py:657: Warning: The least populated class in y has only 1 members, which is too few. The minimum number of members in any class cannot be less than n_splits=10.\n",
      "  % (min_groups, self.n_splits)), Warning)\n",
      "/Users/jaydip/anaconda3/lib/python3.7/site-packages/sklearn/model_selection/_split.py:657: Warning: The least populated class in y has only 1 members, which is too few. The minimum number of members in any class cannot be less than n_splits=10.\n",
      "  % (min_groups, self.n_splits)), Warning)\n",
      "/Users/jaydip/anaconda3/lib/python3.7/site-packages/sklearn/model_selection/_split.py:657: Warning: The least populated class in y has only 1 members, which is too few. The minimum number of members in any class cannot be less than n_splits=10.\n",
      "  % (min_groups, self.n_splits)), Warning)\n",
      "/Users/jaydip/anaconda3/lib/python3.7/site-packages/sklearn/model_selection/_split.py:657: Warning: The least populated class in y has only 1 members, which is too few. The minimum number of members in any class cannot be less than n_splits=10.\n",
      "  % (min_groups, self.n_splits)), Warning)\n",
      "/Users/jaydip/anaconda3/lib/python3.7/site-packages/sklearn/model_selection/_split.py:657: Warning: The least populated class in y has only 1 members, which is too few. The minimum number of members in any class cannot be less than n_splits=10.\n",
      "  % (min_groups, self.n_splits)), Warning)\n",
      "/Users/jaydip/anaconda3/lib/python3.7/site-packages/sklearn/model_selection/_split.py:657: Warning: The least populated class in y has only 1 members, which is too few. The minimum number of members in any class cannot be less than n_splits=10.\n",
      "  % (min_groups, self.n_splits)), Warning)\n",
      "/Users/jaydip/anaconda3/lib/python3.7/site-packages/sklearn/model_selection/_split.py:657: Warning: The least populated class in y has only 1 members, which is too few. The minimum number of members in any class cannot be less than n_splits=10.\n",
      "  % (min_groups, self.n_splits)), Warning)\n",
      "/Users/jaydip/anaconda3/lib/python3.7/site-packages/sklearn/model_selection/_split.py:657: Warning: The least populated class in y has only 1 members, which is too few. The minimum number of members in any class cannot be less than n_splits=10.\n",
      "  % (min_groups, self.n_splits)), Warning)\n",
      "/Users/jaydip/anaconda3/lib/python3.7/site-packages/sklearn/model_selection/_split.py:657: Warning: The least populated class in y has only 1 members, which is too few. The minimum number of members in any class cannot be less than n_splits=10.\n",
      "  % (min_groups, self.n_splits)), Warning)\n",
      "/Users/jaydip/anaconda3/lib/python3.7/site-packages/sklearn/model_selection/_split.py:657: Warning: The least populated class in y has only 1 members, which is too few. The minimum number of members in any class cannot be less than n_splits=10.\n",
      "  % (min_groups, self.n_splits)), Warning)\n",
      "/Users/jaydip/anaconda3/lib/python3.7/site-packages/sklearn/model_selection/_split.py:657: Warning: The least populated class in y has only 1 members, which is too few. The minimum number of members in any class cannot be less than n_splits=10.\n",
      "  % (min_groups, self.n_splits)), Warning)\n",
      "/Users/jaydip/anaconda3/lib/python3.7/site-packages/sklearn/model_selection/_split.py:657: Warning: The least populated class in y has only 1 members, which is too few. The minimum number of members in any class cannot be less than n_splits=10.\n",
      "  % (min_groups, self.n_splits)), Warning)\n",
      "/Users/jaydip/anaconda3/lib/python3.7/site-packages/sklearn/model_selection/_split.py:657: Warning: The least populated class in y has only 1 members, which is too few. The minimum number of members in any class cannot be less than n_splits=10.\n",
      "  % (min_groups, self.n_splits)), Warning)\n",
      "/Users/jaydip/anaconda3/lib/python3.7/site-packages/sklearn/model_selection/_split.py:657: Warning: The least populated class in y has only 1 members, which is too few. The minimum number of members in any class cannot be less than n_splits=10.\n",
      "  % (min_groups, self.n_splits)), Warning)\n",
      "/Users/jaydip/anaconda3/lib/python3.7/site-packages/sklearn/model_selection/_split.py:657: Warning: The least populated class in y has only 1 members, which is too few. The minimum number of members in any class cannot be less than n_splits=10.\n",
      "  % (min_groups, self.n_splits)), Warning)\n"
     ]
    }
   ],
   "source": [
    "# Creating foldings K for KNN\n",
    "knn_neighbors = list(range(1,100))\n",
    "neighbors = list(filter(lambda x: x % 2 != 0, knn_neighbors))\n",
    "\n",
    "cv_scores = []\n",
    "# perform 10-fold cross validation\n",
    "for k in neighbors:\n",
    "    knn = KNeighborsClassifier(n_neighbors = k)\n",
    "    scores = cross_val_score(knn, X_train, y_train, cv = 10, scoring = \"accuracy\")\n",
    "    cv_scores.append(scores.mean())"
   ]
  },
  {
   "cell_type": "code",
   "execution_count": 88,
   "metadata": {},
   "outputs": [
    {
     "name": "stdout",
     "output_type": "stream",
     "text": [
      "[1, 3, 5, 7, 9, 11, 13, 15, 17, 19, 21, 23, 25, 27, 29, 31, 33, 35, 37, 39, 41, 43, 45, 47, 49, 51, 53, 55, 57, 59, 61, 63, 65, 67, 69, 71, 73, 75, 77, 79, 81, 83, 85, 87, 89, 91, 93, 95, 97, 99]\n"
     ]
    }
   ],
   "source": [
    "MSE = [1 - x for x in cv_scores]\n",
    "knn_neighbors[MSE.index(min(MSE))]\n",
    "len(cv_scores)\n",
    "print(neighbors)"
   ]
  },
  {
   "cell_type": "code",
   "execution_count": 89,
   "metadata": {},
   "outputs": [
    {
     "data": {
      "image/png": "[encoded data removed]",
      "text/plain": [
       "<Figure size 432x288 with 1 Axes>"
      ]
     },
     "metadata": {
      "needs_background": "light"
     },
     "output_type": "display_data"
    }
   ],
   "source": [
    "# determining best k\n",
    "optimal_k = neighbors[MSE.index(min(MSE))]\n",
    "# plot error vs k\n",
    "plt.plot(neighbors, MSE)\n",
    "plt.xlabel('Number of Neighbors K')\n",
    "plt.ylabel('Misclassification Error')\n",
    "plt.show()"
   ]
  },
  {
   "cell_type": "markdown",
   "metadata": {},
   "source": [
    "Graph shows diff k values from 0 to 100 and respective classificationj error."
   ]
  },
  {
   "cell_type": "markdown",
   "metadata": {},
   "source": [
    "## Crossvalidation of KNN Regressor\n",
    "\n",
    "knn involves calculating distances between datapoints, we must use numeric variables only. This only applies to the predictor variables. The outcome variable for k-NN regression should already be a numeric variable."
   ]
  },
  {
   "cell_type": "code",
   "execution_count": 90,
   "metadata": {},
   "outputs": [],
   "source": [
    "# Creating k fold for KNN\n",
    "knn_neighbors = list(range(1,100))\n",
    "neighbors = list(filter(lambda x: x % 2 != 0, knn_neighbors))\n",
    "\n",
    "cv_scores_knn_reg = []\n",
    "#10-fold cross validation\n",
    "for k in neighbors:\n",
    "    knn = KNeighborsRegressor(n_neighbors = k, n_jobs = -1,algorithm = \"brute\")\n",
    "    scores = cross_val_score(knn, X_train, y_train, cv = 10, scoring = \"explained_variance\", n_jobs = -1)\n",
    "    cv_scores_knn_reg.append(scores.mean())"
   ]
  },
  {
   "cell_type": "markdown",
   "metadata": {},
   "source": [
    "**Error Rate for Different K values for KNN Regressor**"
   ]
  },
  {
   "cell_type": "code",
   "execution_count": 91,
   "metadata": {},
   "outputs": [
    {
     "name": "stdout",
     "output_type": "stream",
     "text": [
      "RMSE value for k =  1 is: 251.31738055126235\n",
      "R2 value for k =  1 is: -0.5669686685583315\n",
      "RMSE value for k =  2 is: 233.62016824308597\n",
      "R2 value for k =  2 is: -0.3540538259261796\n",
      "RMSE value for k =  3 is: 221.60049358138946\n",
      "R2 value for k =  3 is: -0.21830691907308797\n",
      "RMSE value for k =  4 is: 219.6926079806824\n",
      "R2 value for k =  4 is: -0.1974190213324556\n",
      "RMSE value for k =  5 is: 215.17245563351597\n",
      "R2 value for k =  5 is: -0.1486523789708465\n",
      "RMSE value for k =  6 is: 212.29721742346763\n",
      "R2 value for k =  6 is: -0.11815978265781713\n",
      "RMSE value for k =  7 is: 208.5771501955907\n",
      "R2 value for k =  7 is: -0.0793162670968306\n",
      "RMSE value for k =  8 is: 207.73901111470576\n",
      "R2 value for k =  8 is: -0.07065952207569914\n",
      "RMSE value for k =  9 is: 207.46911328980605\n",
      "R2 value for k =  9 is: -0.06787929357342204\n",
      "RMSE value for k =  10 is: 206.8078067336743\n",
      "R2 value for k =  10 is: -0.06108242564711297\n",
      "RMSE value for k =  11 is: 206.63386218177465\n",
      "R2 value for k =  11 is: -0.05929823877397444\n",
      "RMSE value for k =  12 is: 206.90649236307706\n",
      "R2 value for k =  12 is: -0.062095332969768435\n",
      "RMSE value for k =  13 is: 206.12135673300764\n",
      "R2 value for k =  13 is: -0.0540500877489154\n",
      "RMSE value for k =  14 is: 205.3654562988071\n",
      "R2 value for k =  14 is: -0.04633331376151428\n",
      "RMSE value for k =  15 is: 204.94845789026195\n",
      "R2 value for k =  15 is: -0.042088428986672755\n",
      "RMSE value for k =  16 is: 204.42532333053313\n",
      "R2 value for k =  16 is: -0.0367753203012644\n",
      "RMSE value for k =  17 is: 204.1003943798704\n",
      "R2 value for k =  17 is: -0.03348208263799579\n",
      "RMSE value for k =  18 is: 203.94079253913364\n",
      "R2 value for k =  18 is: -0.03186639589326168\n",
      "RMSE value for k =  19 is: 204.20501270473602\n",
      "R2 value for k =  19 is: -0.03454184418436901\n",
      "RMSE value for k =  20 is: 203.94406745074218\n",
      "R2 value for k =  20 is: -0.031899535887754515\n",
      "RMSE value for k =  21 is: 203.89891279174802\n",
      "R2 value for k =  21 is: -0.031442646761217\n",
      "RMSE value for k =  22 is: 203.55417722305737\n",
      "R2 value for k =  22 is: -0.027957837803346486\n",
      "RMSE value for k =  23 is: 203.39744123898325\n",
      "R2 value for k =  23 is: -0.026375399600817362\n",
      "RMSE value for k =  24 is: 203.2958699851008\n",
      "R2 value for k =  24 is: -0.02535056658655943\n",
      "RMSE value for k =  25 is: 202.9944277013481\n",
      "R2 value for k =  25 is: -0.02231209005238033\n",
      "RMSE value for k =  26 is: 202.82885089129326\n",
      "R2 value for k =  26 is: -0.020645028135322985\n",
      "RMSE value for k =  27 is: 202.6483342138396\n",
      "R2 value for k =  27 is: -0.018829098491700336\n",
      "RMSE value for k =  28 is: 202.45222520894785\n",
      "R2 value for k =  28 is: -0.016858148329318867\n",
      "RMSE value for k =  29 is: 202.37918847452377\n",
      "R2 value for k =  29 is: -0.016124596480476372\n",
      "RMSE value for k =  30 is: 202.25308799029375\n",
      "R2 value for k =  30 is: -0.014858716474112077\n",
      "RMSE value for k =  31 is: 202.1655792829344\n",
      "R2 value for k =  31 is: -0.013980709983791417\n",
      "RMSE value for k =  32 is: 202.1265583279877\n",
      "R2 value for k =  32 is: -0.0135893211303455\n",
      "RMSE value for k =  33 is: 202.056347768015\n",
      "R2 value for k =  33 is: -0.012885283872220654\n",
      "RMSE value for k =  34 is: 201.98637805146709\n",
      "R2 value for k =  34 is: -0.012183905013835927\n",
      "RMSE value for k =  35 is: 201.9689847153477\n",
      "R2 value for k =  35 is: -0.012009591309738221\n",
      "RMSE value for k =  36 is: 201.87888543084347\n",
      "R2 value for k =  36 is: -0.011106868527710922\n",
      "RMSE value for k =  37 is: 201.87261431107504\n",
      "R2 value for k =  37 is: -0.011044051915923836\n",
      "RMSE value for k =  38 is: 201.82504909159746\n",
      "R2 value for k =  38 is: -0.010567663705962183\n",
      "RMSE value for k =  39 is: 201.65234895706234\n",
      "R2 value for k =  39 is: -0.0088389337753223\n",
      "RMSE value for k =  40 is: 201.64073008239598\n",
      "R2 value for k =  40 is: -0.008722681864527626\n",
      "RMSE value for k =  41 is: 201.67214327241032\n",
      "R2 value for k =  41 is: -0.009036999963906833\n",
      "RMSE value for k =  42 is: 201.59231561986297\n",
      "R2 value for k =  42 is: -0.00823834614971286\n",
      "RMSE value for k =  43 is: 201.5451242619825\n",
      "R2 value for k =  43 is: -0.007766358242968119\n",
      "RMSE value for k =  44 is: 201.49622998630505\n",
      "R2 value for k =  44 is: -0.007277455031325708\n",
      "RMSE value for k =  45 is: 201.40759052673067\n",
      "R2 value for k =  45 is: -0.006391434574780641\n",
      "RMSE value for k =  46 is: 201.36557555988787\n",
      "R2 value for k =  46 is: -0.005971598437189085\n",
      "RMSE value for k =  47 is: 201.19184210319094\n",
      "R2 value for k =  47 is: -0.004236490253578751\n",
      "RMSE value for k =  48 is: 201.20005215506208\n",
      "R2 value for k =  48 is: -0.004318451846190952\n",
      "RMSE value for k =  49 is: 201.1493775964524\n",
      "R2 value for k =  49 is: -0.003812617134310914\n",
      "RMSE value for k =  50 is: 201.07301768393359\n",
      "R2 value for k =  50 is: -0.0030506312361711085\n"
     ]
    }
   ],
   "source": [
    "rmse_val = [] #to store rmse values for different k\n",
    "r2_val = []\n",
    "for K in range(50):\n",
    "    K = K+1\n",
    "    model = KNeighborsRegressor(n_neighbors = K)\n",
    "\n",
    "    model.fit(X_train, y_train)  #fit the model\n",
    "    pred_knn_reg =model.predict(X_test) #make prediction on test set\n",
    "    rmse_knn_reg = (mean_squared_error(y_test,pred_knn_reg)) ** (1/2) #calculate rmse\n",
    "    r2_knn_reg = r2_score(y_test, pred_knn_reg)\n",
    "    rmse_val.append(rmse_knn_reg) #store rmse values\n",
    "    r2_val.append(r2_knn_reg)\n",
    "    print('RMSE value for k = ' , K , 'is:', rmse_knn_reg)\n",
    "    print('R2 value for k = ' , K , 'is:', r2_knn_reg)"
   ]
  },
  {
   "cell_type": "markdown",
   "metadata": {},
   "source": [
    "The RMSE value clearly shows it is going down for K value between 1 and 50. "
   ]
  },
  {
   "cell_type": "markdown",
   "metadata": {},
   "source": [
    "**RMSE KNN Regressor Plot**"
   ]
  },
  {
   "cell_type": "code",
   "execution_count": 93,
   "metadata": {},
   "outputs": [
    {
     "data": {
      "text/plain": [
       "<matplotlib.axes._subplots.AxesSubplot at 0x1a1d71e208>"
      ]
     },
     "execution_count": 93,
     "metadata": {},
     "output_type": "execute_result"
    },
    {
     "data": {
      "image/png": "[encoded data removed]",
      "text/plain": [
       "<Figure size 432x288 with 1 Axes>"
      ]
     },
     "metadata": {
      "needs_background": "light"
     },
     "output_type": "display_data"
    }
   ],
   "source": [
    "#plotting the rmse values against k values\n",
    "curve = pd.DataFrame(rmse_val) #elbow curve \n",
    "curve.plot()"
   ]
  },
  {
   "cell_type": "markdown",
   "metadata": {},
   "source": [
    "**R2 KNN Regressor Plot**"
   ]
  },
  {
   "cell_type": "code",
   "execution_count": 94,
   "metadata": {},
   "outputs": [
    {
     "data": {
      "text/plain": [
       "<matplotlib.axes._subplots.AxesSubplot at 0x1a1d5d07b8>"
      ]
     },
     "execution_count": 94,
     "metadata": {},
     "output_type": "execute_result"
    },
    {
     "data": {
      "image/png": "[encoded data removed]",
      "text/plain": [
       "<Figure size 432x288 with 1 Axes>"
      ]
     },
     "metadata": {
      "needs_background": "light"
     },
     "output_type": "display_data"
    }
   ],
   "source": [
    "#plotting the rmse values against k values\n",
    "curve = pd.DataFrame(r2_val) #elbow curve \n",
    "curve.plot()"
   ]
  },
  {
   "cell_type": "code",
   "execution_count": 95,
   "metadata": {},
   "outputs": [],
   "source": [
    "#predicting on the test set and creating submission file\n",
    "predict_knn_reg_2 = model.predict(X_test)"
   ]
  },
  {
   "cell_type": "code",
   "execution_count": 96,
   "metadata": {},
   "outputs": [
    {
     "data": {
      "text/plain": [
       "201.07301768393359"
      ]
     },
     "execution_count": 96,
     "metadata": {},
     "output_type": "execute_result"
    }
   ],
   "source": [
    "knn_mean_sq_err_2 = mean_squared_error(y_test, predict_knn_reg_2)\n",
    "\n",
    "knn_mean_sq_err_2 ** (1/2)"
   ]
  },
  {
   "cell_type": "markdown",
   "metadata": {},
   "source": [
    "After cross validation knn mean square error get reduce which is equal to **201.0730.**"
   ]
  },
  {
   "cell_type": "markdown",
   "metadata": {},
   "source": [
    "**Grid Search on KNN Regressor**\n",
    "\n",
    "As we can see from the root mean square error vs diff k value graph, error start getting constant after k value 30. So, we will find knn gerressor for best k value from 30 to 40."
   ]
  },
  {
   "cell_type": "code",
   "execution_count": 97,
   "metadata": {},
   "outputs": [
    {
     "data": {
      "text/plain": [
       "{'n_neighbors': 40}"
      ]
     },
     "execution_count": 97,
     "metadata": {},
     "output_type": "execute_result"
    }
   ],
   "source": [
    "params = {'n_neighbors':[30,31,32,33,34,35,36,37,38,39,40]}\n",
    "\n",
    "knn_reg = KNeighborsRegressor()\n",
    "\n",
    "model_knn_reg = GridSearchCV(knn_reg, params, cv=5)\n",
    "model_knn_reg.fit(X_train,y_train)\n",
    "model_knn_reg.best_params_"
   ]
  },
  {
   "cell_type": "code",
   "execution_count": 98,
   "metadata": {},
   "outputs": [],
   "source": [
    "knn = KNeighborsClassifier(n_neighbors = k)"
   ]
  },
  {
   "cell_type": "markdown",
   "metadata": {},
   "source": [
    "**K = 40 - KNN Regressor Predictions**"
   ]
  },
  {
   "cell_type": "code",
   "execution_count": 99,
   "metadata": {},
   "outputs": [],
   "source": [
    "knn_pred_final = KNeighborsRegressor(n_neighbors = 40)\n",
    "model_knn_reg.fit(X_train,y_train)\n",
    "predict_knn_reg_final = model.predict(X_test)"
   ]
  },
  {
   "cell_type": "code",
   "execution_count": 100,
   "metadata": {},
   "outputs": [
    {
     "data": {
      "text/plain": [
       "KNeighborsRegressor(algorithm='auto', leaf_size=30, metric='minkowski',\n",
       "                    metric_params=None, n_jobs=None, n_neighbors=40, p=2,\n",
       "                    weights='uniform')"
      ]
     },
     "execution_count": 100,
     "metadata": {},
     "output_type": "execute_result"
    }
   ],
   "source": [
    "knn_pred_final"
   ]
  },
  {
   "cell_type": "code",
   "execution_count": 101,
   "metadata": {},
   "outputs": [
    {
     "data": {
      "text/plain": [
       "201.07301768393359"
      ]
     },
     "execution_count": 101,
     "metadata": {},
     "output_type": "execute_result"
    }
   ],
   "source": [
    "knn_mean_sq_err_3 = mean_squared_error(y_test, predict_knn_reg_final)\n",
    "\n",
    "rmse_knn_final = knn_mean_sq_err_3 ** (1/2)\n",
    "\n",
    "rmse_knn_final"
   ]
  },
  {
   "cell_type": "code",
   "execution_count": 102,
   "metadata": {},
   "outputs": [
    {
     "data": {
      "text/plain": [
       "-0.0030506312361711085"
      ]
     },
     "execution_count": 102,
     "metadata": {},
     "output_type": "execute_result"
    }
   ],
   "source": [
    "r2_knn_final = r2_score(y_test, predict_knn_reg_final )\n",
    "\n",
    "r2_knn_final"
   ]
  },
  {
   "cell_type": "markdown",
   "metadata": {},
   "source": [
    "So, we can say that after cross validatin and after getting best k value which is 40, we will get best root mean square error **201.0730.**"
   ]
  },
  {
   "cell_type": "code",
   "execution_count": null,
   "metadata": {},
   "outputs": [],
   "source": []
  }
 ],
 "metadata": {
  "kernelspec": {
   "display_name": "Python 3",
   "language": "python",
   "name": "python3"
  },
  "language_info": {
   "codemirror_mode": {
    "name": "ipython",
    "version": 3
   },
   "file_extension": ".py",
   "mimetype": "text/x-python",
   "name": "python",
   "nbconvert_exporter": "python",
   "pygments_lexer": "ipython3",
   "version": "3.7.3"
  }
 },
 "nbformat": 4,
 "nbformat_minor": 2
}
